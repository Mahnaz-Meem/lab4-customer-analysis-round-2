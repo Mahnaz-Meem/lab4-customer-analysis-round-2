{
 "cells": [
  {
   "cell_type": "markdown",
   "id": "ac51e4c2",
   "metadata": {},
   "source": [
    "For this lab, we will be using the marketing_customer_analysis.csv file that you can find in the files_for_lab folder. Check out the files_for_lab/about.md to get more information if you are using the Online Excel.\n",
    "\n",
    "Note: For the next labs we will be using the same data file. Please save the code, so that you can re-use it later in the labs following this lab.\n",
    "\n",
    "Dealing with the data\n",
    "Show the dataframe shape.\n",
    "Standardize header names.\n",
    "Which columns are numerical?\n",
    "Which columns are categorical?\n",
    "Check and deal with NaN values.\n",
    "Datetime format - Extract the months from the dataset and store in a separate column. Then filter the data to show only the information for the first quarter , ie. January, February and March. Hint: If data from March does not exist, consider only January and February.\n",
    "BONUS: Put all the previously mentioned data transformations into a function."
   ]
  },
  {
   "cell_type": "code",
   "execution_count": 42,
   "id": "972184b1",
   "metadata": {},
   "outputs": [],
   "source": [
    "import pandas as pd\n",
    "import numpy as np"
   ]
  },
  {
   "cell_type": "code",
   "execution_count": 43,
   "id": "8892392f",
   "metadata": {},
   "outputs": [],
   "source": [
    "data = pd.read_csv('C:/Users/mahna/Ironhack/Week1/Day2/Afternoon/lab4-customer-analysis-round-2/files_for_lab/csv_files/marketing_customer_analysis.csv')"
   ]
  },
  {
   "cell_type": "markdown",
   "id": "1c7ecad8",
   "metadata": {},
   "source": [
    "Show the dataframe shape."
   ]
  },
  {
   "cell_type": "code",
   "execution_count": 44,
   "id": "12903290",
   "metadata": {},
   "outputs": [
    {
     "data": {
      "text/plain": [
       "(10910, 26)"
      ]
     },
     "execution_count": 44,
     "metadata": {},
     "output_type": "execute_result"
    }
   ],
   "source": [
    "data.shape"
   ]
  },
  {
   "cell_type": "markdown",
   "id": "944b56e5",
   "metadata": {},
   "source": [
    "Standardize header names."
   ]
  },
  {
   "cell_type": "code",
   "execution_count": 45,
   "id": "101a52a4",
   "metadata": {},
   "outputs": [
    {
     "data": {
      "text/html": [
       "<div>\n",
       "<style scoped>\n",
       "    .dataframe tbody tr th:only-of-type {\n",
       "        vertical-align: middle;\n",
       "    }\n",
       "\n",
       "    .dataframe tbody tr th {\n",
       "        vertical-align: top;\n",
       "    }\n",
       "\n",
       "    .dataframe thead th {\n",
       "        text-align: right;\n",
       "    }\n",
       "</style>\n",
       "<table border=\"1\" class=\"dataframe\">\n",
       "  <thead>\n",
       "    <tr style=\"text-align: right;\">\n",
       "      <th></th>\n",
       "      <th>Unnamed: 0</th>\n",
       "      <th>Customer</th>\n",
       "      <th>State</th>\n",
       "      <th>Customer Lifetime Value</th>\n",
       "      <th>Response</th>\n",
       "      <th>Coverage</th>\n",
       "      <th>Education</th>\n",
       "      <th>Effective To Date</th>\n",
       "      <th>EmploymentStatus</th>\n",
       "      <th>Gender</th>\n",
       "      <th>...</th>\n",
       "      <th>Number of Open Complaints</th>\n",
       "      <th>Number of Policies</th>\n",
       "      <th>Policy Type</th>\n",
       "      <th>Policy</th>\n",
       "      <th>Renew Offer Type</th>\n",
       "      <th>Sales Channel</th>\n",
       "      <th>Total Claim Amount</th>\n",
       "      <th>Vehicle Class</th>\n",
       "      <th>Vehicle Size</th>\n",
       "      <th>Vehicle Type</th>\n",
       "    </tr>\n",
       "  </thead>\n",
       "  <tbody>\n",
       "    <tr>\n",
       "      <th>0</th>\n",
       "      <td>0</td>\n",
       "      <td>DK49336</td>\n",
       "      <td>Arizona</td>\n",
       "      <td>4809.216960</td>\n",
       "      <td>No</td>\n",
       "      <td>Basic</td>\n",
       "      <td>College</td>\n",
       "      <td>2/18/11</td>\n",
       "      <td>Employed</td>\n",
       "      <td>M</td>\n",
       "      <td>...</td>\n",
       "      <td>0.0</td>\n",
       "      <td>9</td>\n",
       "      <td>Corporate Auto</td>\n",
       "      <td>Corporate L3</td>\n",
       "      <td>Offer3</td>\n",
       "      <td>Agent</td>\n",
       "      <td>292.800000</td>\n",
       "      <td>Four-Door Car</td>\n",
       "      <td>Medsize</td>\n",
       "      <td>NaN</td>\n",
       "    </tr>\n",
       "    <tr>\n",
       "      <th>1</th>\n",
       "      <td>1</td>\n",
       "      <td>KX64629</td>\n",
       "      <td>California</td>\n",
       "      <td>2228.525238</td>\n",
       "      <td>No</td>\n",
       "      <td>Basic</td>\n",
       "      <td>College</td>\n",
       "      <td>1/18/11</td>\n",
       "      <td>Unemployed</td>\n",
       "      <td>F</td>\n",
       "      <td>...</td>\n",
       "      <td>0.0</td>\n",
       "      <td>1</td>\n",
       "      <td>Personal Auto</td>\n",
       "      <td>Personal L3</td>\n",
       "      <td>Offer4</td>\n",
       "      <td>Call Center</td>\n",
       "      <td>744.924331</td>\n",
       "      <td>Four-Door Car</td>\n",
       "      <td>Medsize</td>\n",
       "      <td>NaN</td>\n",
       "    </tr>\n",
       "    <tr>\n",
       "      <th>2</th>\n",
       "      <td>2</td>\n",
       "      <td>LZ68649</td>\n",
       "      <td>Washington</td>\n",
       "      <td>14947.917300</td>\n",
       "      <td>No</td>\n",
       "      <td>Basic</td>\n",
       "      <td>Bachelor</td>\n",
       "      <td>2/10/11</td>\n",
       "      <td>Employed</td>\n",
       "      <td>M</td>\n",
       "      <td>...</td>\n",
       "      <td>0.0</td>\n",
       "      <td>2</td>\n",
       "      <td>Personal Auto</td>\n",
       "      <td>Personal L3</td>\n",
       "      <td>Offer3</td>\n",
       "      <td>Call Center</td>\n",
       "      <td>480.000000</td>\n",
       "      <td>SUV</td>\n",
       "      <td>Medsize</td>\n",
       "      <td>A</td>\n",
       "    </tr>\n",
       "  </tbody>\n",
       "</table>\n",
       "<p>3 rows × 26 columns</p>\n",
       "</div>"
      ],
      "text/plain": [
       "   Unnamed: 0 Customer       State  Customer Lifetime Value Response Coverage  \\\n",
       "0           0  DK49336     Arizona              4809.216960       No    Basic   \n",
       "1           1  KX64629  California              2228.525238       No    Basic   \n",
       "2           2  LZ68649  Washington             14947.917300       No    Basic   \n",
       "\n",
       "  Education Effective To Date EmploymentStatus Gender  ...  \\\n",
       "0   College           2/18/11         Employed      M  ...   \n",
       "1   College           1/18/11       Unemployed      F  ...   \n",
       "2  Bachelor           2/10/11         Employed      M  ...   \n",
       "\n",
       "   Number of Open Complaints Number of Policies     Policy Type        Policy  \\\n",
       "0                        0.0                  9  Corporate Auto  Corporate L3   \n",
       "1                        0.0                  1   Personal Auto   Personal L3   \n",
       "2                        0.0                  2   Personal Auto   Personal L3   \n",
       "\n",
       "   Renew Offer Type  Sales Channel  Total Claim Amount  Vehicle Class  \\\n",
       "0            Offer3          Agent          292.800000  Four-Door Car   \n",
       "1            Offer4    Call Center          744.924331  Four-Door Car   \n",
       "2            Offer3    Call Center          480.000000            SUV   \n",
       "\n",
       "  Vehicle Size Vehicle Type  \n",
       "0      Medsize          NaN  \n",
       "1      Medsize          NaN  \n",
       "2      Medsize            A  \n",
       "\n",
       "[3 rows x 26 columns]"
      ]
     },
     "metadata": {},
     "output_type": "display_data"
    }
   ],
   "source": [
    "display(data.head(3))"
   ]
  },
  {
   "cell_type": "code",
   "execution_count": 46,
   "id": "f92ea959",
   "metadata": {},
   "outputs": [
    {
     "data": {
      "text/plain": [
       "Index(['Unnamed: 0', 'Customer', 'State', 'Customer Lifetime Value',\n",
       "       'Response', 'Coverage', 'Education', 'Effective To Date',\n",
       "       'EmploymentStatus', 'Gender', 'Income', 'Location Code',\n",
       "       'Marital Status', 'Monthly Premium Auto', 'Months Since Last Claim',\n",
       "       'Months Since Policy Inception', 'Number of Open Complaints',\n",
       "       'Number of Policies', 'Policy Type', 'Policy', 'Renew Offer Type',\n",
       "       'Sales Channel', 'Total Claim Amount', 'Vehicle Class', 'Vehicle Size',\n",
       "       'Vehicle Type'],\n",
       "      dtype='object')"
      ]
     },
     "execution_count": 46,
     "metadata": {},
     "output_type": "execute_result"
    }
   ],
   "source": [
    "col_names= data.columns\n",
    "col_names"
   ]
  },
  {
   "cell_type": "code",
   "execution_count": 47,
   "id": "a51fb697",
   "metadata": {},
   "outputs": [],
   "source": [
    "data1= data.drop(['Unnamed: 0'],axis=1)"
   ]
  },
  {
   "cell_type": "code",
   "execution_count": 48,
   "id": "89772c6f",
   "metadata": {},
   "outputs": [
    {
     "data": {
      "text/html": [
       "<div>\n",
       "<style scoped>\n",
       "    .dataframe tbody tr th:only-of-type {\n",
       "        vertical-align: middle;\n",
       "    }\n",
       "\n",
       "    .dataframe tbody tr th {\n",
       "        vertical-align: top;\n",
       "    }\n",
       "\n",
       "    .dataframe thead th {\n",
       "        text-align: right;\n",
       "    }\n",
       "</style>\n",
       "<table border=\"1\" class=\"dataframe\">\n",
       "  <thead>\n",
       "    <tr style=\"text-align: right;\">\n",
       "      <th></th>\n",
       "      <th>Customer</th>\n",
       "      <th>State</th>\n",
       "      <th>Customer Lifetime Value</th>\n",
       "      <th>Response</th>\n",
       "      <th>Coverage</th>\n",
       "      <th>Education</th>\n",
       "      <th>Effective To Date</th>\n",
       "      <th>EmploymentStatus</th>\n",
       "      <th>Gender</th>\n",
       "      <th>Income</th>\n",
       "      <th>...</th>\n",
       "      <th>Number of Open Complaints</th>\n",
       "      <th>Number of Policies</th>\n",
       "      <th>Policy Type</th>\n",
       "      <th>Policy</th>\n",
       "      <th>Renew Offer Type</th>\n",
       "      <th>Sales Channel</th>\n",
       "      <th>Total Claim Amount</th>\n",
       "      <th>Vehicle Class</th>\n",
       "      <th>Vehicle Size</th>\n",
       "      <th>Vehicle Type</th>\n",
       "    </tr>\n",
       "  </thead>\n",
       "  <tbody>\n",
       "    <tr>\n",
       "      <th>0</th>\n",
       "      <td>DK49336</td>\n",
       "      <td>Arizona</td>\n",
       "      <td>4809.216960</td>\n",
       "      <td>No</td>\n",
       "      <td>Basic</td>\n",
       "      <td>College</td>\n",
       "      <td>2/18/11</td>\n",
       "      <td>Employed</td>\n",
       "      <td>M</td>\n",
       "      <td>48029</td>\n",
       "      <td>...</td>\n",
       "      <td>0.0</td>\n",
       "      <td>9</td>\n",
       "      <td>Corporate Auto</td>\n",
       "      <td>Corporate L3</td>\n",
       "      <td>Offer3</td>\n",
       "      <td>Agent</td>\n",
       "      <td>292.800000</td>\n",
       "      <td>Four-Door Car</td>\n",
       "      <td>Medsize</td>\n",
       "      <td>NaN</td>\n",
       "    </tr>\n",
       "    <tr>\n",
       "      <th>1</th>\n",
       "      <td>KX64629</td>\n",
       "      <td>California</td>\n",
       "      <td>2228.525238</td>\n",
       "      <td>No</td>\n",
       "      <td>Basic</td>\n",
       "      <td>College</td>\n",
       "      <td>1/18/11</td>\n",
       "      <td>Unemployed</td>\n",
       "      <td>F</td>\n",
       "      <td>0</td>\n",
       "      <td>...</td>\n",
       "      <td>0.0</td>\n",
       "      <td>1</td>\n",
       "      <td>Personal Auto</td>\n",
       "      <td>Personal L3</td>\n",
       "      <td>Offer4</td>\n",
       "      <td>Call Center</td>\n",
       "      <td>744.924331</td>\n",
       "      <td>Four-Door Car</td>\n",
       "      <td>Medsize</td>\n",
       "      <td>NaN</td>\n",
       "    </tr>\n",
       "    <tr>\n",
       "      <th>2</th>\n",
       "      <td>LZ68649</td>\n",
       "      <td>Washington</td>\n",
       "      <td>14947.917300</td>\n",
       "      <td>No</td>\n",
       "      <td>Basic</td>\n",
       "      <td>Bachelor</td>\n",
       "      <td>2/10/11</td>\n",
       "      <td>Employed</td>\n",
       "      <td>M</td>\n",
       "      <td>22139</td>\n",
       "      <td>...</td>\n",
       "      <td>0.0</td>\n",
       "      <td>2</td>\n",
       "      <td>Personal Auto</td>\n",
       "      <td>Personal L3</td>\n",
       "      <td>Offer3</td>\n",
       "      <td>Call Center</td>\n",
       "      <td>480.000000</td>\n",
       "      <td>SUV</td>\n",
       "      <td>Medsize</td>\n",
       "      <td>A</td>\n",
       "    </tr>\n",
       "  </tbody>\n",
       "</table>\n",
       "<p>3 rows × 25 columns</p>\n",
       "</div>"
      ],
      "text/plain": [
       "  Customer       State  Customer Lifetime Value Response Coverage Education  \\\n",
       "0  DK49336     Arizona              4809.216960       No    Basic   College   \n",
       "1  KX64629  California              2228.525238       No    Basic   College   \n",
       "2  LZ68649  Washington             14947.917300       No    Basic  Bachelor   \n",
       "\n",
       "  Effective To Date EmploymentStatus Gender  Income  ...  \\\n",
       "0           2/18/11         Employed      M   48029  ...   \n",
       "1           1/18/11       Unemployed      F       0  ...   \n",
       "2           2/10/11         Employed      M   22139  ...   \n",
       "\n",
       "  Number of Open Complaints Number of Policies     Policy Type        Policy  \\\n",
       "0                       0.0                  9  Corporate Auto  Corporate L3   \n",
       "1                       0.0                  1   Personal Auto   Personal L3   \n",
       "2                       0.0                  2   Personal Auto   Personal L3   \n",
       "\n",
       "   Renew Offer Type  Sales Channel  Total Claim Amount  Vehicle Class  \\\n",
       "0            Offer3          Agent          292.800000  Four-Door Car   \n",
       "1            Offer4    Call Center          744.924331  Four-Door Car   \n",
       "2            Offer3    Call Center          480.000000            SUV   \n",
       "\n",
       "  Vehicle Size Vehicle Type  \n",
       "0      Medsize          NaN  \n",
       "1      Medsize          NaN  \n",
       "2      Medsize            A  \n",
       "\n",
       "[3 rows x 25 columns]"
      ]
     },
     "metadata": {},
     "output_type": "display_data"
    }
   ],
   "source": [
    "display(data1.head(3))"
   ]
  },
  {
   "cell_type": "code",
   "execution_count": 49,
   "id": "8fcc1df0",
   "metadata": {},
   "outputs": [
    {
     "data": {
      "text/html": [
       "<div>\n",
       "<style scoped>\n",
       "    .dataframe tbody tr th:only-of-type {\n",
       "        vertical-align: middle;\n",
       "    }\n",
       "\n",
       "    .dataframe tbody tr th {\n",
       "        vertical-align: top;\n",
       "    }\n",
       "\n",
       "    .dataframe thead th {\n",
       "        text-align: right;\n",
       "    }\n",
       "</style>\n",
       "<table border=\"1\" class=\"dataframe\">\n",
       "  <thead>\n",
       "    <tr style=\"text-align: right;\">\n",
       "      <th></th>\n",
       "      <th>Customer</th>\n",
       "      <th>State</th>\n",
       "      <th>Customer Lifetime Value</th>\n",
       "      <th>Response</th>\n",
       "      <th>Coverage</th>\n",
       "      <th>Education</th>\n",
       "      <th>Effective To Date</th>\n",
       "      <th>Employment Status</th>\n",
       "      <th>Gender</th>\n",
       "      <th>Income</th>\n",
       "      <th>...</th>\n",
       "      <th>Number of Open Complaints</th>\n",
       "      <th>Number of Policies</th>\n",
       "      <th>Policy Type</th>\n",
       "      <th>Policy</th>\n",
       "      <th>Renew Offer Type</th>\n",
       "      <th>Sales Channel</th>\n",
       "      <th>Total Claim Amount</th>\n",
       "      <th>Vehicle Class</th>\n",
       "      <th>Vehicle Size</th>\n",
       "      <th>Vehicle Type</th>\n",
       "    </tr>\n",
       "  </thead>\n",
       "  <tbody>\n",
       "    <tr>\n",
       "      <th>0</th>\n",
       "      <td>DK49336</td>\n",
       "      <td>Arizona</td>\n",
       "      <td>4809.216960</td>\n",
       "      <td>No</td>\n",
       "      <td>Basic</td>\n",
       "      <td>College</td>\n",
       "      <td>2/18/11</td>\n",
       "      <td>Employed</td>\n",
       "      <td>M</td>\n",
       "      <td>48029</td>\n",
       "      <td>...</td>\n",
       "      <td>0.0</td>\n",
       "      <td>9</td>\n",
       "      <td>Corporate Auto</td>\n",
       "      <td>Corporate L3</td>\n",
       "      <td>Offer3</td>\n",
       "      <td>Agent</td>\n",
       "      <td>292.800000</td>\n",
       "      <td>Four-Door Car</td>\n",
       "      <td>Medsize</td>\n",
       "      <td>NaN</td>\n",
       "    </tr>\n",
       "    <tr>\n",
       "      <th>1</th>\n",
       "      <td>KX64629</td>\n",
       "      <td>California</td>\n",
       "      <td>2228.525238</td>\n",
       "      <td>No</td>\n",
       "      <td>Basic</td>\n",
       "      <td>College</td>\n",
       "      <td>1/18/11</td>\n",
       "      <td>Unemployed</td>\n",
       "      <td>F</td>\n",
       "      <td>0</td>\n",
       "      <td>...</td>\n",
       "      <td>0.0</td>\n",
       "      <td>1</td>\n",
       "      <td>Personal Auto</td>\n",
       "      <td>Personal L3</td>\n",
       "      <td>Offer4</td>\n",
       "      <td>Call Center</td>\n",
       "      <td>744.924331</td>\n",
       "      <td>Four-Door Car</td>\n",
       "      <td>Medsize</td>\n",
       "      <td>NaN</td>\n",
       "    </tr>\n",
       "    <tr>\n",
       "      <th>2</th>\n",
       "      <td>LZ68649</td>\n",
       "      <td>Washington</td>\n",
       "      <td>14947.917300</td>\n",
       "      <td>No</td>\n",
       "      <td>Basic</td>\n",
       "      <td>Bachelor</td>\n",
       "      <td>2/10/11</td>\n",
       "      <td>Employed</td>\n",
       "      <td>M</td>\n",
       "      <td>22139</td>\n",
       "      <td>...</td>\n",
       "      <td>0.0</td>\n",
       "      <td>2</td>\n",
       "      <td>Personal Auto</td>\n",
       "      <td>Personal L3</td>\n",
       "      <td>Offer3</td>\n",
       "      <td>Call Center</td>\n",
       "      <td>480.000000</td>\n",
       "      <td>SUV</td>\n",
       "      <td>Medsize</td>\n",
       "      <td>A</td>\n",
       "    </tr>\n",
       "    <tr>\n",
       "      <th>3</th>\n",
       "      <td>XL78013</td>\n",
       "      <td>Oregon</td>\n",
       "      <td>22332.439460</td>\n",
       "      <td>Yes</td>\n",
       "      <td>Extended</td>\n",
       "      <td>College</td>\n",
       "      <td>1/11/11</td>\n",
       "      <td>Employed</td>\n",
       "      <td>M</td>\n",
       "      <td>49078</td>\n",
       "      <td>...</td>\n",
       "      <td>0.0</td>\n",
       "      <td>2</td>\n",
       "      <td>Corporate Auto</td>\n",
       "      <td>Corporate L3</td>\n",
       "      <td>Offer2</td>\n",
       "      <td>Branch</td>\n",
       "      <td>484.013411</td>\n",
       "      <td>Four-Door Car</td>\n",
       "      <td>Medsize</td>\n",
       "      <td>A</td>\n",
       "    </tr>\n",
       "    <tr>\n",
       "      <th>4</th>\n",
       "      <td>QA50777</td>\n",
       "      <td>Oregon</td>\n",
       "      <td>9025.067525</td>\n",
       "      <td>No</td>\n",
       "      <td>Premium</td>\n",
       "      <td>Bachelor</td>\n",
       "      <td>1/17/11</td>\n",
       "      <td>Medical Leave</td>\n",
       "      <td>F</td>\n",
       "      <td>23675</td>\n",
       "      <td>...</td>\n",
       "      <td>NaN</td>\n",
       "      <td>7</td>\n",
       "      <td>Personal Auto</td>\n",
       "      <td>Personal L2</td>\n",
       "      <td>Offer1</td>\n",
       "      <td>Branch</td>\n",
       "      <td>707.925645</td>\n",
       "      <td>Four-Door Car</td>\n",
       "      <td>Medsize</td>\n",
       "      <td>NaN</td>\n",
       "    </tr>\n",
       "  </tbody>\n",
       "</table>\n",
       "<p>5 rows × 25 columns</p>\n",
       "</div>"
      ],
      "text/plain": [
       "  Customer       State  Customer Lifetime Value Response  Coverage Education  \\\n",
       "0  DK49336     Arizona              4809.216960       No     Basic   College   \n",
       "1  KX64629  California              2228.525238       No     Basic   College   \n",
       "2  LZ68649  Washington             14947.917300       No     Basic  Bachelor   \n",
       "3  XL78013      Oregon             22332.439460      Yes  Extended   College   \n",
       "4  QA50777      Oregon              9025.067525       No   Premium  Bachelor   \n",
       "\n",
       "  Effective To Date Employment Status Gender  Income  ...  \\\n",
       "0           2/18/11          Employed      M   48029  ...   \n",
       "1           1/18/11        Unemployed      F       0  ...   \n",
       "2           2/10/11          Employed      M   22139  ...   \n",
       "3           1/11/11          Employed      M   49078  ...   \n",
       "4           1/17/11     Medical Leave      F   23675  ...   \n",
       "\n",
       "  Number of Open Complaints Number of Policies     Policy Type        Policy  \\\n",
       "0                       0.0                  9  Corporate Auto  Corporate L3   \n",
       "1                       0.0                  1   Personal Auto   Personal L3   \n",
       "2                       0.0                  2   Personal Auto   Personal L3   \n",
       "3                       0.0                  2  Corporate Auto  Corporate L3   \n",
       "4                       NaN                  7   Personal Auto   Personal L2   \n",
       "\n",
       "   Renew Offer Type  Sales Channel  Total Claim Amount  Vehicle Class  \\\n",
       "0            Offer3          Agent          292.800000  Four-Door Car   \n",
       "1            Offer4    Call Center          744.924331  Four-Door Car   \n",
       "2            Offer3    Call Center          480.000000            SUV   \n",
       "3            Offer2         Branch          484.013411  Four-Door Car   \n",
       "4            Offer1         Branch          707.925645  Four-Door Car   \n",
       "\n",
       "  Vehicle Size Vehicle Type  \n",
       "0      Medsize          NaN  \n",
       "1      Medsize          NaN  \n",
       "2      Medsize            A  \n",
       "3      Medsize            A  \n",
       "4      Medsize          NaN  \n",
       "\n",
       "[5 rows x 25 columns]"
      ]
     },
     "execution_count": 49,
     "metadata": {},
     "output_type": "execute_result"
    }
   ],
   "source": [
    "data1 = data1.rename(columns={'EmploymentStatus':'Employment Status'})\n",
    "data1.head()"
   ]
  },
  {
   "cell_type": "code",
   "execution_count": 50,
   "id": "251e5a74",
   "metadata": {},
   "outputs": [
    {
     "data": {
      "text/html": [
       "<div>\n",
       "<style scoped>\n",
       "    .dataframe tbody tr th:only-of-type {\n",
       "        vertical-align: middle;\n",
       "    }\n",
       "\n",
       "    .dataframe tbody tr th {\n",
       "        vertical-align: top;\n",
       "    }\n",
       "\n",
       "    .dataframe thead th {\n",
       "        text-align: right;\n",
       "    }\n",
       "</style>\n",
       "<table border=\"1\" class=\"dataframe\">\n",
       "  <thead>\n",
       "    <tr style=\"text-align: right;\">\n",
       "      <th></th>\n",
       "      <th>customer</th>\n",
       "      <th>state</th>\n",
       "      <th>customer lifetime value</th>\n",
       "      <th>response</th>\n",
       "      <th>coverage</th>\n",
       "      <th>education</th>\n",
       "      <th>effective to date</th>\n",
       "      <th>employment status</th>\n",
       "      <th>gender</th>\n",
       "      <th>income</th>\n",
       "      <th>...</th>\n",
       "      <th>number of open complaints</th>\n",
       "      <th>number of policies</th>\n",
       "      <th>policy type</th>\n",
       "      <th>policy</th>\n",
       "      <th>renew offer type</th>\n",
       "      <th>sales channel</th>\n",
       "      <th>total claim amount</th>\n",
       "      <th>vehicle class</th>\n",
       "      <th>vehicle size</th>\n",
       "      <th>vehicle type</th>\n",
       "    </tr>\n",
       "  </thead>\n",
       "  <tbody>\n",
       "    <tr>\n",
       "      <th>0</th>\n",
       "      <td>DK49336</td>\n",
       "      <td>Arizona</td>\n",
       "      <td>4809.216960</td>\n",
       "      <td>No</td>\n",
       "      <td>Basic</td>\n",
       "      <td>College</td>\n",
       "      <td>2/18/11</td>\n",
       "      <td>Employed</td>\n",
       "      <td>M</td>\n",
       "      <td>48029</td>\n",
       "      <td>...</td>\n",
       "      <td>0.0</td>\n",
       "      <td>9</td>\n",
       "      <td>Corporate Auto</td>\n",
       "      <td>Corporate L3</td>\n",
       "      <td>Offer3</td>\n",
       "      <td>Agent</td>\n",
       "      <td>292.800000</td>\n",
       "      <td>Four-Door Car</td>\n",
       "      <td>Medsize</td>\n",
       "      <td>NaN</td>\n",
       "    </tr>\n",
       "    <tr>\n",
       "      <th>1</th>\n",
       "      <td>KX64629</td>\n",
       "      <td>California</td>\n",
       "      <td>2228.525238</td>\n",
       "      <td>No</td>\n",
       "      <td>Basic</td>\n",
       "      <td>College</td>\n",
       "      <td>1/18/11</td>\n",
       "      <td>Unemployed</td>\n",
       "      <td>F</td>\n",
       "      <td>0</td>\n",
       "      <td>...</td>\n",
       "      <td>0.0</td>\n",
       "      <td>1</td>\n",
       "      <td>Personal Auto</td>\n",
       "      <td>Personal L3</td>\n",
       "      <td>Offer4</td>\n",
       "      <td>Call Center</td>\n",
       "      <td>744.924331</td>\n",
       "      <td>Four-Door Car</td>\n",
       "      <td>Medsize</td>\n",
       "      <td>NaN</td>\n",
       "    </tr>\n",
       "    <tr>\n",
       "      <th>2</th>\n",
       "      <td>LZ68649</td>\n",
       "      <td>Washington</td>\n",
       "      <td>14947.917300</td>\n",
       "      <td>No</td>\n",
       "      <td>Basic</td>\n",
       "      <td>Bachelor</td>\n",
       "      <td>2/10/11</td>\n",
       "      <td>Employed</td>\n",
       "      <td>M</td>\n",
       "      <td>22139</td>\n",
       "      <td>...</td>\n",
       "      <td>0.0</td>\n",
       "      <td>2</td>\n",
       "      <td>Personal Auto</td>\n",
       "      <td>Personal L3</td>\n",
       "      <td>Offer3</td>\n",
       "      <td>Call Center</td>\n",
       "      <td>480.000000</td>\n",
       "      <td>SUV</td>\n",
       "      <td>Medsize</td>\n",
       "      <td>A</td>\n",
       "    </tr>\n",
       "    <tr>\n",
       "      <th>3</th>\n",
       "      <td>XL78013</td>\n",
       "      <td>Oregon</td>\n",
       "      <td>22332.439460</td>\n",
       "      <td>Yes</td>\n",
       "      <td>Extended</td>\n",
       "      <td>College</td>\n",
       "      <td>1/11/11</td>\n",
       "      <td>Employed</td>\n",
       "      <td>M</td>\n",
       "      <td>49078</td>\n",
       "      <td>...</td>\n",
       "      <td>0.0</td>\n",
       "      <td>2</td>\n",
       "      <td>Corporate Auto</td>\n",
       "      <td>Corporate L3</td>\n",
       "      <td>Offer2</td>\n",
       "      <td>Branch</td>\n",
       "      <td>484.013411</td>\n",
       "      <td>Four-Door Car</td>\n",
       "      <td>Medsize</td>\n",
       "      <td>A</td>\n",
       "    </tr>\n",
       "    <tr>\n",
       "      <th>4</th>\n",
       "      <td>QA50777</td>\n",
       "      <td>Oregon</td>\n",
       "      <td>9025.067525</td>\n",
       "      <td>No</td>\n",
       "      <td>Premium</td>\n",
       "      <td>Bachelor</td>\n",
       "      <td>1/17/11</td>\n",
       "      <td>Medical Leave</td>\n",
       "      <td>F</td>\n",
       "      <td>23675</td>\n",
       "      <td>...</td>\n",
       "      <td>NaN</td>\n",
       "      <td>7</td>\n",
       "      <td>Personal Auto</td>\n",
       "      <td>Personal L2</td>\n",
       "      <td>Offer1</td>\n",
       "      <td>Branch</td>\n",
       "      <td>707.925645</td>\n",
       "      <td>Four-Door Car</td>\n",
       "      <td>Medsize</td>\n",
       "      <td>NaN</td>\n",
       "    </tr>\n",
       "  </tbody>\n",
       "</table>\n",
       "<p>5 rows × 25 columns</p>\n",
       "</div>"
      ],
      "text/plain": [
       "  customer       state  customer lifetime value response  coverage education  \\\n",
       "0  DK49336     Arizona              4809.216960       No     Basic   College   \n",
       "1  KX64629  California              2228.525238       No     Basic   College   \n",
       "2  LZ68649  Washington             14947.917300       No     Basic  Bachelor   \n",
       "3  XL78013      Oregon             22332.439460      Yes  Extended   College   \n",
       "4  QA50777      Oregon              9025.067525       No   Premium  Bachelor   \n",
       "\n",
       "  effective to date employment status gender  income  ...  \\\n",
       "0           2/18/11          Employed      M   48029  ...   \n",
       "1           1/18/11        Unemployed      F       0  ...   \n",
       "2           2/10/11          Employed      M   22139  ...   \n",
       "3           1/11/11          Employed      M   49078  ...   \n",
       "4           1/17/11     Medical Leave      F   23675  ...   \n",
       "\n",
       "  number of open complaints number of policies     policy type        policy  \\\n",
       "0                       0.0                  9  Corporate Auto  Corporate L3   \n",
       "1                       0.0                  1   Personal Auto   Personal L3   \n",
       "2                       0.0                  2   Personal Auto   Personal L3   \n",
       "3                       0.0                  2  Corporate Auto  Corporate L3   \n",
       "4                       NaN                  7   Personal Auto   Personal L2   \n",
       "\n",
       "   renew offer type  sales channel  total claim amount  vehicle class  \\\n",
       "0            Offer3          Agent          292.800000  Four-Door Car   \n",
       "1            Offer4    Call Center          744.924331  Four-Door Car   \n",
       "2            Offer3    Call Center          480.000000            SUV   \n",
       "3            Offer2         Branch          484.013411  Four-Door Car   \n",
       "4            Offer1         Branch          707.925645  Four-Door Car   \n",
       "\n",
       "  vehicle size vehicle type  \n",
       "0      Medsize          NaN  \n",
       "1      Medsize          NaN  \n",
       "2      Medsize            A  \n",
       "3      Medsize            A  \n",
       "4      Medsize          NaN  \n",
       "\n",
       "[5 rows x 25 columns]"
      ]
     },
     "execution_count": 50,
     "metadata": {},
     "output_type": "execute_result"
    }
   ],
   "source": [
    "data1.columns = data1.columns.str.lower()\n",
    "data1.head()"
   ]
  },
  {
   "cell_type": "markdown",
   "id": "3ff79f9f",
   "metadata": {},
   "source": [
    "Which columns are numerical?"
   ]
  },
  {
   "cell_type": "code",
   "execution_count": 51,
   "id": "0f2a9acb",
   "metadata": {},
   "outputs": [
    {
     "data": {
      "text/plain": [
       "Index(['customer lifetime value', 'income', 'monthly premium auto',\n",
       "       'months since last claim', 'months since policy inception',\n",
       "       'number of open complaints', 'number of policies',\n",
       "       'total claim amount'],\n",
       "      dtype='object')"
      ]
     },
     "execution_count": 51,
     "metadata": {},
     "output_type": "execute_result"
    }
   ],
   "source": [
    "data1.select_dtypes('number').columns"
   ]
  },
  {
   "cell_type": "markdown",
   "id": "a45257f8",
   "metadata": {},
   "source": [
    "Which columns are categorical?"
   ]
  },
  {
   "cell_type": "code",
   "execution_count": 52,
   "id": "9464e5b0",
   "metadata": {},
   "outputs": [
    {
     "data": {
      "text/plain": [
       "Index(['customer', 'state', 'response', 'coverage', 'education',\n",
       "       'effective to date', 'employment status', 'gender', 'location code',\n",
       "       'marital status', 'policy type', 'policy', 'renew offer type',\n",
       "       'sales channel', 'vehicle class', 'vehicle size', 'vehicle type'],\n",
       "      dtype='object')"
      ]
     },
     "execution_count": 52,
     "metadata": {},
     "output_type": "execute_result"
    }
   ],
   "source": [
    "data1.select_dtypes('object').columns"
   ]
  },
  {
   "cell_type": "code",
   "execution_count": 53,
   "id": "9c11b53d",
   "metadata": {},
   "outputs": [
    {
     "data": {
      "text/plain": [
       "Index(['customer lifetime value', 'income', 'monthly premium auto',\n",
       "       'months since last claim', 'months since policy inception',\n",
       "       'number of open complaints', 'number of policies',\n",
       "       'total claim amount'],\n",
       "      dtype='object')"
      ]
     },
     "execution_count": 53,
     "metadata": {},
     "output_type": "execute_result"
    }
   ],
   "source": [
    "data1.select_dtypes('number','object').columns"
   ]
  },
  {
   "cell_type": "markdown",
   "id": "a197cd63",
   "metadata": {},
   "source": [
    "Check and deal with NaN values."
   ]
  },
  {
   "cell_type": "code",
   "execution_count": 54,
   "id": "c8a50f6a",
   "metadata": {},
   "outputs": [
    {
     "data": {
      "text/plain": [
       "10910"
      ]
     },
     "execution_count": 54,
     "metadata": {},
     "output_type": "execute_result"
    }
   ],
   "source": [
    "len(data1[data1[:].isna()==True])"
   ]
  },
  {
   "cell_type": "code",
   "execution_count": 55,
   "id": "fdae9909",
   "metadata": {},
   "outputs": [
    {
     "data": {
      "text/plain": [
       "customer                            0\n",
       "state                             631\n",
       "customer lifetime value             0\n",
       "response                          631\n",
       "coverage                            0\n",
       "education                           0\n",
       "effective to date                   0\n",
       "employment status                   0\n",
       "gender                              0\n",
       "income                              0\n",
       "location code                       0\n",
       "marital status                      0\n",
       "monthly premium auto                0\n",
       "months since last claim           633\n",
       "months since policy inception       0\n",
       "number of open complaints         633\n",
       "number of policies                  0\n",
       "policy type                         0\n",
       "policy                              0\n",
       "renew offer type                    0\n",
       "sales channel                       0\n",
       "total claim amount                  0\n",
       "vehicle class                     622\n",
       "vehicle size                      622\n",
       "vehicle type                     5482\n",
       "dtype: int64"
      ]
     },
     "execution_count": 55,
     "metadata": {},
     "output_type": "execute_result"
    }
   ],
   "source": [
    "data1.isna().sum() "
   ]
  },
  {
   "cell_type": "code",
   "execution_count": 56,
   "id": "6b06b802",
   "metadata": {},
   "outputs": [
    {
     "data": {
      "text/plain": [
       "customer                          0.00\n",
       "state                             5.78\n",
       "customer lifetime value           0.00\n",
       "response                          5.78\n",
       "coverage                          0.00\n",
       "education                         0.00\n",
       "effective to date                 0.00\n",
       "employment status                 0.00\n",
       "gender                            0.00\n",
       "income                            0.00\n",
       "location code                     0.00\n",
       "marital status                    0.00\n",
       "monthly premium auto              0.00\n",
       "months since last claim           5.80\n",
       "months since policy inception     0.00\n",
       "number of open complaints         5.80\n",
       "number of policies                0.00\n",
       "policy type                       0.00\n",
       "policy                            0.00\n",
       "renew offer type                  0.00\n",
       "sales channel                     0.00\n",
       "total claim amount                0.00\n",
       "vehicle class                     5.70\n",
       "vehicle size                      5.70\n",
       "vehicle type                     50.25\n",
       "dtype: float64"
      ]
     },
     "execution_count": 56,
     "metadata": {},
     "output_type": "execute_result"
    }
   ],
   "source": [
    "round(data1.isna().sum()/len(data1),4)*100  #percent of missing values"
   ]
  },
  {
   "cell_type": "code",
   "execution_count": 57,
   "id": "61634215",
   "metadata": {},
   "outputs": [],
   "source": [
    "nulls_df = pd.DataFrame(round(data1.isna().sum()/len(data1),4)*100)"
   ]
  },
  {
   "cell_type": "code",
   "execution_count": 58,
   "id": "46702edc",
   "metadata": {},
   "outputs": [
    {
     "data": {
      "text/html": [
       "<div>\n",
       "<style scoped>\n",
       "    .dataframe tbody tr th:only-of-type {\n",
       "        vertical-align: middle;\n",
       "    }\n",
       "\n",
       "    .dataframe tbody tr th {\n",
       "        vertical-align: top;\n",
       "    }\n",
       "\n",
       "    .dataframe thead th {\n",
       "        text-align: right;\n",
       "    }\n",
       "</style>\n",
       "<table border=\"1\" class=\"dataframe\">\n",
       "  <thead>\n",
       "    <tr style=\"text-align: right;\">\n",
       "      <th></th>\n",
       "      <th>0</th>\n",
       "    </tr>\n",
       "  </thead>\n",
       "  <tbody>\n",
       "    <tr>\n",
       "      <th>customer</th>\n",
       "      <td>0.00</td>\n",
       "    </tr>\n",
       "    <tr>\n",
       "      <th>state</th>\n",
       "      <td>5.78</td>\n",
       "    </tr>\n",
       "    <tr>\n",
       "      <th>customer lifetime value</th>\n",
       "      <td>0.00</td>\n",
       "    </tr>\n",
       "    <tr>\n",
       "      <th>response</th>\n",
       "      <td>5.78</td>\n",
       "    </tr>\n",
       "    <tr>\n",
       "      <th>coverage</th>\n",
       "      <td>0.00</td>\n",
       "    </tr>\n",
       "    <tr>\n",
       "      <th>education</th>\n",
       "      <td>0.00</td>\n",
       "    </tr>\n",
       "    <tr>\n",
       "      <th>effective to date</th>\n",
       "      <td>0.00</td>\n",
       "    </tr>\n",
       "    <tr>\n",
       "      <th>employment status</th>\n",
       "      <td>0.00</td>\n",
       "    </tr>\n",
       "    <tr>\n",
       "      <th>gender</th>\n",
       "      <td>0.00</td>\n",
       "    </tr>\n",
       "    <tr>\n",
       "      <th>income</th>\n",
       "      <td>0.00</td>\n",
       "    </tr>\n",
       "    <tr>\n",
       "      <th>location code</th>\n",
       "      <td>0.00</td>\n",
       "    </tr>\n",
       "    <tr>\n",
       "      <th>marital status</th>\n",
       "      <td>0.00</td>\n",
       "    </tr>\n",
       "    <tr>\n",
       "      <th>monthly premium auto</th>\n",
       "      <td>0.00</td>\n",
       "    </tr>\n",
       "    <tr>\n",
       "      <th>months since last claim</th>\n",
       "      <td>5.80</td>\n",
       "    </tr>\n",
       "    <tr>\n",
       "      <th>months since policy inception</th>\n",
       "      <td>0.00</td>\n",
       "    </tr>\n",
       "    <tr>\n",
       "      <th>number of open complaints</th>\n",
       "      <td>5.80</td>\n",
       "    </tr>\n",
       "    <tr>\n",
       "      <th>number of policies</th>\n",
       "      <td>0.00</td>\n",
       "    </tr>\n",
       "    <tr>\n",
       "      <th>policy type</th>\n",
       "      <td>0.00</td>\n",
       "    </tr>\n",
       "    <tr>\n",
       "      <th>policy</th>\n",
       "      <td>0.00</td>\n",
       "    </tr>\n",
       "    <tr>\n",
       "      <th>renew offer type</th>\n",
       "      <td>0.00</td>\n",
       "    </tr>\n",
       "    <tr>\n",
       "      <th>sales channel</th>\n",
       "      <td>0.00</td>\n",
       "    </tr>\n",
       "    <tr>\n",
       "      <th>total claim amount</th>\n",
       "      <td>0.00</td>\n",
       "    </tr>\n",
       "    <tr>\n",
       "      <th>vehicle class</th>\n",
       "      <td>5.70</td>\n",
       "    </tr>\n",
       "    <tr>\n",
       "      <th>vehicle size</th>\n",
       "      <td>5.70</td>\n",
       "    </tr>\n",
       "    <tr>\n",
       "      <th>vehicle type</th>\n",
       "      <td>50.25</td>\n",
       "    </tr>\n",
       "  </tbody>\n",
       "</table>\n",
       "</div>"
      ],
      "text/plain": [
       "                                   0\n",
       "customer                        0.00\n",
       "state                           5.78\n",
       "customer lifetime value         0.00\n",
       "response                        5.78\n",
       "coverage                        0.00\n",
       "education                       0.00\n",
       "effective to date               0.00\n",
       "employment status               0.00\n",
       "gender                          0.00\n",
       "income                          0.00\n",
       "location code                   0.00\n",
       "marital status                  0.00\n",
       "monthly premium auto            0.00\n",
       "months since last claim         5.80\n",
       "months since policy inception   0.00\n",
       "number of open complaints       5.80\n",
       "number of policies              0.00\n",
       "policy type                     0.00\n",
       "policy                          0.00\n",
       "renew offer type                0.00\n",
       "sales channel                   0.00\n",
       "total claim amount              0.00\n",
       "vehicle class                   5.70\n",
       "vehicle size                    5.70\n",
       "vehicle type                   50.25"
      ]
     },
     "metadata": {},
     "output_type": "display_data"
    }
   ],
   "source": [
    "display(nulls_df)"
   ]
  },
  {
   "cell_type": "code",
   "execution_count": 59,
   "id": "19614650",
   "metadata": {},
   "outputs": [
    {
     "data": {
      "text/plain": [
       "customer                          object\n",
       "state                             object\n",
       "customer lifetime value          float64\n",
       "response                          object\n",
       "coverage                          object\n",
       "education                         object\n",
       "effective to date                 object\n",
       "employment status                 object\n",
       "gender                            object\n",
       "income                             int64\n",
       "location code                     object\n",
       "marital status                    object\n",
       "monthly premium auto               int64\n",
       "months since last claim          float64\n",
       "months since policy inception      int64\n",
       "number of open complaints        float64\n",
       "number of policies                 int64\n",
       "policy type                       object\n",
       "policy                            object\n",
       "renew offer type                  object\n",
       "sales channel                     object\n",
       "total claim amount               float64\n",
       "vehicle class                     object\n",
       "vehicle size                      object\n",
       "vehicle type                      object\n",
       "dtype: object"
      ]
     },
     "execution_count": 59,
     "metadata": {},
     "output_type": "execute_result"
    }
   ],
   "source": [
    "data1.dtypes"
   ]
  },
  {
   "cell_type": "code",
   "execution_count": 60,
   "id": "84c8d652",
   "metadata": {},
   "outputs": [
    {
     "data": {
      "text/plain": [
       "customer                                 object\n",
       "state                                    object\n",
       "customer lifetime value                 float64\n",
       "response                                 object\n",
       "coverage                                 object\n",
       "education                                object\n",
       "effective to date                datetime64[ns]\n",
       "employment status                        object\n",
       "gender                                   object\n",
       "income                                    int64\n",
       "location code                            object\n",
       "marital status                           object\n",
       "monthly premium auto                      int64\n",
       "months since last claim                 float64\n",
       "months since policy inception             int64\n",
       "number of open complaints               float64\n",
       "number of policies                        int64\n",
       "policy type                              object\n",
       "policy                                   object\n",
       "renew offer type                         object\n",
       "sales channel                            object\n",
       "total claim amount                      float64\n",
       "vehicle class                            object\n",
       "vehicle size                             object\n",
       "vehicle type                             object\n",
       "dtype: object"
      ]
     },
     "execution_count": 60,
     "metadata": {},
     "output_type": "execute_result"
    }
   ],
   "source": [
    "data1['effective to date'] = pd.to_datetime(data1['effective to date'], errors='coerce')\n",
    "data1.dtypes"
   ]
  },
  {
   "cell_type": "markdown",
   "id": "eb949bb1",
   "metadata": {},
   "source": [
    "Datetime format - Extract the months from the dataset and store in a separate column. Then filter the data to show only the information for the first quarter , ie. January, February and March. Hint: If data from March does not exist, consider only January and February.\n",
    "BONUS: Put all the previously mentioned data transformations into a function."
   ]
  },
  {
   "cell_type": "code",
   "execution_count": 61,
   "id": "561209d1",
   "metadata": {},
   "outputs": [
    {
     "data": {
      "text/plain": [
       "2"
      ]
     },
     "execution_count": 61,
     "metadata": {},
     "output_type": "execute_result"
    }
   ],
   "source": [
    "data1['effective to date'][0].month"
   ]
  },
  {
   "cell_type": "code",
   "execution_count": 62,
   "id": "773ff5ed",
   "metadata": {},
   "outputs": [],
   "source": [
    "def convert_date_format(m):\n",
    "    return m.strftime(format='%B')"
   ]
  },
  {
   "cell_type": "code",
   "execution_count": 63,
   "id": "c012e9d1",
   "metadata": {},
   "outputs": [],
   "source": [
    "data1['month']=data1['effective to date'].apply(convert_date_format)"
   ]
  },
  {
   "cell_type": "code",
   "execution_count": 64,
   "id": "68b4cbbc",
   "metadata": {},
   "outputs": [
    {
     "data": {
      "text/html": [
       "<div>\n",
       "<style scoped>\n",
       "    .dataframe tbody tr th:only-of-type {\n",
       "        vertical-align: middle;\n",
       "    }\n",
       "\n",
       "    .dataframe tbody tr th {\n",
       "        vertical-align: top;\n",
       "    }\n",
       "\n",
       "    .dataframe thead th {\n",
       "        text-align: right;\n",
       "    }\n",
       "</style>\n",
       "<table border=\"1\" class=\"dataframe\">\n",
       "  <thead>\n",
       "    <tr style=\"text-align: right;\">\n",
       "      <th></th>\n",
       "      <th>customer</th>\n",
       "      <th>state</th>\n",
       "      <th>customer lifetime value</th>\n",
       "      <th>response</th>\n",
       "      <th>coverage</th>\n",
       "      <th>education</th>\n",
       "      <th>effective to date</th>\n",
       "      <th>employment status</th>\n",
       "      <th>gender</th>\n",
       "      <th>income</th>\n",
       "      <th>...</th>\n",
       "      <th>number of policies</th>\n",
       "      <th>policy type</th>\n",
       "      <th>policy</th>\n",
       "      <th>renew offer type</th>\n",
       "      <th>sales channel</th>\n",
       "      <th>total claim amount</th>\n",
       "      <th>vehicle class</th>\n",
       "      <th>vehicle size</th>\n",
       "      <th>vehicle type</th>\n",
       "      <th>month</th>\n",
       "    </tr>\n",
       "  </thead>\n",
       "  <tbody>\n",
       "    <tr>\n",
       "      <th>0</th>\n",
       "      <td>DK49336</td>\n",
       "      <td>Arizona</td>\n",
       "      <td>4809.216960</td>\n",
       "      <td>No</td>\n",
       "      <td>Basic</td>\n",
       "      <td>College</td>\n",
       "      <td>2011-02-18</td>\n",
       "      <td>Employed</td>\n",
       "      <td>M</td>\n",
       "      <td>48029</td>\n",
       "      <td>...</td>\n",
       "      <td>9</td>\n",
       "      <td>Corporate Auto</td>\n",
       "      <td>Corporate L3</td>\n",
       "      <td>Offer3</td>\n",
       "      <td>Agent</td>\n",
       "      <td>292.800000</td>\n",
       "      <td>Four-Door Car</td>\n",
       "      <td>Medsize</td>\n",
       "      <td>NaN</td>\n",
       "      <td>February</td>\n",
       "    </tr>\n",
       "    <tr>\n",
       "      <th>1</th>\n",
       "      <td>KX64629</td>\n",
       "      <td>California</td>\n",
       "      <td>2228.525238</td>\n",
       "      <td>No</td>\n",
       "      <td>Basic</td>\n",
       "      <td>College</td>\n",
       "      <td>2011-01-18</td>\n",
       "      <td>Unemployed</td>\n",
       "      <td>F</td>\n",
       "      <td>0</td>\n",
       "      <td>...</td>\n",
       "      <td>1</td>\n",
       "      <td>Personal Auto</td>\n",
       "      <td>Personal L3</td>\n",
       "      <td>Offer4</td>\n",
       "      <td>Call Center</td>\n",
       "      <td>744.924331</td>\n",
       "      <td>Four-Door Car</td>\n",
       "      <td>Medsize</td>\n",
       "      <td>NaN</td>\n",
       "      <td>January</td>\n",
       "    </tr>\n",
       "    <tr>\n",
       "      <th>2</th>\n",
       "      <td>LZ68649</td>\n",
       "      <td>Washington</td>\n",
       "      <td>14947.917300</td>\n",
       "      <td>No</td>\n",
       "      <td>Basic</td>\n",
       "      <td>Bachelor</td>\n",
       "      <td>2011-02-10</td>\n",
       "      <td>Employed</td>\n",
       "      <td>M</td>\n",
       "      <td>22139</td>\n",
       "      <td>...</td>\n",
       "      <td>2</td>\n",
       "      <td>Personal Auto</td>\n",
       "      <td>Personal L3</td>\n",
       "      <td>Offer3</td>\n",
       "      <td>Call Center</td>\n",
       "      <td>480.000000</td>\n",
       "      <td>SUV</td>\n",
       "      <td>Medsize</td>\n",
       "      <td>A</td>\n",
       "      <td>February</td>\n",
       "    </tr>\n",
       "    <tr>\n",
       "      <th>3</th>\n",
       "      <td>XL78013</td>\n",
       "      <td>Oregon</td>\n",
       "      <td>22332.439460</td>\n",
       "      <td>Yes</td>\n",
       "      <td>Extended</td>\n",
       "      <td>College</td>\n",
       "      <td>2011-01-11</td>\n",
       "      <td>Employed</td>\n",
       "      <td>M</td>\n",
       "      <td>49078</td>\n",
       "      <td>...</td>\n",
       "      <td>2</td>\n",
       "      <td>Corporate Auto</td>\n",
       "      <td>Corporate L3</td>\n",
       "      <td>Offer2</td>\n",
       "      <td>Branch</td>\n",
       "      <td>484.013411</td>\n",
       "      <td>Four-Door Car</td>\n",
       "      <td>Medsize</td>\n",
       "      <td>A</td>\n",
       "      <td>January</td>\n",
       "    </tr>\n",
       "    <tr>\n",
       "      <th>4</th>\n",
       "      <td>QA50777</td>\n",
       "      <td>Oregon</td>\n",
       "      <td>9025.067525</td>\n",
       "      <td>No</td>\n",
       "      <td>Premium</td>\n",
       "      <td>Bachelor</td>\n",
       "      <td>2011-01-17</td>\n",
       "      <td>Medical Leave</td>\n",
       "      <td>F</td>\n",
       "      <td>23675</td>\n",
       "      <td>...</td>\n",
       "      <td>7</td>\n",
       "      <td>Personal Auto</td>\n",
       "      <td>Personal L2</td>\n",
       "      <td>Offer1</td>\n",
       "      <td>Branch</td>\n",
       "      <td>707.925645</td>\n",
       "      <td>Four-Door Car</td>\n",
       "      <td>Medsize</td>\n",
       "      <td>NaN</td>\n",
       "      <td>January</td>\n",
       "    </tr>\n",
       "    <tr>\n",
       "      <th>5</th>\n",
       "      <td>HO81102</td>\n",
       "      <td>NaN</td>\n",
       "      <td>4745.181764</td>\n",
       "      <td>NaN</td>\n",
       "      <td>Basic</td>\n",
       "      <td>High School or Below</td>\n",
       "      <td>2011-02-14</td>\n",
       "      <td>Employed</td>\n",
       "      <td>M</td>\n",
       "      <td>50549</td>\n",
       "      <td>...</td>\n",
       "      <td>7</td>\n",
       "      <td>Personal Auto</td>\n",
       "      <td>Personal L3</td>\n",
       "      <td>Offer1</td>\n",
       "      <td>Agent</td>\n",
       "      <td>292.800000</td>\n",
       "      <td>Four-Door Car</td>\n",
       "      <td>Medsize</td>\n",
       "      <td>A</td>\n",
       "      <td>February</td>\n",
       "    </tr>\n",
       "    <tr>\n",
       "      <th>6</th>\n",
       "      <td>IW72280</td>\n",
       "      <td>California</td>\n",
       "      <td>5035.035257</td>\n",
       "      <td>No</td>\n",
       "      <td>Basic</td>\n",
       "      <td>Doctor</td>\n",
       "      <td>2011-02-14</td>\n",
       "      <td>Employed</td>\n",
       "      <td>F</td>\n",
       "      <td>37405</td>\n",
       "      <td>...</td>\n",
       "      <td>4</td>\n",
       "      <td>Corporate Auto</td>\n",
       "      <td>Corporate L2</td>\n",
       "      <td>Offer2</td>\n",
       "      <td>Branch</td>\n",
       "      <td>287.556107</td>\n",
       "      <td>Four-Door Car</td>\n",
       "      <td>Medsize</td>\n",
       "      <td>NaN</td>\n",
       "      <td>February</td>\n",
       "    </tr>\n",
       "    <tr>\n",
       "      <th>7</th>\n",
       "      <td>IH64929</td>\n",
       "      <td>California</td>\n",
       "      <td>4956.247235</td>\n",
       "      <td>No</td>\n",
       "      <td>Basic</td>\n",
       "      <td>High School or Below</td>\n",
       "      <td>2011-02-24</td>\n",
       "      <td>Employed</td>\n",
       "      <td>M</td>\n",
       "      <td>87197</td>\n",
       "      <td>...</td>\n",
       "      <td>3</td>\n",
       "      <td>Personal Auto</td>\n",
       "      <td>Personal L2</td>\n",
       "      <td>Offer2</td>\n",
       "      <td>Branch</td>\n",
       "      <td>247.402353</td>\n",
       "      <td>Two-Door Car</td>\n",
       "      <td>Medsize</td>\n",
       "      <td>NaN</td>\n",
       "      <td>February</td>\n",
       "    </tr>\n",
       "    <tr>\n",
       "      <th>8</th>\n",
       "      <td>FM55990</td>\n",
       "      <td>California</td>\n",
       "      <td>5989.773931</td>\n",
       "      <td>Yes</td>\n",
       "      <td>Premium</td>\n",
       "      <td>College</td>\n",
       "      <td>2011-01-19</td>\n",
       "      <td>Employed</td>\n",
       "      <td>M</td>\n",
       "      <td>66839</td>\n",
       "      <td>...</td>\n",
       "      <td>1</td>\n",
       "      <td>Personal Auto</td>\n",
       "      <td>Personal L1</td>\n",
       "      <td>Offer2</td>\n",
       "      <td>Branch</td>\n",
       "      <td>739.200000</td>\n",
       "      <td>Sports Car</td>\n",
       "      <td>Medsize</td>\n",
       "      <td>NaN</td>\n",
       "      <td>January</td>\n",
       "    </tr>\n",
       "    <tr>\n",
       "      <th>9</th>\n",
       "      <td>QX31376</td>\n",
       "      <td>Oregon</td>\n",
       "      <td>17114.328150</td>\n",
       "      <td>No</td>\n",
       "      <td>Extended</td>\n",
       "      <td>Master</td>\n",
       "      <td>2011-01-04</td>\n",
       "      <td>Employed</td>\n",
       "      <td>F</td>\n",
       "      <td>70961</td>\n",
       "      <td>...</td>\n",
       "      <td>2</td>\n",
       "      <td>Corporate Auto</td>\n",
       "      <td>Corporate L3</td>\n",
       "      <td>Offer2</td>\n",
       "      <td>Agent</td>\n",
       "      <td>408.000000</td>\n",
       "      <td>Four-Door Car</td>\n",
       "      <td>Small</td>\n",
       "      <td>NaN</td>\n",
       "      <td>January</td>\n",
       "    </tr>\n",
       "  </tbody>\n",
       "</table>\n",
       "<p>10 rows × 26 columns</p>\n",
       "</div>"
      ],
      "text/plain": [
       "  customer       state  customer lifetime value response  coverage  \\\n",
       "0  DK49336     Arizona              4809.216960       No     Basic   \n",
       "1  KX64629  California              2228.525238       No     Basic   \n",
       "2  LZ68649  Washington             14947.917300       No     Basic   \n",
       "3  XL78013      Oregon             22332.439460      Yes  Extended   \n",
       "4  QA50777      Oregon              9025.067525       No   Premium   \n",
       "5  HO81102         NaN              4745.181764      NaN     Basic   \n",
       "6  IW72280  California              5035.035257       No     Basic   \n",
       "7  IH64929  California              4956.247235       No     Basic   \n",
       "8  FM55990  California              5989.773931      Yes   Premium   \n",
       "9  QX31376      Oregon             17114.328150       No  Extended   \n",
       "\n",
       "              education effective to date employment status gender  income  \\\n",
       "0               College        2011-02-18          Employed      M   48029   \n",
       "1               College        2011-01-18        Unemployed      F       0   \n",
       "2              Bachelor        2011-02-10          Employed      M   22139   \n",
       "3               College        2011-01-11          Employed      M   49078   \n",
       "4              Bachelor        2011-01-17     Medical Leave      F   23675   \n",
       "5  High School or Below        2011-02-14          Employed      M   50549   \n",
       "6                Doctor        2011-02-14          Employed      F   37405   \n",
       "7  High School or Below        2011-02-24          Employed      M   87197   \n",
       "8               College        2011-01-19          Employed      M   66839   \n",
       "9                Master        2011-01-04          Employed      F   70961   \n",
       "\n",
       "   ... number of policies     policy type        policy  renew offer type  \\\n",
       "0  ...                  9  Corporate Auto  Corporate L3            Offer3   \n",
       "1  ...                  1   Personal Auto   Personal L3            Offer4   \n",
       "2  ...                  2   Personal Auto   Personal L3            Offer3   \n",
       "3  ...                  2  Corporate Auto  Corporate L3            Offer2   \n",
       "4  ...                  7   Personal Auto   Personal L2            Offer1   \n",
       "5  ...                  7   Personal Auto   Personal L3            Offer1   \n",
       "6  ...                  4  Corporate Auto  Corporate L2            Offer2   \n",
       "7  ...                  3   Personal Auto   Personal L2            Offer2   \n",
       "8  ...                  1   Personal Auto   Personal L1            Offer2   \n",
       "9  ...                  2  Corporate Auto  Corporate L3            Offer2   \n",
       "\n",
       "   sales channel  total claim amount  vehicle class vehicle size vehicle type  \\\n",
       "0          Agent          292.800000  Four-Door Car      Medsize          NaN   \n",
       "1    Call Center          744.924331  Four-Door Car      Medsize          NaN   \n",
       "2    Call Center          480.000000            SUV      Medsize            A   \n",
       "3         Branch          484.013411  Four-Door Car      Medsize            A   \n",
       "4         Branch          707.925645  Four-Door Car      Medsize          NaN   \n",
       "5          Agent          292.800000  Four-Door Car      Medsize            A   \n",
       "6         Branch          287.556107  Four-Door Car      Medsize          NaN   \n",
       "7         Branch          247.402353   Two-Door Car      Medsize          NaN   \n",
       "8         Branch          739.200000     Sports Car      Medsize          NaN   \n",
       "9          Agent          408.000000  Four-Door Car        Small          NaN   \n",
       "\n",
       "      month  \n",
       "0  February  \n",
       "1   January  \n",
       "2  February  \n",
       "3   January  \n",
       "4   January  \n",
       "5  February  \n",
       "6  February  \n",
       "7  February  \n",
       "8   January  \n",
       "9   January  \n",
       "\n",
       "[10 rows x 26 columns]"
      ]
     },
     "metadata": {},
     "output_type": "display_data"
    }
   ],
   "source": [
    "display(data1.head(10))"
   ]
  },
  {
   "cell_type": "code",
   "execution_count": 65,
   "id": "cdbc1e19",
   "metadata": {},
   "outputs": [],
   "source": [
    "data1['quarter'] = data1['effective to date'].dt.quarter"
   ]
  },
  {
   "cell_type": "code",
   "execution_count": 66,
   "id": "426cbd30",
   "metadata": {},
   "outputs": [
    {
     "data": {
      "text/html": [
       "<div>\n",
       "<style scoped>\n",
       "    .dataframe tbody tr th:only-of-type {\n",
       "        vertical-align: middle;\n",
       "    }\n",
       "\n",
       "    .dataframe tbody tr th {\n",
       "        vertical-align: top;\n",
       "    }\n",
       "\n",
       "    .dataframe thead th {\n",
       "        text-align: right;\n",
       "    }\n",
       "</style>\n",
       "<table border=\"1\" class=\"dataframe\">\n",
       "  <thead>\n",
       "    <tr style=\"text-align: right;\">\n",
       "      <th></th>\n",
       "      <th>customer</th>\n",
       "      <th>state</th>\n",
       "      <th>customer lifetime value</th>\n",
       "      <th>response</th>\n",
       "      <th>coverage</th>\n",
       "      <th>education</th>\n",
       "      <th>effective to date</th>\n",
       "      <th>employment status</th>\n",
       "      <th>gender</th>\n",
       "      <th>income</th>\n",
       "      <th>...</th>\n",
       "      <th>policy type</th>\n",
       "      <th>policy</th>\n",
       "      <th>renew offer type</th>\n",
       "      <th>sales channel</th>\n",
       "      <th>total claim amount</th>\n",
       "      <th>vehicle class</th>\n",
       "      <th>vehicle size</th>\n",
       "      <th>vehicle type</th>\n",
       "      <th>month</th>\n",
       "      <th>quarter</th>\n",
       "    </tr>\n",
       "  </thead>\n",
       "  <tbody>\n",
       "    <tr>\n",
       "      <th>10905</th>\n",
       "      <td>FE99816</td>\n",
       "      <td>Nevada</td>\n",
       "      <td>15563.369440</td>\n",
       "      <td>No</td>\n",
       "      <td>Premium</td>\n",
       "      <td>Bachelor</td>\n",
       "      <td>2011-01-19</td>\n",
       "      <td>Unemployed</td>\n",
       "      <td>F</td>\n",
       "      <td>0</td>\n",
       "      <td>...</td>\n",
       "      <td>Personal Auto</td>\n",
       "      <td>Personal L1</td>\n",
       "      <td>Offer3</td>\n",
       "      <td>Web</td>\n",
       "      <td>1214.400000</td>\n",
       "      <td>Luxury Car</td>\n",
       "      <td>Medsize</td>\n",
       "      <td>A</td>\n",
       "      <td>January</td>\n",
       "      <td>1</td>\n",
       "    </tr>\n",
       "    <tr>\n",
       "      <th>10906</th>\n",
       "      <td>KX53892</td>\n",
       "      <td>Oregon</td>\n",
       "      <td>5259.444853</td>\n",
       "      <td>No</td>\n",
       "      <td>Basic</td>\n",
       "      <td>College</td>\n",
       "      <td>2011-01-06</td>\n",
       "      <td>Employed</td>\n",
       "      <td>F</td>\n",
       "      <td>61146</td>\n",
       "      <td>...</td>\n",
       "      <td>Personal Auto</td>\n",
       "      <td>Personal L3</td>\n",
       "      <td>Offer2</td>\n",
       "      <td>Branch</td>\n",
       "      <td>273.018929</td>\n",
       "      <td>Four-Door Car</td>\n",
       "      <td>Medsize</td>\n",
       "      <td>A</td>\n",
       "      <td>January</td>\n",
       "      <td>1</td>\n",
       "    </tr>\n",
       "    <tr>\n",
       "      <th>10907</th>\n",
       "      <td>TL39050</td>\n",
       "      <td>Arizona</td>\n",
       "      <td>23893.304100</td>\n",
       "      <td>No</td>\n",
       "      <td>Extended</td>\n",
       "      <td>Bachelor</td>\n",
       "      <td>2011-02-06</td>\n",
       "      <td>Employed</td>\n",
       "      <td>F</td>\n",
       "      <td>39837</td>\n",
       "      <td>...</td>\n",
       "      <td>Corporate Auto</td>\n",
       "      <td>Corporate L3</td>\n",
       "      <td>Offer1</td>\n",
       "      <td>Web</td>\n",
       "      <td>381.306996</td>\n",
       "      <td>Luxury SUV</td>\n",
       "      <td>Medsize</td>\n",
       "      <td>NaN</td>\n",
       "      <td>February</td>\n",
       "      <td>1</td>\n",
       "    </tr>\n",
       "    <tr>\n",
       "      <th>10908</th>\n",
       "      <td>WA60547</td>\n",
       "      <td>California</td>\n",
       "      <td>11971.977650</td>\n",
       "      <td>No</td>\n",
       "      <td>Premium</td>\n",
       "      <td>College</td>\n",
       "      <td>2011-02-13</td>\n",
       "      <td>Employed</td>\n",
       "      <td>F</td>\n",
       "      <td>64195</td>\n",
       "      <td>...</td>\n",
       "      <td>Personal Auto</td>\n",
       "      <td>Personal L1</td>\n",
       "      <td>Offer1</td>\n",
       "      <td>Branch</td>\n",
       "      <td>618.288849</td>\n",
       "      <td>SUV</td>\n",
       "      <td>Medsize</td>\n",
       "      <td>A</td>\n",
       "      <td>February</td>\n",
       "      <td>1</td>\n",
       "    </tr>\n",
       "    <tr>\n",
       "      <th>10909</th>\n",
       "      <td>IV32877</td>\n",
       "      <td>NaN</td>\n",
       "      <td>6857.519928</td>\n",
       "      <td>NaN</td>\n",
       "      <td>Basic</td>\n",
       "      <td>Bachelor</td>\n",
       "      <td>2011-01-08</td>\n",
       "      <td>Unemployed</td>\n",
       "      <td>M</td>\n",
       "      <td>0</td>\n",
       "      <td>...</td>\n",
       "      <td>Personal Auto</td>\n",
       "      <td>Personal L1</td>\n",
       "      <td>Offer4</td>\n",
       "      <td>Web</td>\n",
       "      <td>1021.719397</td>\n",
       "      <td>SUV</td>\n",
       "      <td>Medsize</td>\n",
       "      <td>NaN</td>\n",
       "      <td>January</td>\n",
       "      <td>1</td>\n",
       "    </tr>\n",
       "  </tbody>\n",
       "</table>\n",
       "<p>5 rows × 27 columns</p>\n",
       "</div>"
      ],
      "text/plain": [
       "      customer       state  customer lifetime value response  coverage  \\\n",
       "10905  FE99816      Nevada             15563.369440       No   Premium   \n",
       "10906  KX53892      Oregon              5259.444853       No     Basic   \n",
       "10907  TL39050     Arizona             23893.304100       No  Extended   \n",
       "10908  WA60547  California             11971.977650       No   Premium   \n",
       "10909  IV32877         NaN              6857.519928      NaN     Basic   \n",
       "\n",
       "      education effective to date employment status gender  income  ...  \\\n",
       "10905  Bachelor        2011-01-19        Unemployed      F       0  ...   \n",
       "10906   College        2011-01-06          Employed      F   61146  ...   \n",
       "10907  Bachelor        2011-02-06          Employed      F   39837  ...   \n",
       "10908   College        2011-02-13          Employed      F   64195  ...   \n",
       "10909  Bachelor        2011-01-08        Unemployed      M       0  ...   \n",
       "\n",
       "          policy type        policy  renew offer type  sales channel  \\\n",
       "10905   Personal Auto   Personal L1            Offer3            Web   \n",
       "10906   Personal Auto   Personal L3            Offer2         Branch   \n",
       "10907  Corporate Auto  Corporate L3            Offer1            Web   \n",
       "10908   Personal Auto   Personal L1            Offer1         Branch   \n",
       "10909   Personal Auto   Personal L1            Offer4            Web   \n",
       "\n",
       "       total claim amount  vehicle class  vehicle size vehicle type     month  \\\n",
       "10905         1214.400000     Luxury Car       Medsize            A   January   \n",
       "10906          273.018929  Four-Door Car       Medsize            A   January   \n",
       "10907          381.306996     Luxury SUV       Medsize          NaN  February   \n",
       "10908          618.288849            SUV       Medsize            A  February   \n",
       "10909         1021.719397            SUV       Medsize          NaN   January   \n",
       "\n",
       "      quarter  \n",
       "10905       1  \n",
       "10906       1  \n",
       "10907       1  \n",
       "10908       1  \n",
       "10909       1  \n",
       "\n",
       "[5 rows x 27 columns]"
      ]
     },
     "metadata": {},
     "output_type": "display_data"
    }
   ],
   "source": [
    "display(data1.tail())"
   ]
  },
  {
   "cell_type": "code",
   "execution_count": 67,
   "id": "92a528be",
   "metadata": {},
   "outputs": [],
   "source": [
    "data2=data1.copy()"
   ]
  },
  {
   "cell_type": "markdown",
   "id": "10f14a04",
   "metadata": {},
   "source": [
    "# Lab5Round3"
   ]
  },
  {
   "cell_type": "markdown",
   "id": "68e7ed99",
   "metadata": {},
   "source": [
    "Show DataFrame info."
   ]
  },
  {
   "cell_type": "code",
   "execution_count": 68,
   "id": "3f174e17",
   "metadata": {},
   "outputs": [
    {
     "name": "stdout",
     "output_type": "stream",
     "text": [
      "<class 'pandas.core.frame.DataFrame'>\n",
      "RangeIndex: 10910 entries, 0 to 10909\n",
      "Data columns (total 27 columns):\n",
      " #   Column                         Non-Null Count  Dtype         \n",
      "---  ------                         --------------  -----         \n",
      " 0   customer                       10910 non-null  object        \n",
      " 1   state                          10279 non-null  object        \n",
      " 2   customer lifetime value        10910 non-null  float64       \n",
      " 3   response                       10279 non-null  object        \n",
      " 4   coverage                       10910 non-null  object        \n",
      " 5   education                      10910 non-null  object        \n",
      " 6   effective to date              10910 non-null  datetime64[ns]\n",
      " 7   employment status              10910 non-null  object        \n",
      " 8   gender                         10910 non-null  object        \n",
      " 9   income                         10910 non-null  int64         \n",
      " 10  location code                  10910 non-null  object        \n",
      " 11  marital status                 10910 non-null  object        \n",
      " 12  monthly premium auto           10910 non-null  int64         \n",
      " 13  months since last claim        10277 non-null  float64       \n",
      " 14  months since policy inception  10910 non-null  int64         \n",
      " 15  number of open complaints      10277 non-null  float64       \n",
      " 16  number of policies             10910 non-null  int64         \n",
      " 17  policy type                    10910 non-null  object        \n",
      " 18  policy                         10910 non-null  object        \n",
      " 19  renew offer type               10910 non-null  object        \n",
      " 20  sales channel                  10910 non-null  object        \n",
      " 21  total claim amount             10910 non-null  float64       \n",
      " 22  vehicle class                  10288 non-null  object        \n",
      " 23  vehicle size                   10288 non-null  object        \n",
      " 24  vehicle type                   5428 non-null   object        \n",
      " 25  month                          10910 non-null  object        \n",
      " 26  quarter                        10910 non-null  int64         \n",
      "dtypes: datetime64[ns](1), float64(4), int64(5), object(17)\n",
      "memory usage: 2.2+ MB\n"
     ]
    }
   ],
   "source": [
    "data1.info()"
   ]
  },
  {
   "cell_type": "markdown",
   "id": "be4e7aae",
   "metadata": {},
   "source": [
    "Describe DataFrame."
   ]
  },
  {
   "cell_type": "code",
   "execution_count": 69,
   "id": "700bf40e",
   "metadata": {},
   "outputs": [
    {
     "data": {
      "text/html": [
       "<div>\n",
       "<style scoped>\n",
       "    .dataframe tbody tr th:only-of-type {\n",
       "        vertical-align: middle;\n",
       "    }\n",
       "\n",
       "    .dataframe tbody tr th {\n",
       "        vertical-align: top;\n",
       "    }\n",
       "\n",
       "    .dataframe thead th {\n",
       "        text-align: right;\n",
       "    }\n",
       "</style>\n",
       "<table border=\"1\" class=\"dataframe\">\n",
       "  <thead>\n",
       "    <tr style=\"text-align: right;\">\n",
       "      <th></th>\n",
       "      <th>customer lifetime value</th>\n",
       "      <th>income</th>\n",
       "      <th>monthly premium auto</th>\n",
       "      <th>months since last claim</th>\n",
       "      <th>months since policy inception</th>\n",
       "      <th>number of open complaints</th>\n",
       "      <th>number of policies</th>\n",
       "      <th>total claim amount</th>\n",
       "      <th>quarter</th>\n",
       "    </tr>\n",
       "  </thead>\n",
       "  <tbody>\n",
       "    <tr>\n",
       "      <th>count</th>\n",
       "      <td>10910.000000</td>\n",
       "      <td>10910.000000</td>\n",
       "      <td>10910.000000</td>\n",
       "      <td>10277.000000</td>\n",
       "      <td>10910.000000</td>\n",
       "      <td>10277.000000</td>\n",
       "      <td>10910.000000</td>\n",
       "      <td>10910.000000</td>\n",
       "      <td>10910.0</td>\n",
       "    </tr>\n",
       "    <tr>\n",
       "      <th>mean</th>\n",
       "      <td>8018.241094</td>\n",
       "      <td>37536.284785</td>\n",
       "      <td>93.196059</td>\n",
       "      <td>15.149071</td>\n",
       "      <td>48.091934</td>\n",
       "      <td>0.384256</td>\n",
       "      <td>2.979193</td>\n",
       "      <td>434.888330</td>\n",
       "      <td>1.0</td>\n",
       "    </tr>\n",
       "    <tr>\n",
       "      <th>std</th>\n",
       "      <td>6885.081434</td>\n",
       "      <td>30359.195670</td>\n",
       "      <td>34.442532</td>\n",
       "      <td>10.080349</td>\n",
       "      <td>27.940675</td>\n",
       "      <td>0.912457</td>\n",
       "      <td>2.399359</td>\n",
       "      <td>292.180556</td>\n",
       "      <td>0.0</td>\n",
       "    </tr>\n",
       "    <tr>\n",
       "      <th>min</th>\n",
       "      <td>1898.007675</td>\n",
       "      <td>0.000000</td>\n",
       "      <td>61.000000</td>\n",
       "      <td>0.000000</td>\n",
       "      <td>0.000000</td>\n",
       "      <td>0.000000</td>\n",
       "      <td>1.000000</td>\n",
       "      <td>0.099007</td>\n",
       "      <td>1.0</td>\n",
       "    </tr>\n",
       "    <tr>\n",
       "      <th>25%</th>\n",
       "      <td>4014.453113</td>\n",
       "      <td>0.000000</td>\n",
       "      <td>68.000000</td>\n",
       "      <td>6.000000</td>\n",
       "      <td>24.000000</td>\n",
       "      <td>0.000000</td>\n",
       "      <td>1.000000</td>\n",
       "      <td>271.082527</td>\n",
       "      <td>1.0</td>\n",
       "    </tr>\n",
       "    <tr>\n",
       "      <th>50%</th>\n",
       "      <td>5771.147235</td>\n",
       "      <td>33813.500000</td>\n",
       "      <td>83.000000</td>\n",
       "      <td>14.000000</td>\n",
       "      <td>48.000000</td>\n",
       "      <td>0.000000</td>\n",
       "      <td>2.000000</td>\n",
       "      <td>382.564630</td>\n",
       "      <td>1.0</td>\n",
       "    </tr>\n",
       "    <tr>\n",
       "      <th>75%</th>\n",
       "      <td>8992.779137</td>\n",
       "      <td>62250.750000</td>\n",
       "      <td>109.000000</td>\n",
       "      <td>23.000000</td>\n",
       "      <td>71.000000</td>\n",
       "      <td>0.000000</td>\n",
       "      <td>4.000000</td>\n",
       "      <td>547.200000</td>\n",
       "      <td>1.0</td>\n",
       "    </tr>\n",
       "    <tr>\n",
       "      <th>max</th>\n",
       "      <td>83325.381190</td>\n",
       "      <td>99981.000000</td>\n",
       "      <td>298.000000</td>\n",
       "      <td>35.000000</td>\n",
       "      <td>99.000000</td>\n",
       "      <td>5.000000</td>\n",
       "      <td>9.000000</td>\n",
       "      <td>2893.239678</td>\n",
       "      <td>1.0</td>\n",
       "    </tr>\n",
       "  </tbody>\n",
       "</table>\n",
       "</div>"
      ],
      "text/plain": [
       "       customer lifetime value        income  monthly premium auto  \\\n",
       "count             10910.000000  10910.000000          10910.000000   \n",
       "mean               8018.241094  37536.284785             93.196059   \n",
       "std                6885.081434  30359.195670             34.442532   \n",
       "min                1898.007675      0.000000             61.000000   \n",
       "25%                4014.453113      0.000000             68.000000   \n",
       "50%                5771.147235  33813.500000             83.000000   \n",
       "75%                8992.779137  62250.750000            109.000000   \n",
       "max               83325.381190  99981.000000            298.000000   \n",
       "\n",
       "       months since last claim  months since policy inception  \\\n",
       "count             10277.000000                   10910.000000   \n",
       "mean                 15.149071                      48.091934   \n",
       "std                  10.080349                      27.940675   \n",
       "min                   0.000000                       0.000000   \n",
       "25%                   6.000000                      24.000000   \n",
       "50%                  14.000000                      48.000000   \n",
       "75%                  23.000000                      71.000000   \n",
       "max                  35.000000                      99.000000   \n",
       "\n",
       "       number of open complaints  number of policies  total claim amount  \\\n",
       "count               10277.000000        10910.000000        10910.000000   \n",
       "mean                    0.384256            2.979193          434.888330   \n",
       "std                     0.912457            2.399359          292.180556   \n",
       "min                     0.000000            1.000000            0.099007   \n",
       "25%                     0.000000            1.000000          271.082527   \n",
       "50%                     0.000000            2.000000          382.564630   \n",
       "75%                     0.000000            4.000000          547.200000   \n",
       "max                     5.000000            9.000000         2893.239678   \n",
       "\n",
       "       quarter  \n",
       "count  10910.0  \n",
       "mean       1.0  \n",
       "std        0.0  \n",
       "min        1.0  \n",
       "25%        1.0  \n",
       "50%        1.0  \n",
       "75%        1.0  \n",
       "max        1.0  "
      ]
     },
     "execution_count": 69,
     "metadata": {},
     "output_type": "execute_result"
    }
   ],
   "source": [
    "data1.describe()"
   ]
  },
  {
   "cell_type": "code",
   "execution_count": 70,
   "id": "a55f971a",
   "metadata": {},
   "outputs": [
    {
     "data": {
      "text/html": [
       "<div>\n",
       "<style scoped>\n",
       "    .dataframe tbody tr th:only-of-type {\n",
       "        vertical-align: middle;\n",
       "    }\n",
       "\n",
       "    .dataframe tbody tr th {\n",
       "        vertical-align: top;\n",
       "    }\n",
       "\n",
       "    .dataframe thead th {\n",
       "        text-align: right;\n",
       "    }\n",
       "</style>\n",
       "<table border=\"1\" class=\"dataframe\">\n",
       "  <thead>\n",
       "    <tr style=\"text-align: right;\">\n",
       "      <th></th>\n",
       "      <th>count</th>\n",
       "      <th>mean</th>\n",
       "      <th>std</th>\n",
       "      <th>min</th>\n",
       "      <th>25%</th>\n",
       "      <th>50%</th>\n",
       "      <th>75%</th>\n",
       "      <th>max</th>\n",
       "    </tr>\n",
       "  </thead>\n",
       "  <tbody>\n",
       "    <tr>\n",
       "      <th>customer lifetime value</th>\n",
       "      <td>10910.0</td>\n",
       "      <td>8018.241094</td>\n",
       "      <td>6885.081434</td>\n",
       "      <td>1898.007675</td>\n",
       "      <td>4014.453113</td>\n",
       "      <td>5771.147235</td>\n",
       "      <td>8992.779137</td>\n",
       "      <td>83325.381190</td>\n",
       "    </tr>\n",
       "    <tr>\n",
       "      <th>income</th>\n",
       "      <td>10910.0</td>\n",
       "      <td>37536.284785</td>\n",
       "      <td>30359.195670</td>\n",
       "      <td>0.000000</td>\n",
       "      <td>0.000000</td>\n",
       "      <td>33813.500000</td>\n",
       "      <td>62250.750000</td>\n",
       "      <td>99981.000000</td>\n",
       "    </tr>\n",
       "    <tr>\n",
       "      <th>monthly premium auto</th>\n",
       "      <td>10910.0</td>\n",
       "      <td>93.196059</td>\n",
       "      <td>34.442532</td>\n",
       "      <td>61.000000</td>\n",
       "      <td>68.000000</td>\n",
       "      <td>83.000000</td>\n",
       "      <td>109.000000</td>\n",
       "      <td>298.000000</td>\n",
       "    </tr>\n",
       "    <tr>\n",
       "      <th>months since last claim</th>\n",
       "      <td>10277.0</td>\n",
       "      <td>15.149071</td>\n",
       "      <td>10.080349</td>\n",
       "      <td>0.000000</td>\n",
       "      <td>6.000000</td>\n",
       "      <td>14.000000</td>\n",
       "      <td>23.000000</td>\n",
       "      <td>35.000000</td>\n",
       "    </tr>\n",
       "    <tr>\n",
       "      <th>months since policy inception</th>\n",
       "      <td>10910.0</td>\n",
       "      <td>48.091934</td>\n",
       "      <td>27.940675</td>\n",
       "      <td>0.000000</td>\n",
       "      <td>24.000000</td>\n",
       "      <td>48.000000</td>\n",
       "      <td>71.000000</td>\n",
       "      <td>99.000000</td>\n",
       "    </tr>\n",
       "    <tr>\n",
       "      <th>number of open complaints</th>\n",
       "      <td>10277.0</td>\n",
       "      <td>0.384256</td>\n",
       "      <td>0.912457</td>\n",
       "      <td>0.000000</td>\n",
       "      <td>0.000000</td>\n",
       "      <td>0.000000</td>\n",
       "      <td>0.000000</td>\n",
       "      <td>5.000000</td>\n",
       "    </tr>\n",
       "    <tr>\n",
       "      <th>number of policies</th>\n",
       "      <td>10910.0</td>\n",
       "      <td>2.979193</td>\n",
       "      <td>2.399359</td>\n",
       "      <td>1.000000</td>\n",
       "      <td>1.000000</td>\n",
       "      <td>2.000000</td>\n",
       "      <td>4.000000</td>\n",
       "      <td>9.000000</td>\n",
       "    </tr>\n",
       "    <tr>\n",
       "      <th>total claim amount</th>\n",
       "      <td>10910.0</td>\n",
       "      <td>434.888330</td>\n",
       "      <td>292.180556</td>\n",
       "      <td>0.099007</td>\n",
       "      <td>271.082527</td>\n",
       "      <td>382.564630</td>\n",
       "      <td>547.200000</td>\n",
       "      <td>2893.239678</td>\n",
       "    </tr>\n",
       "    <tr>\n",
       "      <th>quarter</th>\n",
       "      <td>10910.0</td>\n",
       "      <td>1.000000</td>\n",
       "      <td>0.000000</td>\n",
       "      <td>1.000000</td>\n",
       "      <td>1.000000</td>\n",
       "      <td>1.000000</td>\n",
       "      <td>1.000000</td>\n",
       "      <td>1.000000</td>\n",
       "    </tr>\n",
       "  </tbody>\n",
       "</table>\n",
       "</div>"
      ],
      "text/plain": [
       "                                 count          mean           std  \\\n",
       "customer lifetime value        10910.0   8018.241094   6885.081434   \n",
       "income                         10910.0  37536.284785  30359.195670   \n",
       "monthly premium auto           10910.0     93.196059     34.442532   \n",
       "months since last claim        10277.0     15.149071     10.080349   \n",
       "months since policy inception  10910.0     48.091934     27.940675   \n",
       "number of open complaints      10277.0      0.384256      0.912457   \n",
       "number of policies             10910.0      2.979193      2.399359   \n",
       "total claim amount             10910.0    434.888330    292.180556   \n",
       "quarter                        10910.0      1.000000      0.000000   \n",
       "\n",
       "                                       min          25%           50%  \\\n",
       "customer lifetime value        1898.007675  4014.453113   5771.147235   \n",
       "income                            0.000000     0.000000  33813.500000   \n",
       "monthly premium auto             61.000000    68.000000     83.000000   \n",
       "months since last claim           0.000000     6.000000     14.000000   \n",
       "months since policy inception     0.000000    24.000000     48.000000   \n",
       "number of open complaints         0.000000     0.000000      0.000000   \n",
       "number of policies                1.000000     1.000000      2.000000   \n",
       "total claim amount                0.099007   271.082527    382.564630   \n",
       "quarter                           1.000000     1.000000      1.000000   \n",
       "\n",
       "                                        75%           max  \n",
       "customer lifetime value         8992.779137  83325.381190  \n",
       "income                         62250.750000  99981.000000  \n",
       "monthly premium auto             109.000000    298.000000  \n",
       "months since last claim           23.000000     35.000000  \n",
       "months since policy inception     71.000000     99.000000  \n",
       "number of open complaints          0.000000      5.000000  \n",
       "number of policies                 4.000000      9.000000  \n",
       "total claim amount               547.200000   2893.239678  \n",
       "quarter                            1.000000      1.000000  "
      ]
     },
     "execution_count": 70,
     "metadata": {},
     "output_type": "execute_result"
    }
   ],
   "source": [
    "data1.describe().T"
   ]
  },
  {
   "cell_type": "markdown",
   "id": "3359ee55",
   "metadata": {},
   "source": [
    "Show a plot of the total number of responses."
   ]
  },
  {
   "cell_type": "code",
   "execution_count": 71,
   "id": "bbfca5e3",
   "metadata": {},
   "outputs": [
    {
     "data": {
      "text/plain": [
       "array(['No', 'Yes', nan], dtype=object)"
      ]
     },
     "execution_count": 71,
     "metadata": {},
     "output_type": "execute_result"
    }
   ],
   "source": [
    "data1['response'].unique()"
   ]
  },
  {
   "cell_type": "code",
   "execution_count": 72,
   "id": "d60b78a2",
   "metadata": {},
   "outputs": [
    {
     "data": {
      "text/plain": [
       "No     8813\n",
       "Yes    1466\n",
       "Name: response, dtype: int64"
      ]
     },
     "execution_count": 72,
     "metadata": {},
     "output_type": "execute_result"
    }
   ],
   "source": [
    "data1['response'].value_counts()"
   ]
  },
  {
   "cell_type": "code",
   "execution_count": 73,
   "id": "9830f05d",
   "metadata": {},
   "outputs": [
    {
     "data": {
      "text/plain": [
       "631"
      ]
     },
     "execution_count": 73,
     "metadata": {},
     "output_type": "execute_result"
    }
   ],
   "source": [
    "len(data1[data1['response'].isna()==True])"
   ]
  },
  {
   "cell_type": "markdown",
   "id": "dbb351ee",
   "metadata": {},
   "source": [
    "The response \"No\" is very high compared to \"Yes\". Therefore, most common value could be used to replace the missing values. Moreover, more people prefer to say nothing instead of \"No\"."
   ]
  },
  {
   "cell_type": "code",
   "execution_count": 74,
   "id": "044f94fa",
   "metadata": {},
   "outputs": [],
   "source": [
    "data1['response_modified']=data1['response'].fillna('No')"
   ]
  },
  {
   "cell_type": "code",
   "execution_count": 76,
   "id": "f4a526d2",
   "metadata": {},
   "outputs": [
    {
     "data": {
      "text/plain": [
       "0"
      ]
     },
     "execution_count": 76,
     "metadata": {},
     "output_type": "execute_result"
    }
   ],
   "source": [
    "len(data1[data1['response_modified'].isna()==True])"
   ]
  },
  {
   "cell_type": "code",
   "execution_count": 77,
   "id": "ac84474b",
   "metadata": {},
   "outputs": [],
   "source": [
    "import pandas as pd\n",
    "import numpy as np\n",
    "import math\n",
    "import matplotlib.pyplot as plt\n",
    "import seaborn as sns\n",
    "import scipy.stats as stats"
   ]
  },
  {
   "cell_type": "code",
   "execution_count": 78,
   "id": "70c91731",
   "metadata": {},
   "outputs": [
    {
     "data": {
      "image/png": "[encoded data removed]",
      "text/plain": [
       "<Figure size 432x288 with 1 Axes>"
      ]
     },
     "metadata": {
      "needs_background": "light"
     },
     "output_type": "display_data"
    }
   ],
   "source": [
    "data1['response_modified'].hist()\n",
    "plt.show()"
   ]
  },
  {
   "cell_type": "code",
   "execution_count": 79,
   "id": "4d5b41c9",
   "metadata": {},
   "outputs": [
    {
     "data": {
      "image/png": "[encoded data removed]",
      "text/plain": [
       "<Figure size 360x360 with 1 Axes>"
      ]
     },
     "metadata": {
      "needs_background": "light"
     },
     "output_type": "display_data"
    }
   ],
   "source": [
    "sns.displot(data1['response_modified'],color='NavajoWhite')\n",
    "plt.xlabel(\"modified response\")\n",
    "plt.show()"
   ]
  },
  {
   "cell_type": "markdown",
   "id": "faa20f27",
   "metadata": {},
   "source": [
    "Show a plot of the response rate by the sales channel."
   ]
  },
  {
   "cell_type": "code",
   "execution_count": 82,
   "id": "9d2ee5ff",
   "metadata": {},
   "outputs": [],
   "source": [
    "sns.set_theme(style=\"whitegrid\")"
   ]
  },
  {
   "cell_type": "code",
   "execution_count": 81,
   "id": "2d7f8ebc",
   "metadata": {},
   "outputs": [
    {
     "data": {
      "text/plain": [
       "Index(['customer', 'state', 'customer lifetime value', 'response', 'coverage',\n",
       "       'education', 'effective to date', 'employment status', 'gender',\n",
       "       'income', 'location code', 'marital status', 'monthly premium auto',\n",
       "       'months since last claim', 'months since policy inception',\n",
       "       'number of open complaints', 'number of policies', 'policy type',\n",
       "       'policy', 'renew offer type', 'sales channel', 'total claim amount',\n",
       "       'vehicle class', 'vehicle size', 'vehicle type', 'month', 'quarter',\n",
       "       'response_modified'],\n",
       "      dtype='object')"
      ]
     },
     "execution_count": 81,
     "metadata": {},
     "output_type": "execute_result"
    }
   ],
   "source": [
    "data1.columns.unique()"
   ]
  },
  {
   "cell_type": "code",
   "execution_count": 83,
   "id": "1cedd147",
   "metadata": {
    "scrolled": true
   },
   "outputs": [
    {
     "data": {
      "text/html": [
       "<div>\n",
       "<style scoped>\n",
       "    .dataframe tbody tr th:only-of-type {\n",
       "        vertical-align: middle;\n",
       "    }\n",
       "\n",
       "    .dataframe tbody tr th {\n",
       "        vertical-align: top;\n",
       "    }\n",
       "\n",
       "    .dataframe thead th {\n",
       "        text-align: right;\n",
       "    }\n",
       "</style>\n",
       "<table border=\"1\" class=\"dataframe\">\n",
       "  <thead>\n",
       "    <tr style=\"text-align: right;\">\n",
       "      <th></th>\n",
       "      <th>customer</th>\n",
       "      <th>state</th>\n",
       "      <th>customer lifetime value</th>\n",
       "      <th>response</th>\n",
       "      <th>coverage</th>\n",
       "      <th>education</th>\n",
       "      <th>effective to date</th>\n",
       "      <th>employment status</th>\n",
       "      <th>gender</th>\n",
       "      <th>income</th>\n",
       "      <th>...</th>\n",
       "      <th>policy</th>\n",
       "      <th>renew offer type</th>\n",
       "      <th>sales channel</th>\n",
       "      <th>total claim amount</th>\n",
       "      <th>vehicle class</th>\n",
       "      <th>vehicle size</th>\n",
       "      <th>vehicle type</th>\n",
       "      <th>month</th>\n",
       "      <th>quarter</th>\n",
       "      <th>response_modified</th>\n",
       "    </tr>\n",
       "  </thead>\n",
       "  <tbody>\n",
       "    <tr>\n",
       "      <th>0</th>\n",
       "      <td>DK49336</td>\n",
       "      <td>Arizona</td>\n",
       "      <td>4809.216960</td>\n",
       "      <td>No</td>\n",
       "      <td>Basic</td>\n",
       "      <td>College</td>\n",
       "      <td>2011-02-18</td>\n",
       "      <td>Employed</td>\n",
       "      <td>M</td>\n",
       "      <td>48029</td>\n",
       "      <td>...</td>\n",
       "      <td>Corporate L3</td>\n",
       "      <td>Offer3</td>\n",
       "      <td>Agent</td>\n",
       "      <td>292.800000</td>\n",
       "      <td>Four-Door Car</td>\n",
       "      <td>Medsize</td>\n",
       "      <td>NaN</td>\n",
       "      <td>February</td>\n",
       "      <td>1</td>\n",
       "      <td>No</td>\n",
       "    </tr>\n",
       "    <tr>\n",
       "      <th>1</th>\n",
       "      <td>KX64629</td>\n",
       "      <td>California</td>\n",
       "      <td>2228.525238</td>\n",
       "      <td>No</td>\n",
       "      <td>Basic</td>\n",
       "      <td>College</td>\n",
       "      <td>2011-01-18</td>\n",
       "      <td>Unemployed</td>\n",
       "      <td>F</td>\n",
       "      <td>0</td>\n",
       "      <td>...</td>\n",
       "      <td>Personal L3</td>\n",
       "      <td>Offer4</td>\n",
       "      <td>Call Center</td>\n",
       "      <td>744.924331</td>\n",
       "      <td>Four-Door Car</td>\n",
       "      <td>Medsize</td>\n",
       "      <td>NaN</td>\n",
       "      <td>January</td>\n",
       "      <td>1</td>\n",
       "      <td>No</td>\n",
       "    </tr>\n",
       "    <tr>\n",
       "      <th>2</th>\n",
       "      <td>LZ68649</td>\n",
       "      <td>Washington</td>\n",
       "      <td>14947.917300</td>\n",
       "      <td>No</td>\n",
       "      <td>Basic</td>\n",
       "      <td>Bachelor</td>\n",
       "      <td>2011-02-10</td>\n",
       "      <td>Employed</td>\n",
       "      <td>M</td>\n",
       "      <td>22139</td>\n",
       "      <td>...</td>\n",
       "      <td>Personal L3</td>\n",
       "      <td>Offer3</td>\n",
       "      <td>Call Center</td>\n",
       "      <td>480.000000</td>\n",
       "      <td>SUV</td>\n",
       "      <td>Medsize</td>\n",
       "      <td>A</td>\n",
       "      <td>February</td>\n",
       "      <td>1</td>\n",
       "      <td>No</td>\n",
       "    </tr>\n",
       "    <tr>\n",
       "      <th>3</th>\n",
       "      <td>XL78013</td>\n",
       "      <td>Oregon</td>\n",
       "      <td>22332.439460</td>\n",
       "      <td>Yes</td>\n",
       "      <td>Extended</td>\n",
       "      <td>College</td>\n",
       "      <td>2011-01-11</td>\n",
       "      <td>Employed</td>\n",
       "      <td>M</td>\n",
       "      <td>49078</td>\n",
       "      <td>...</td>\n",
       "      <td>Corporate L3</td>\n",
       "      <td>Offer2</td>\n",
       "      <td>Branch</td>\n",
       "      <td>484.013411</td>\n",
       "      <td>Four-Door Car</td>\n",
       "      <td>Medsize</td>\n",
       "      <td>A</td>\n",
       "      <td>January</td>\n",
       "      <td>1</td>\n",
       "      <td>Yes</td>\n",
       "    </tr>\n",
       "    <tr>\n",
       "      <th>4</th>\n",
       "      <td>QA50777</td>\n",
       "      <td>Oregon</td>\n",
       "      <td>9025.067525</td>\n",
       "      <td>No</td>\n",
       "      <td>Premium</td>\n",
       "      <td>Bachelor</td>\n",
       "      <td>2011-01-17</td>\n",
       "      <td>Medical Leave</td>\n",
       "      <td>F</td>\n",
       "      <td>23675</td>\n",
       "      <td>...</td>\n",
       "      <td>Personal L2</td>\n",
       "      <td>Offer1</td>\n",
       "      <td>Branch</td>\n",
       "      <td>707.925645</td>\n",
       "      <td>Four-Door Car</td>\n",
       "      <td>Medsize</td>\n",
       "      <td>NaN</td>\n",
       "      <td>January</td>\n",
       "      <td>1</td>\n",
       "      <td>No</td>\n",
       "    </tr>\n",
       "    <tr>\n",
       "      <th>...</th>\n",
       "      <td>...</td>\n",
       "      <td>...</td>\n",
       "      <td>...</td>\n",
       "      <td>...</td>\n",
       "      <td>...</td>\n",
       "      <td>...</td>\n",
       "      <td>...</td>\n",
       "      <td>...</td>\n",
       "      <td>...</td>\n",
       "      <td>...</td>\n",
       "      <td>...</td>\n",
       "      <td>...</td>\n",
       "      <td>...</td>\n",
       "      <td>...</td>\n",
       "      <td>...</td>\n",
       "      <td>...</td>\n",
       "      <td>...</td>\n",
       "      <td>...</td>\n",
       "      <td>...</td>\n",
       "      <td>...</td>\n",
       "      <td>...</td>\n",
       "    </tr>\n",
       "    <tr>\n",
       "      <th>10905</th>\n",
       "      <td>FE99816</td>\n",
       "      <td>Nevada</td>\n",
       "      <td>15563.369440</td>\n",
       "      <td>No</td>\n",
       "      <td>Premium</td>\n",
       "      <td>Bachelor</td>\n",
       "      <td>2011-01-19</td>\n",
       "      <td>Unemployed</td>\n",
       "      <td>F</td>\n",
       "      <td>0</td>\n",
       "      <td>...</td>\n",
       "      <td>Personal L1</td>\n",
       "      <td>Offer3</td>\n",
       "      <td>Web</td>\n",
       "      <td>1214.400000</td>\n",
       "      <td>Luxury Car</td>\n",
       "      <td>Medsize</td>\n",
       "      <td>A</td>\n",
       "      <td>January</td>\n",
       "      <td>1</td>\n",
       "      <td>No</td>\n",
       "    </tr>\n",
       "    <tr>\n",
       "      <th>10906</th>\n",
       "      <td>KX53892</td>\n",
       "      <td>Oregon</td>\n",
       "      <td>5259.444853</td>\n",
       "      <td>No</td>\n",
       "      <td>Basic</td>\n",
       "      <td>College</td>\n",
       "      <td>2011-01-06</td>\n",
       "      <td>Employed</td>\n",
       "      <td>F</td>\n",
       "      <td>61146</td>\n",
       "      <td>...</td>\n",
       "      <td>Personal L3</td>\n",
       "      <td>Offer2</td>\n",
       "      <td>Branch</td>\n",
       "      <td>273.018929</td>\n",
       "      <td>Four-Door Car</td>\n",
       "      <td>Medsize</td>\n",
       "      <td>A</td>\n",
       "      <td>January</td>\n",
       "      <td>1</td>\n",
       "      <td>No</td>\n",
       "    </tr>\n",
       "    <tr>\n",
       "      <th>10907</th>\n",
       "      <td>TL39050</td>\n",
       "      <td>Arizona</td>\n",
       "      <td>23893.304100</td>\n",
       "      <td>No</td>\n",
       "      <td>Extended</td>\n",
       "      <td>Bachelor</td>\n",
       "      <td>2011-02-06</td>\n",
       "      <td>Employed</td>\n",
       "      <td>F</td>\n",
       "      <td>39837</td>\n",
       "      <td>...</td>\n",
       "      <td>Corporate L3</td>\n",
       "      <td>Offer1</td>\n",
       "      <td>Web</td>\n",
       "      <td>381.306996</td>\n",
       "      <td>Luxury SUV</td>\n",
       "      <td>Medsize</td>\n",
       "      <td>NaN</td>\n",
       "      <td>February</td>\n",
       "      <td>1</td>\n",
       "      <td>No</td>\n",
       "    </tr>\n",
       "    <tr>\n",
       "      <th>10908</th>\n",
       "      <td>WA60547</td>\n",
       "      <td>California</td>\n",
       "      <td>11971.977650</td>\n",
       "      <td>No</td>\n",
       "      <td>Premium</td>\n",
       "      <td>College</td>\n",
       "      <td>2011-02-13</td>\n",
       "      <td>Employed</td>\n",
       "      <td>F</td>\n",
       "      <td>64195</td>\n",
       "      <td>...</td>\n",
       "      <td>Personal L1</td>\n",
       "      <td>Offer1</td>\n",
       "      <td>Branch</td>\n",
       "      <td>618.288849</td>\n",
       "      <td>SUV</td>\n",
       "      <td>Medsize</td>\n",
       "      <td>A</td>\n",
       "      <td>February</td>\n",
       "      <td>1</td>\n",
       "      <td>No</td>\n",
       "    </tr>\n",
       "    <tr>\n",
       "      <th>10909</th>\n",
       "      <td>IV32877</td>\n",
       "      <td>NaN</td>\n",
       "      <td>6857.519928</td>\n",
       "      <td>NaN</td>\n",
       "      <td>Basic</td>\n",
       "      <td>Bachelor</td>\n",
       "      <td>2011-01-08</td>\n",
       "      <td>Unemployed</td>\n",
       "      <td>M</td>\n",
       "      <td>0</td>\n",
       "      <td>...</td>\n",
       "      <td>Personal L1</td>\n",
       "      <td>Offer4</td>\n",
       "      <td>Web</td>\n",
       "      <td>1021.719397</td>\n",
       "      <td>SUV</td>\n",
       "      <td>Medsize</td>\n",
       "      <td>NaN</td>\n",
       "      <td>January</td>\n",
       "      <td>1</td>\n",
       "      <td>No</td>\n",
       "    </tr>\n",
       "  </tbody>\n",
       "</table>\n",
       "<p>10910 rows × 28 columns</p>\n",
       "</div>"
      ],
      "text/plain": [
       "      customer       state  customer lifetime value response  coverage  \\\n",
       "0      DK49336     Arizona              4809.216960       No     Basic   \n",
       "1      KX64629  California              2228.525238       No     Basic   \n",
       "2      LZ68649  Washington             14947.917300       No     Basic   \n",
       "3      XL78013      Oregon             22332.439460      Yes  Extended   \n",
       "4      QA50777      Oregon              9025.067525       No   Premium   \n",
       "...        ...         ...                      ...      ...       ...   \n",
       "10905  FE99816      Nevada             15563.369440       No   Premium   \n",
       "10906  KX53892      Oregon              5259.444853       No     Basic   \n",
       "10907  TL39050     Arizona             23893.304100       No  Extended   \n",
       "10908  WA60547  California             11971.977650       No   Premium   \n",
       "10909  IV32877         NaN              6857.519928      NaN     Basic   \n",
       "\n",
       "      education effective to date employment status gender  income  ...  \\\n",
       "0       College        2011-02-18          Employed      M   48029  ...   \n",
       "1       College        2011-01-18        Unemployed      F       0  ...   \n",
       "2      Bachelor        2011-02-10          Employed      M   22139  ...   \n",
       "3       College        2011-01-11          Employed      M   49078  ...   \n",
       "4      Bachelor        2011-01-17     Medical Leave      F   23675  ...   \n",
       "...         ...               ...               ...    ...     ...  ...   \n",
       "10905  Bachelor        2011-01-19        Unemployed      F       0  ...   \n",
       "10906   College        2011-01-06          Employed      F   61146  ...   \n",
       "10907  Bachelor        2011-02-06          Employed      F   39837  ...   \n",
       "10908   College        2011-02-13          Employed      F   64195  ...   \n",
       "10909  Bachelor        2011-01-08        Unemployed      M       0  ...   \n",
       "\n",
       "             policy renew offer type  sales channel  total claim amount  \\\n",
       "0      Corporate L3           Offer3          Agent          292.800000   \n",
       "1       Personal L3           Offer4    Call Center          744.924331   \n",
       "2       Personal L3           Offer3    Call Center          480.000000   \n",
       "3      Corporate L3           Offer2         Branch          484.013411   \n",
       "4       Personal L2           Offer1         Branch          707.925645   \n",
       "...             ...              ...            ...                 ...   \n",
       "10905   Personal L1           Offer3            Web         1214.400000   \n",
       "10906   Personal L3           Offer2         Branch          273.018929   \n",
       "10907  Corporate L3           Offer1            Web          381.306996   \n",
       "10908   Personal L1           Offer1         Branch          618.288849   \n",
       "10909   Personal L1           Offer4            Web         1021.719397   \n",
       "\n",
       "       vehicle class  vehicle size  vehicle type     month quarter  \\\n",
       "0      Four-Door Car       Medsize           NaN  February       1   \n",
       "1      Four-Door Car       Medsize           NaN   January       1   \n",
       "2                SUV       Medsize             A  February       1   \n",
       "3      Four-Door Car       Medsize             A   January       1   \n",
       "4      Four-Door Car       Medsize           NaN   January       1   \n",
       "...              ...           ...           ...       ...     ...   \n",
       "10905     Luxury Car       Medsize             A   January       1   \n",
       "10906  Four-Door Car       Medsize             A   January       1   \n",
       "10907     Luxury SUV       Medsize           NaN  February       1   \n",
       "10908            SUV       Medsize             A  February       1   \n",
       "10909            SUV       Medsize           NaN   January       1   \n",
       "\n",
       "      response_modified  \n",
       "0                    No  \n",
       "1                    No  \n",
       "2                    No  \n",
       "3                   Yes  \n",
       "4                    No  \n",
       "...                 ...  \n",
       "10905                No  \n",
       "10906                No  \n",
       "10907                No  \n",
       "10908                No  \n",
       "10909                No  \n",
       "\n",
       "[10910 rows x 28 columns]"
      ]
     },
     "metadata": {},
     "output_type": "display_data"
    }
   ],
   "source": [
    "display(data1)"
   ]
  },
  {
   "cell_type": "code",
   "execution_count": 84,
   "id": "8913bee2",
   "metadata": {},
   "outputs": [],
   "source": [
    "sales_response=data1[['sales channel','response_modified']]"
   ]
  },
  {
   "cell_type": "code",
   "execution_count": 85,
   "id": "6c2d5f45",
   "metadata": {},
   "outputs": [
    {
     "data": {
      "text/html": [
       "<div>\n",
       "<style scoped>\n",
       "    .dataframe tbody tr th:only-of-type {\n",
       "        vertical-align: middle;\n",
       "    }\n",
       "\n",
       "    .dataframe tbody tr th {\n",
       "        vertical-align: top;\n",
       "    }\n",
       "\n",
       "    .dataframe thead th {\n",
       "        text-align: right;\n",
       "    }\n",
       "</style>\n",
       "<table border=\"1\" class=\"dataframe\">\n",
       "  <thead>\n",
       "    <tr style=\"text-align: right;\">\n",
       "      <th></th>\n",
       "      <th>sales channel</th>\n",
       "      <th>response_modified</th>\n",
       "    </tr>\n",
       "  </thead>\n",
       "  <tbody>\n",
       "    <tr>\n",
       "      <th>0</th>\n",
       "      <td>Agent</td>\n",
       "      <td>No</td>\n",
       "    </tr>\n",
       "    <tr>\n",
       "      <th>1</th>\n",
       "      <td>Call Center</td>\n",
       "      <td>No</td>\n",
       "    </tr>\n",
       "    <tr>\n",
       "      <th>2</th>\n",
       "      <td>Call Center</td>\n",
       "      <td>No</td>\n",
       "    </tr>\n",
       "    <tr>\n",
       "      <th>3</th>\n",
       "      <td>Branch</td>\n",
       "      <td>Yes</td>\n",
       "    </tr>\n",
       "    <tr>\n",
       "      <th>4</th>\n",
       "      <td>Branch</td>\n",
       "      <td>No</td>\n",
       "    </tr>\n",
       "    <tr>\n",
       "      <th>...</th>\n",
       "      <td>...</td>\n",
       "      <td>...</td>\n",
       "    </tr>\n",
       "    <tr>\n",
       "      <th>10905</th>\n",
       "      <td>Web</td>\n",
       "      <td>No</td>\n",
       "    </tr>\n",
       "    <tr>\n",
       "      <th>10906</th>\n",
       "      <td>Branch</td>\n",
       "      <td>No</td>\n",
       "    </tr>\n",
       "    <tr>\n",
       "      <th>10907</th>\n",
       "      <td>Web</td>\n",
       "      <td>No</td>\n",
       "    </tr>\n",
       "    <tr>\n",
       "      <th>10908</th>\n",
       "      <td>Branch</td>\n",
       "      <td>No</td>\n",
       "    </tr>\n",
       "    <tr>\n",
       "      <th>10909</th>\n",
       "      <td>Web</td>\n",
       "      <td>No</td>\n",
       "    </tr>\n",
       "  </tbody>\n",
       "</table>\n",
       "<p>10910 rows × 2 columns</p>\n",
       "</div>"
      ],
      "text/plain": [
       "      sales channel response_modified\n",
       "0             Agent                No\n",
       "1       Call Center                No\n",
       "2       Call Center                No\n",
       "3            Branch               Yes\n",
       "4            Branch                No\n",
       "...             ...               ...\n",
       "10905           Web                No\n",
       "10906        Branch                No\n",
       "10907           Web                No\n",
       "10908        Branch                No\n",
       "10909           Web                No\n",
       "\n",
       "[10910 rows x 2 columns]"
      ]
     },
     "metadata": {},
     "output_type": "display_data"
    }
   ],
   "source": [
    "display(sales_response)"
   ]
  },
  {
   "cell_type": "code",
   "execution_count": 86,
   "id": "337d5166",
   "metadata": {},
   "outputs": [
    {
     "name": "stdout",
     "output_type": "stream",
     "text": [
      "sales channel      Agent  Branch  Call Center   Web\n",
      "response_modified                                  \n",
      "No                  3379    2696         1920  1449\n",
      "Yes                  742     326          221   177\n"
     ]
    }
   ],
   "source": [
    "CrosstabResult=pd.crosstab(index=sales_response['response_modified'],columns=sales_response['sales channel'])\n",
    "print(CrosstabResult)"
   ]
  },
  {
   "cell_type": "code",
   "execution_count": 87,
   "id": "5927d8b8",
   "metadata": {},
   "outputs": [
    {
     "data": {
      "text/plain": [
       "<AxesSubplot:xlabel='response_modified'>"
      ]
     },
     "execution_count": 87,
     "metadata": {},
     "output_type": "execute_result"
    },
    {
     "data": {
      "image/png": "[encoded data removed]",
      "text/plain": [
       "<Figure size 432x288 with 1 Axes>"
      ]
     },
     "metadata": {
      "needs_background": "light"
     },
     "output_type": "display_data"
    }
   ],
   "source": [
    "%matplotlib inline\n",
    "CrosstabResult.plot.bar()"
   ]
  },
  {
   "cell_type": "markdown",
   "id": "e73e62bd",
   "metadata": {},
   "source": [
    "Show a plot of the response rate by the total claim amount."
   ]
  },
  {
   "cell_type": "code",
   "execution_count": 88,
   "id": "92dc9f39",
   "metadata": {},
   "outputs": [
    {
     "data": {
      "text/html": [
       "<div>\n",
       "<style scoped>\n",
       "    .dataframe tbody tr th:only-of-type {\n",
       "        vertical-align: middle;\n",
       "    }\n",
       "\n",
       "    .dataframe tbody tr th {\n",
       "        vertical-align: top;\n",
       "    }\n",
       "\n",
       "    .dataframe thead th {\n",
       "        text-align: right;\n",
       "    }\n",
       "</style>\n",
       "<table border=\"1\" class=\"dataframe\">\n",
       "  <thead>\n",
       "    <tr style=\"text-align: right;\">\n",
       "      <th></th>\n",
       "      <th>customer</th>\n",
       "      <th>state</th>\n",
       "      <th>customer lifetime value</th>\n",
       "      <th>response</th>\n",
       "      <th>coverage</th>\n",
       "      <th>education</th>\n",
       "      <th>effective to date</th>\n",
       "      <th>employment status</th>\n",
       "      <th>gender</th>\n",
       "      <th>income</th>\n",
       "      <th>...</th>\n",
       "      <th>policy</th>\n",
       "      <th>renew offer type</th>\n",
       "      <th>sales channel</th>\n",
       "      <th>total claim amount</th>\n",
       "      <th>vehicle class</th>\n",
       "      <th>vehicle size</th>\n",
       "      <th>vehicle type</th>\n",
       "      <th>month</th>\n",
       "      <th>quarter</th>\n",
       "      <th>response_modified</th>\n",
       "    </tr>\n",
       "  </thead>\n",
       "  <tbody>\n",
       "    <tr>\n",
       "      <th>0</th>\n",
       "      <td>DK49336</td>\n",
       "      <td>Arizona</td>\n",
       "      <td>4809.216960</td>\n",
       "      <td>No</td>\n",
       "      <td>Basic</td>\n",
       "      <td>College</td>\n",
       "      <td>2011-02-18</td>\n",
       "      <td>Employed</td>\n",
       "      <td>M</td>\n",
       "      <td>48029</td>\n",
       "      <td>...</td>\n",
       "      <td>Corporate L3</td>\n",
       "      <td>Offer3</td>\n",
       "      <td>Agent</td>\n",
       "      <td>292.800000</td>\n",
       "      <td>Four-Door Car</td>\n",
       "      <td>Medsize</td>\n",
       "      <td>NaN</td>\n",
       "      <td>February</td>\n",
       "      <td>1</td>\n",
       "      <td>No</td>\n",
       "    </tr>\n",
       "    <tr>\n",
       "      <th>1</th>\n",
       "      <td>KX64629</td>\n",
       "      <td>California</td>\n",
       "      <td>2228.525238</td>\n",
       "      <td>No</td>\n",
       "      <td>Basic</td>\n",
       "      <td>College</td>\n",
       "      <td>2011-01-18</td>\n",
       "      <td>Unemployed</td>\n",
       "      <td>F</td>\n",
       "      <td>0</td>\n",
       "      <td>...</td>\n",
       "      <td>Personal L3</td>\n",
       "      <td>Offer4</td>\n",
       "      <td>Call Center</td>\n",
       "      <td>744.924331</td>\n",
       "      <td>Four-Door Car</td>\n",
       "      <td>Medsize</td>\n",
       "      <td>NaN</td>\n",
       "      <td>January</td>\n",
       "      <td>1</td>\n",
       "      <td>No</td>\n",
       "    </tr>\n",
       "    <tr>\n",
       "      <th>2</th>\n",
       "      <td>LZ68649</td>\n",
       "      <td>Washington</td>\n",
       "      <td>14947.917300</td>\n",
       "      <td>No</td>\n",
       "      <td>Basic</td>\n",
       "      <td>Bachelor</td>\n",
       "      <td>2011-02-10</td>\n",
       "      <td>Employed</td>\n",
       "      <td>M</td>\n",
       "      <td>22139</td>\n",
       "      <td>...</td>\n",
       "      <td>Personal L3</td>\n",
       "      <td>Offer3</td>\n",
       "      <td>Call Center</td>\n",
       "      <td>480.000000</td>\n",
       "      <td>SUV</td>\n",
       "      <td>Medsize</td>\n",
       "      <td>A</td>\n",
       "      <td>February</td>\n",
       "      <td>1</td>\n",
       "      <td>No</td>\n",
       "    </tr>\n",
       "    <tr>\n",
       "      <th>3</th>\n",
       "      <td>XL78013</td>\n",
       "      <td>Oregon</td>\n",
       "      <td>22332.439460</td>\n",
       "      <td>Yes</td>\n",
       "      <td>Extended</td>\n",
       "      <td>College</td>\n",
       "      <td>2011-01-11</td>\n",
       "      <td>Employed</td>\n",
       "      <td>M</td>\n",
       "      <td>49078</td>\n",
       "      <td>...</td>\n",
       "      <td>Corporate L3</td>\n",
       "      <td>Offer2</td>\n",
       "      <td>Branch</td>\n",
       "      <td>484.013411</td>\n",
       "      <td>Four-Door Car</td>\n",
       "      <td>Medsize</td>\n",
       "      <td>A</td>\n",
       "      <td>January</td>\n",
       "      <td>1</td>\n",
       "      <td>Yes</td>\n",
       "    </tr>\n",
       "    <tr>\n",
       "      <th>4</th>\n",
       "      <td>QA50777</td>\n",
       "      <td>Oregon</td>\n",
       "      <td>9025.067525</td>\n",
       "      <td>No</td>\n",
       "      <td>Premium</td>\n",
       "      <td>Bachelor</td>\n",
       "      <td>2011-01-17</td>\n",
       "      <td>Medical Leave</td>\n",
       "      <td>F</td>\n",
       "      <td>23675</td>\n",
       "      <td>...</td>\n",
       "      <td>Personal L2</td>\n",
       "      <td>Offer1</td>\n",
       "      <td>Branch</td>\n",
       "      <td>707.925645</td>\n",
       "      <td>Four-Door Car</td>\n",
       "      <td>Medsize</td>\n",
       "      <td>NaN</td>\n",
       "      <td>January</td>\n",
       "      <td>1</td>\n",
       "      <td>No</td>\n",
       "    </tr>\n",
       "  </tbody>\n",
       "</table>\n",
       "<p>5 rows × 28 columns</p>\n",
       "</div>"
      ],
      "text/plain": [
       "  customer       state  customer lifetime value response  coverage education  \\\n",
       "0  DK49336     Arizona              4809.216960       No     Basic   College   \n",
       "1  KX64629  California              2228.525238       No     Basic   College   \n",
       "2  LZ68649  Washington             14947.917300       No     Basic  Bachelor   \n",
       "3  XL78013      Oregon             22332.439460      Yes  Extended   College   \n",
       "4  QA50777      Oregon              9025.067525       No   Premium  Bachelor   \n",
       "\n",
       "  effective to date employment status gender  income  ...        policy  \\\n",
       "0        2011-02-18          Employed      M   48029  ...  Corporate L3   \n",
       "1        2011-01-18        Unemployed      F       0  ...   Personal L3   \n",
       "2        2011-02-10          Employed      M   22139  ...   Personal L3   \n",
       "3        2011-01-11          Employed      M   49078  ...  Corporate L3   \n",
       "4        2011-01-17     Medical Leave      F   23675  ...   Personal L2   \n",
       "\n",
       "  renew offer type  sales channel  total claim amount  vehicle class  \\\n",
       "0           Offer3          Agent          292.800000  Four-Door Car   \n",
       "1           Offer4    Call Center          744.924331  Four-Door Car   \n",
       "2           Offer3    Call Center          480.000000            SUV   \n",
       "3           Offer2         Branch          484.013411  Four-Door Car   \n",
       "4           Offer1         Branch          707.925645  Four-Door Car   \n",
       "\n",
       "   vehicle size  vehicle type     month quarter response_modified  \n",
       "0       Medsize           NaN  February       1                No  \n",
       "1       Medsize           NaN   January       1                No  \n",
       "2       Medsize             A  February       1                No  \n",
       "3       Medsize             A   January       1               Yes  \n",
       "4       Medsize           NaN   January       1                No  \n",
       "\n",
       "[5 rows x 28 columns]"
      ]
     },
     "execution_count": 88,
     "metadata": {},
     "output_type": "execute_result"
    }
   ],
   "source": [
    "data1.head()"
   ]
  },
  {
   "cell_type": "code",
   "execution_count": 89,
   "id": "50d92e63",
   "metadata": {},
   "outputs": [
    {
     "data": {
      "text/plain": [
       "<seaborn.axisgrid.FacetGrid at 0x1f059247af0>"
      ]
     },
     "execution_count": 89,
     "metadata": {},
     "output_type": "execute_result"
    },
    {
     "data": {
      "image/png": "[encoded data removed]",
      "text/plain": [
       "<Figure size 360x360 with 1 Axes>"
      ]
     },
     "metadata": {
      "needs_background": "light"
     },
     "output_type": "display_data"
    }
   ],
   "source": [
    "sns.catplot(x=\"response_modified\", y=\"total claim amount\", hue=\"response_modified\", kind=\"box\", data=data1)"
   ]
  },
  {
   "cell_type": "markdown",
   "id": "a1d17c60",
   "metadata": {},
   "source": [
    "Show a plot of the response rate by income."
   ]
  },
  {
   "cell_type": "code",
   "execution_count": 90,
   "id": "f12c9996",
   "metadata": {},
   "outputs": [],
   "source": [
    "income_response=data1[['income','response_modified']]"
   ]
  },
  {
   "cell_type": "code",
   "execution_count": 91,
   "id": "1e02c390",
   "metadata": {},
   "outputs": [
    {
     "data": {
      "text/plain": [
       "<AxesSubplot:title={'center':'income'}, xlabel='response_modified'>"
      ]
     },
     "execution_count": 91,
     "metadata": {},
     "output_type": "execute_result"
    },
    {
     "data": {
      "image/png": "[encoded data removed]",
      "text/plain": [
       "<Figure size 360x432 with 1 Axes>"
      ]
     },
     "metadata": {
      "needs_background": "light"
     },
     "output_type": "display_data"
    }
   ],
   "source": [
    "data1.boxplot(column='income', by='response_modified', figsize=(5,6))"
   ]
  },
  {
   "cell_type": "markdown",
   "id": "97b2bce6",
   "metadata": {},
   "source": [
    "# Lab6Round4"
   ]
  },
  {
   "cell_type": "markdown",
   "id": "88caf28e",
   "metadata": {},
   "source": [
    "Check the data types of the columns. Get the numeric data into dataframe called numerical and categorical columns in a dataframe called categoricals. (You can use np.number and np.object to select the numerical data types and categorical data types respectively)"
   ]
  },
  {
   "cell_type": "code",
   "execution_count": 92,
   "id": "e1e7774c",
   "metadata": {},
   "outputs": [
    {
     "data": {
      "text/plain": [
       "customer                                 object\n",
       "state                                    object\n",
       "customer lifetime value                 float64\n",
       "response                                 object\n",
       "coverage                                 object\n",
       "education                                object\n",
       "effective to date                datetime64[ns]\n",
       "employment status                        object\n",
       "gender                                   object\n",
       "income                                    int64\n",
       "location code                            object\n",
       "marital status                           object\n",
       "monthly premium auto                      int64\n",
       "months since last claim                 float64\n",
       "months since policy inception             int64\n",
       "number of open complaints               float64\n",
       "number of policies                        int64\n",
       "policy type                              object\n",
       "policy                                   object\n",
       "renew offer type                         object\n",
       "sales channel                            object\n",
       "total claim amount                      float64\n",
       "vehicle class                            object\n",
       "vehicle size                             object\n",
       "vehicle type                             object\n",
       "month                                    object\n",
       "quarter                                   int64\n",
       "response_modified                        object\n",
       "dtype: object"
      ]
     },
     "execution_count": 92,
     "metadata": {},
     "output_type": "execute_result"
    }
   ],
   "source": [
    "data1.dtypes"
   ]
  },
  {
   "cell_type": "code",
   "execution_count": 93,
   "id": "3edbf916",
   "metadata": {},
   "outputs": [
    {
     "data": {
      "text/plain": [
       "Index(['customer lifetime value', 'income', 'monthly premium auto',\n",
       "       'months since last claim', 'months since policy inception',\n",
       "       'number of open complaints', 'number of policies', 'total claim amount',\n",
       "       'quarter'],\n",
       "      dtype='object')"
      ]
     },
     "execution_count": 93,
     "metadata": {},
     "output_type": "execute_result"
    }
   ],
   "source": [
    "data1.select_dtypes('number').columns"
   ]
  },
  {
   "cell_type": "code",
   "execution_count": 94,
   "id": "f1a6cf11",
   "metadata": {},
   "outputs": [],
   "source": [
    "numerical=data1[['customer lifetime value', 'income', 'monthly premium auto',\n",
    "       'months since last claim', 'months since policy inception',\n",
    "       'number of open complaints', 'number of policies', 'total claim amount',\n",
    "       'quarter']]"
   ]
  },
  {
   "cell_type": "code",
   "execution_count": 95,
   "id": "242fe78c",
   "metadata": {},
   "outputs": [
    {
     "data": {
      "text/plain": [
       "Index(['customer', 'state', 'response', 'coverage', 'education',\n",
       "       'employment status', 'gender', 'location code', 'marital status',\n",
       "       'policy type', 'policy', 'renew offer type', 'sales channel',\n",
       "       'vehicle class', 'vehicle size', 'vehicle type', 'month',\n",
       "       'response_modified'],\n",
       "      dtype='object')"
      ]
     },
     "execution_count": 95,
     "metadata": {},
     "output_type": "execute_result"
    }
   ],
   "source": [
    "data1.select_dtypes('object').columns"
   ]
  },
  {
   "cell_type": "code",
   "execution_count": 96,
   "id": "acd5da3c",
   "metadata": {},
   "outputs": [],
   "source": [
    "categorical=data1[['customer', 'state', 'response', 'coverage', 'education',\n",
    "       'employment status', 'gender', 'location code', 'marital status',\n",
    "       'policy type', 'policy', 'renew offer type', 'sales channel',\n",
    "       'vehicle class', 'vehicle size', 'vehicle type', 'month',\n",
    "       'response_modified']]"
   ]
  },
  {
   "cell_type": "code",
   "execution_count": 97,
   "id": "bbcae8ba",
   "metadata": {},
   "outputs": [
    {
     "data": {
      "text/html": [
       "<div>\n",
       "<style scoped>\n",
       "    .dataframe tbody tr th:only-of-type {\n",
       "        vertical-align: middle;\n",
       "    }\n",
       "\n",
       "    .dataframe tbody tr th {\n",
       "        vertical-align: top;\n",
       "    }\n",
       "\n",
       "    .dataframe thead th {\n",
       "        text-align: right;\n",
       "    }\n",
       "</style>\n",
       "<table border=\"1\" class=\"dataframe\">\n",
       "  <thead>\n",
       "    <tr style=\"text-align: right;\">\n",
       "      <th></th>\n",
       "      <th>customer lifetime value</th>\n",
       "      <th>income</th>\n",
       "      <th>monthly premium auto</th>\n",
       "      <th>months since last claim</th>\n",
       "      <th>months since policy inception</th>\n",
       "      <th>number of open complaints</th>\n",
       "      <th>number of policies</th>\n",
       "      <th>total claim amount</th>\n",
       "      <th>quarter</th>\n",
       "    </tr>\n",
       "  </thead>\n",
       "  <tbody>\n",
       "    <tr>\n",
       "      <th>0</th>\n",
       "      <td>4809.216960</td>\n",
       "      <td>48029</td>\n",
       "      <td>61</td>\n",
       "      <td>7.0</td>\n",
       "      <td>52</td>\n",
       "      <td>0.0</td>\n",
       "      <td>9</td>\n",
       "      <td>292.800000</td>\n",
       "      <td>1</td>\n",
       "    </tr>\n",
       "    <tr>\n",
       "      <th>1</th>\n",
       "      <td>2228.525238</td>\n",
       "      <td>0</td>\n",
       "      <td>64</td>\n",
       "      <td>3.0</td>\n",
       "      <td>26</td>\n",
       "      <td>0.0</td>\n",
       "      <td>1</td>\n",
       "      <td>744.924331</td>\n",
       "      <td>1</td>\n",
       "    </tr>\n",
       "    <tr>\n",
       "      <th>2</th>\n",
       "      <td>14947.917300</td>\n",
       "      <td>22139</td>\n",
       "      <td>100</td>\n",
       "      <td>34.0</td>\n",
       "      <td>31</td>\n",
       "      <td>0.0</td>\n",
       "      <td>2</td>\n",
       "      <td>480.000000</td>\n",
       "      <td>1</td>\n",
       "    </tr>\n",
       "    <tr>\n",
       "      <th>3</th>\n",
       "      <td>22332.439460</td>\n",
       "      <td>49078</td>\n",
       "      <td>97</td>\n",
       "      <td>10.0</td>\n",
       "      <td>3</td>\n",
       "      <td>0.0</td>\n",
       "      <td>2</td>\n",
       "      <td>484.013411</td>\n",
       "      <td>1</td>\n",
       "    </tr>\n",
       "    <tr>\n",
       "      <th>4</th>\n",
       "      <td>9025.067525</td>\n",
       "      <td>23675</td>\n",
       "      <td>117</td>\n",
       "      <td>NaN</td>\n",
       "      <td>31</td>\n",
       "      <td>NaN</td>\n",
       "      <td>7</td>\n",
       "      <td>707.925645</td>\n",
       "      <td>1</td>\n",
       "    </tr>\n",
       "    <tr>\n",
       "      <th>...</th>\n",
       "      <td>...</td>\n",
       "      <td>...</td>\n",
       "      <td>...</td>\n",
       "      <td>...</td>\n",
       "      <td>...</td>\n",
       "      <td>...</td>\n",
       "      <td>...</td>\n",
       "      <td>...</td>\n",
       "      <td>...</td>\n",
       "    </tr>\n",
       "    <tr>\n",
       "      <th>10905</th>\n",
       "      <td>15563.369440</td>\n",
       "      <td>0</td>\n",
       "      <td>253</td>\n",
       "      <td>NaN</td>\n",
       "      <td>40</td>\n",
       "      <td>NaN</td>\n",
       "      <td>7</td>\n",
       "      <td>1214.400000</td>\n",
       "      <td>1</td>\n",
       "    </tr>\n",
       "    <tr>\n",
       "      <th>10906</th>\n",
       "      <td>5259.444853</td>\n",
       "      <td>61146</td>\n",
       "      <td>65</td>\n",
       "      <td>7.0</td>\n",
       "      <td>68</td>\n",
       "      <td>0.0</td>\n",
       "      <td>6</td>\n",
       "      <td>273.018929</td>\n",
       "      <td>1</td>\n",
       "    </tr>\n",
       "    <tr>\n",
       "      <th>10907</th>\n",
       "      <td>23893.304100</td>\n",
       "      <td>39837</td>\n",
       "      <td>201</td>\n",
       "      <td>11.0</td>\n",
       "      <td>63</td>\n",
       "      <td>0.0</td>\n",
       "      <td>2</td>\n",
       "      <td>381.306996</td>\n",
       "      <td>1</td>\n",
       "    </tr>\n",
       "    <tr>\n",
       "      <th>10908</th>\n",
       "      <td>11971.977650</td>\n",
       "      <td>64195</td>\n",
       "      <td>158</td>\n",
       "      <td>0.0</td>\n",
       "      <td>27</td>\n",
       "      <td>4.0</td>\n",
       "      <td>6</td>\n",
       "      <td>618.288849</td>\n",
       "      <td>1</td>\n",
       "    </tr>\n",
       "    <tr>\n",
       "      <th>10909</th>\n",
       "      <td>6857.519928</td>\n",
       "      <td>0</td>\n",
       "      <td>101</td>\n",
       "      <td>31.0</td>\n",
       "      <td>1</td>\n",
       "      <td>0.0</td>\n",
       "      <td>3</td>\n",
       "      <td>1021.719397</td>\n",
       "      <td>1</td>\n",
       "    </tr>\n",
       "  </tbody>\n",
       "</table>\n",
       "<p>10910 rows × 9 columns</p>\n",
       "</div>"
      ],
      "text/plain": [
       "       customer lifetime value  income  monthly premium auto  \\\n",
       "0                  4809.216960   48029                    61   \n",
       "1                  2228.525238       0                    64   \n",
       "2                 14947.917300   22139                   100   \n",
       "3                 22332.439460   49078                    97   \n",
       "4                  9025.067525   23675                   117   \n",
       "...                        ...     ...                   ...   \n",
       "10905             15563.369440       0                   253   \n",
       "10906              5259.444853   61146                    65   \n",
       "10907             23893.304100   39837                   201   \n",
       "10908             11971.977650   64195                   158   \n",
       "10909              6857.519928       0                   101   \n",
       "\n",
       "       months since last claim  months since policy inception  \\\n",
       "0                          7.0                             52   \n",
       "1                          3.0                             26   \n",
       "2                         34.0                             31   \n",
       "3                         10.0                              3   \n",
       "4                          NaN                             31   \n",
       "...                        ...                            ...   \n",
       "10905                      NaN                             40   \n",
       "10906                      7.0                             68   \n",
       "10907                     11.0                             63   \n",
       "10908                      0.0                             27   \n",
       "10909                     31.0                              1   \n",
       "\n",
       "       number of open complaints  number of policies  total claim amount  \\\n",
       "0                            0.0                   9          292.800000   \n",
       "1                            0.0                   1          744.924331   \n",
       "2                            0.0                   2          480.000000   \n",
       "3                            0.0                   2          484.013411   \n",
       "4                            NaN                   7          707.925645   \n",
       "...                          ...                 ...                 ...   \n",
       "10905                        NaN                   7         1214.400000   \n",
       "10906                        0.0                   6          273.018929   \n",
       "10907                        0.0                   2          381.306996   \n",
       "10908                        4.0                   6          618.288849   \n",
       "10909                        0.0                   3         1021.719397   \n",
       "\n",
       "       quarter  \n",
       "0            1  \n",
       "1            1  \n",
       "2            1  \n",
       "3            1  \n",
       "4            1  \n",
       "...        ...  \n",
       "10905        1  \n",
       "10906        1  \n",
       "10907        1  \n",
       "10908        1  \n",
       "10909        1  \n",
       "\n",
       "[10910 rows x 9 columns]"
      ]
     },
     "metadata": {},
     "output_type": "display_data"
    }
   ],
   "source": [
    "display(numerical)"
   ]
  },
  {
   "cell_type": "markdown",
   "id": "8768fa1c",
   "metadata": {},
   "source": [
    "Now we will try to check the normality of the numerical variables visually\n",
    "-Use seaborn library to construct distribution plots for the numerical variables\n",
    "-Use Matplotlib to construct histograms\n",
    "-Do the distributions for different numerical variables look like a normal distribution"
   ]
  },
  {
   "cell_type": "code",
   "execution_count": 98,
   "id": "bd795631",
   "metadata": {},
   "outputs": [
    {
     "data": {
      "image/png": "[encoded data removed]",
      "text/plain": [
       "<Figure size 432x288 with 1 Axes>"
      ]
     },
     "metadata": {
      "needs_background": "light"
     },
     "output_type": "display_data"
    }
   ],
   "source": [
    "data1['months since policy inception'].hist()\n",
    "plt.show()\n"
   ]
  },
  {
   "cell_type": "code",
   "execution_count": 99,
   "id": "0762d990",
   "metadata": {},
   "outputs": [
    {
     "data": {
      "image/png": "[encoded data removed]",
      "text/plain": [
       "<Figure size 432x288 with 1 Axes>"
      ]
     },
     "metadata": {
      "needs_background": "light"
     },
     "output_type": "display_data"
    }
   ],
   "source": [
    "data1['number of policies'].hist()\n",
    "plt.show()"
   ]
  },
  {
   "cell_type": "code",
   "execution_count": 100,
   "id": "36829539",
   "metadata": {},
   "outputs": [
    {
     "data": {
      "image/png": "[encoded data removed]",
      "text/plain": [
       "<Figure size 432x288 with 1 Axes>"
      ]
     },
     "metadata": {
      "needs_background": "light"
     },
     "output_type": "display_data"
    }
   ],
   "source": [
    "data1['quarter'].hist()\n",
    "plt.show()"
   ]
  },
  {
   "cell_type": "code",
   "execution_count": 101,
   "id": "261412e5",
   "metadata": {},
   "outputs": [
    {
     "data": {
      "image/png": "[encoded data removed]",
      "text/plain": [
       "<Figure size 432x288 with 1 Axes>"
      ]
     },
     "metadata": {
      "needs_background": "light"
     },
     "output_type": "display_data"
    }
   ],
   "source": [
    "data1['number of open complaints'].hist()\n",
    "plt.show()"
   ]
  },
  {
   "cell_type": "code",
   "execution_count": 102,
   "id": "f3f4d49d",
   "metadata": {},
   "outputs": [
    {
     "data": {
      "image/png": "[encoded data removed]",
      "text/plain": [
       "<Figure size 432x288 with 1 Axes>"
      ]
     },
     "metadata": {
      "needs_background": "light"
     },
     "output_type": "display_data"
    }
   ],
   "source": [
    "data1['months since last claim'].hist()\n",
    "plt.show()"
   ]
  },
  {
   "cell_type": "code",
   "execution_count": 103,
   "id": "093a14df",
   "metadata": {},
   "outputs": [
    {
     "data": {
      "image/png": "[encoded data removed]",
      "text/plain": [
       "<Figure size 432x288 with 1 Axes>"
      ]
     },
     "metadata": {
      "needs_background": "light"
     },
     "output_type": "display_data"
    }
   ],
   "source": [
    "data1['monthly premium auto'].hist()\n",
    "plt.show()\n"
   ]
  },
  {
   "cell_type": "code",
   "execution_count": 104,
   "id": "9c4c05e7",
   "metadata": {},
   "outputs": [
    {
     "data": {
      "text/plain": [
       "<seaborn.axisgrid.FacetGrid at 0x1f05a28f9d0>"
      ]
     },
     "execution_count": 104,
     "metadata": {},
     "output_type": "execute_result"
    },
    {
     "data": {
      "image/png": "[encoded data removed]",
      "text/plain": [
       "<Figure size 360x360 with 1 Axes>"
      ]
     },
     "metadata": {
      "needs_background": "light"
     },
     "output_type": "display_data"
    }
   ],
   "source": [
    "sns.displot(data1, x=\"income\")"
   ]
  },
  {
   "cell_type": "code",
   "execution_count": 105,
   "id": "b8b75504",
   "metadata": {},
   "outputs": [
    {
     "data": {
      "text/plain": [
       "<seaborn.axisgrid.FacetGrid at 0x1f059f98d30>"
      ]
     },
     "execution_count": 105,
     "metadata": {},
     "output_type": "execute_result"
    },
    {
     "data": {
      "image/png": "[encoded data removed]",
      "text/plain": [
       "<Figure size 360x360 with 1 Axes>"
      ]
     },
     "metadata": {
      "needs_background": "light"
     },
     "output_type": "display_data"
    }
   ],
   "source": [
    "sns.displot(data1, x=\"customer lifetime value\")"
   ]
  },
  {
   "cell_type": "code",
   "execution_count": 106,
   "id": "6e7b55ee",
   "metadata": {},
   "outputs": [
    {
     "data": {
      "text/plain": [
       "<seaborn.axisgrid.FacetGrid at 0x1f05a0acfd0>"
      ]
     },
     "execution_count": 106,
     "metadata": {},
     "output_type": "execute_result"
    },
    {
     "data": {
      "image/png": "[encoded data removed]",
      "text/plain": [
       "<Figure size 360x360 with 1 Axes>"
      ]
     },
     "metadata": {
      "needs_background": "light"
     },
     "output_type": "display_data"
    }
   ],
   "source": [
    "sns.displot(data1, x=\"total claim amount\")"
   ]
  },
  {
   "cell_type": "code",
   "execution_count": 107,
   "id": "a1bfb980",
   "metadata": {},
   "outputs": [
    {
     "name": "stdout",
     "output_type": "stream",
     "text": [
      "0.285799791931561\n"
     ]
    }
   ],
   "source": [
    "from scipy.stats import skew\n",
    "print (skew(data1['income']))"
   ]
  },
  {
   "cell_type": "code",
   "execution_count": 108,
   "id": "8b82400a",
   "metadata": {},
   "outputs": [
    {
     "name": "stdout",
     "output_type": "stream",
     "text": [
      "1.7290480366753627\n"
     ]
    }
   ],
   "source": [
    "print (skew(data1['total claim amount']))"
   ]
  },
  {
   "cell_type": "code",
   "execution_count": 109,
   "id": "4fb5e002",
   "metadata": {},
   "outputs": [
    {
     "data": {
      "image/png": "[encoded data removed]",
      "text/plain": [
       "<Figure size 432x288 with 1 Axes>"
      ]
     },
     "metadata": {
      "needs_background": "light"
     },
     "output_type": "display_data"
    }
   ],
   "source": [
    "plt.hist(data1['total claim amount'], bins=100)\n",
    "plt.show()\n"
   ]
  },
  {
   "cell_type": "code",
   "execution_count": 110,
   "id": "a5c1fe79",
   "metadata": {},
   "outputs": [
    {
     "data": {
      "image/png": "[encoded data removed]",
      "text/plain": [
       "<Figure size 432x288 with 1 Axes>"
      ]
     },
     "metadata": {
      "needs_background": "light"
     },
     "output_type": "display_data"
    }
   ],
   "source": [
    "data1['total claim amount'].hist()\n",
    "plt.show()"
   ]
  },
  {
   "cell_type": "code",
   "execution_count": 111,
   "id": "6ceaf3d8",
   "metadata": {},
   "outputs": [
    {
     "data": {
      "text/plain": [
       "-93376.125"
      ]
     },
     "execution_count": 111,
     "metadata": {},
     "output_type": "execute_result"
    }
   ],
   "source": [
    "iqr = np.percentile(data1['income'],75) - np.percentile(data1['income'],25)\n",
    "upper_limit = np.percentile(data1['income'],75) + 1.5*iqr\n",
    "lower_limit = np.percentile(data1['income'],25) - 1.5*iqr\n",
    "lower_limit"
   ]
  },
  {
   "cell_type": "markdown",
   "id": "94a4b392",
   "metadata": {},
   "source": [
    "data2 = data1[(data1['income']>lower_limit) & (data1['income']<upper_limit)]"
   ]
  },
  {
   "cell_type": "code",
   "execution_count": 112,
   "id": "b8cb8d82",
   "metadata": {},
   "outputs": [],
   "source": [
    "# display(data2)"
   ]
  },
  {
   "cell_type": "markdown",
   "id": "7de35bfd",
   "metadata": {},
   "source": [
    "~/Ironhack/Week1/Day2/Afternoon/lab4-customer-analysis-round-2"
   ]
  },
  {
   "cell_type": "markdown",
   "id": "c8315c30",
   "metadata": {},
   "source": [
    "For the numerical variables, check the multicollinearity between the features. Please note that we will use the column total_claim_amount later as the target variable."
   ]
  },
  {
   "cell_type": "code",
   "execution_count": 113,
   "id": "87b7c0de",
   "metadata": {},
   "outputs": [
    {
     "data": {
      "image/png": "[encoded data removed]",
      "text/plain": [
       "<Figure size 432x288 with 2 Axes>"
      ]
     },
     "metadata": {
      "needs_background": "light"
     },
     "output_type": "display_data"
    },
    {
     "data": {
      "text/plain": [
       "<Figure size 3600x3600 with 0 Axes>"
      ]
     },
     "metadata": {},
     "output_type": "display_data"
    }
   ],
   "source": [
    "correlations_matrix = data1.corr()\n",
    "sns.heatmap(correlations_matrix, annot=True)\n",
    "plt.figure(figsize=(6, 6), dpi = 600)\n",
    "plt.show()"
   ]
  },
  {
   "cell_type": "markdown",
   "id": "bc98d504",
   "metadata": {},
   "source": [
    "Drop one of the two features that show a high correlation between them (greater than 0.9). Write code for both the correlation matrix and for seaborn heatmap. If there is no pair of features that have a high correlation, then do not drop any features"
   ]
  },
  {
   "cell_type": "markdown",
   "id": "76300a63",
   "metadata": {},
   "source": [
    "There is no correlation more than 0.9. So we are not dropping any columns for the sake of machine learning."
   ]
  },
  {
   "cell_type": "markdown",
   "id": "35c7c795",
   "metadata": {},
   "source": [
    "# Lab7Round5"
   ]
  },
  {
   "cell_type": "markdown",
   "id": "ff74376c",
   "metadata": {},
   "source": [
    "Processing Data\n",
    "(Further processing...)\n",
    "\n",
    "X-y split.\n",
    "Normalize (numerical)."
   ]
  },
  {
   "cell_type": "code",
   "execution_count": 114,
   "id": "76a91bb0",
   "metadata": {},
   "outputs": [],
   "source": [
    "import pandas as pd\n",
    "import numpy as np\n",
    "\n",
    "import seaborn as sns\n",
    "import matplotlib.pyplot as plt\n",
    "%matplotlib inline\n",
    "\n",
    "from sklearn.preprocessing import MinMaxScaler\n",
    "from sklearn.model_selection import train_test_split\n",
    "from sklearn import linear_model\n",
    "from sklearn.metrics import r2_score, mean_squared_error, mean_absolute_error, mean_absolute_percentage_error"
   ]
  },
  {
   "cell_type": "code",
   "execution_count": 115,
   "id": "a9bd9de9",
   "metadata": {},
   "outputs": [],
   "source": [
    "from sklearn.preprocessing import StandardScaler"
   ]
  },
  {
   "cell_type": "code",
   "execution_count": 117,
   "id": "176ac4dd",
   "metadata": {},
   "outputs": [],
   "source": [
    "num=data1[['customer lifetime value', 'income', 'monthly premium auto',\n",
    "       'months since last claim', 'months since policy inception',\n",
    "       'number of open complaints', 'number of policies', 'total claim amount',\n",
    "       'quarter']]"
   ]
  },
  {
   "cell_type": "code",
   "execution_count": 118,
   "id": "11c40c7d",
   "metadata": {},
   "outputs": [
    {
     "data": {
      "text/plain": [
       "<AxesSubplot:>"
      ]
     },
     "execution_count": 118,
     "metadata": {},
     "output_type": "execute_result"
    },
    {
     "data": {
      "image/png": "[encoded data removed]",
      "text/plain": [
       "<Figure size 432x288 with 2 Axes>"
      ]
     },
     "metadata": {
      "needs_background": "light"
     },
     "output_type": "display_data"
    }
   ],
   "source": [
    "num_1 = num[['customer lifetime value','months since last claim', 'income', 'monthly premium auto', 'months since policy inception', 'number of policies', 'total claim amount']].copy()\n",
    "                     \n",
    "sns.heatmap(num_1.corr(), annot=True)"
   ]
  },
  {
   "cell_type": "code",
   "execution_count": 151,
   "id": "b6c3967f",
   "metadata": {},
   "outputs": [],
   "source": [
    "y = data1['total claim amount']\n",
    "X_1 = num_1.drop(['total claim amount'], axis=1)"
   ]
  },
  {
   "cell_type": "code",
   "execution_count": 152,
   "id": "3fd3f387",
   "metadata": {},
   "outputs": [
    {
     "data": {
      "image/png": "[encoded data removed]",
      "text/plain": [
       "<Figure size 1440x720 with 7 Axes>"
      ]
     },
     "metadata": {
      "needs_background": "light"
     },
     "output_type": "display_data"
    }
   ],
   "source": [
    "def hist_maker(df):\n",
    "    cols = list(df.columns)\n",
    "    x = len(cols)\n",
    "    fig, ax = plt.subplots(1,x, figsize=(20,10))\n",
    "    \n",
    "    for col in cols:\n",
    "        y = cols.index(col)\n",
    "        ax[y].hist(data=df, x=col)\n",
    "        ax[y].set_title(col)\n",
    "        \n",
    "    return\n",
    "\n",
    "hist_maker(num_1)"
   ]
  },
  {
   "cell_type": "code",
   "execution_count": 153,
   "id": "98e3736b",
   "metadata": {},
   "outputs": [
    {
     "data": {
      "image/png": "[encoded data removed]",
      "text/plain": [
       "<Figure size 1440x720 with 6 Axes>"
      ]
     },
     "metadata": {
      "needs_background": "light"
     },
     "output_type": "display_data"
    }
   ],
   "source": [
    "hist_maker(X_1)"
   ]
  },
  {
   "cell_type": "code",
   "execution_count": 154,
   "id": "88d9bf8a",
   "metadata": {},
   "outputs": [
    {
     "name": "stdout",
     "output_type": "stream",
     "text": [
      "(10910, 6)\n"
     ]
    },
    {
     "data": {
      "text/html": [
       "<div>\n",
       "<style scoped>\n",
       "    .dataframe tbody tr th:only-of-type {\n",
       "        vertical-align: middle;\n",
       "    }\n",
       "\n",
       "    .dataframe tbody tr th {\n",
       "        vertical-align: top;\n",
       "    }\n",
       "\n",
       "    .dataframe thead th {\n",
       "        text-align: right;\n",
       "    }\n",
       "</style>\n",
       "<table border=\"1\" class=\"dataframe\">\n",
       "  <thead>\n",
       "    <tr style=\"text-align: right;\">\n",
       "      <th></th>\n",
       "      <th>customer lifetime value</th>\n",
       "      <th>months since last claim</th>\n",
       "      <th>income</th>\n",
       "      <th>monthly premium auto</th>\n",
       "      <th>months since policy inception</th>\n",
       "      <th>number of policies</th>\n",
       "    </tr>\n",
       "  </thead>\n",
       "  <tbody>\n",
       "    <tr>\n",
       "      <th>0</th>\n",
       "      <td>0.035752</td>\n",
       "      <td>0.200000</td>\n",
       "      <td>0.480381</td>\n",
       "      <td>0.000000</td>\n",
       "      <td>0.525253</td>\n",
       "      <td>1.000</td>\n",
       "    </tr>\n",
       "    <tr>\n",
       "      <th>1</th>\n",
       "      <td>0.004059</td>\n",
       "      <td>0.085714</td>\n",
       "      <td>0.000000</td>\n",
       "      <td>0.012658</td>\n",
       "      <td>0.262626</td>\n",
       "      <td>0.000</td>\n",
       "    </tr>\n",
       "    <tr>\n",
       "      <th>2</th>\n",
       "      <td>0.160264</td>\n",
       "      <td>0.971429</td>\n",
       "      <td>0.221432</td>\n",
       "      <td>0.164557</td>\n",
       "      <td>0.313131</td>\n",
       "      <td>0.125</td>\n",
       "    </tr>\n",
       "    <tr>\n",
       "      <th>3</th>\n",
       "      <td>0.250953</td>\n",
       "      <td>0.285714</td>\n",
       "      <td>0.490873</td>\n",
       "      <td>0.151899</td>\n",
       "      <td>0.030303</td>\n",
       "      <td>0.125</td>\n",
       "    </tr>\n",
       "    <tr>\n",
       "      <th>4</th>\n",
       "      <td>0.087527</td>\n",
       "      <td>NaN</td>\n",
       "      <td>0.236795</td>\n",
       "      <td>0.236287</td>\n",
       "      <td>0.313131</td>\n",
       "      <td>0.750</td>\n",
       "    </tr>\n",
       "  </tbody>\n",
       "</table>\n",
       "</div>"
      ],
      "text/plain": [
       "   customer lifetime value  months since last claim    income  \\\n",
       "0                 0.035752                 0.200000  0.480381   \n",
       "1                 0.004059                 0.085714  0.000000   \n",
       "2                 0.160264                 0.971429  0.221432   \n",
       "3                 0.250953                 0.285714  0.490873   \n",
       "4                 0.087527                      NaN  0.236795   \n",
       "\n",
       "   monthly premium auto  months since policy inception  number of policies  \n",
       "0              0.000000                       0.525253               1.000  \n",
       "1              0.012658                       0.262626               0.000  \n",
       "2              0.164557                       0.313131               0.125  \n",
       "3              0.151899                       0.030303               0.125  \n",
       "4              0.236287                       0.313131               0.750  "
      ]
     },
     "execution_count": 154,
     "metadata": {},
     "output_type": "execute_result"
    }
   ],
   "source": [
    "transformer = MinMaxScaler().fit(X_1)\n",
    "x_normalized = transformer.transform(X_1)\n",
    "print(x_normalized.shape)\n",
    "x_normalized=pd.DataFrame(x_normalized, columns=X_1.columns)\n",
    "x_normalized.head()"
   ]
  },
  {
   "cell_type": "code",
   "execution_count": 155,
   "id": "8b805023",
   "metadata": {},
   "outputs": [
    {
     "name": "stdout",
     "output_type": "stream",
     "text": [
      "The numpy array looks like this:  [[-0.46610505 -0.80845092  0.34563485 -0.93481904  0.13987654  2.50945468]\n",
      " [-0.84094593 -1.20528189 -1.23646244 -0.84771343 -0.79070911 -0.82492205]\n",
      " [ 1.00652314  1.87015815 -0.50719362  0.19755381 -0.61175033 -0.40812496]\n",
      " ...\n",
      " [ 2.30582467 -0.41161995  0.07578661  3.13010912  0.53358586 -0.40812496]\n",
      " [ 0.5742732  -1.50290512  0.87815031  1.88159547 -0.75491735  1.25906341]\n",
      " [-0.16859268  1.57253492 -1.23646244  0.22658901 -1.685503    0.00867213]]\n",
      "The type of x_normalized is <class 'numpy.ndarray'> and the shape of the array is (10910, 6)\n"
     ]
    },
    {
     "data": {
      "text/html": [
       "<div>\n",
       "<style scoped>\n",
       "    .dataframe tbody tr th:only-of-type {\n",
       "        vertical-align: middle;\n",
       "    }\n",
       "\n",
       "    .dataframe tbody tr th {\n",
       "        vertical-align: top;\n",
       "    }\n",
       "\n",
       "    .dataframe thead th {\n",
       "        text-align: right;\n",
       "    }\n",
       "</style>\n",
       "<table border=\"1\" class=\"dataframe\">\n",
       "  <thead>\n",
       "    <tr style=\"text-align: right;\">\n",
       "      <th></th>\n",
       "      <th>customer lifetime value</th>\n",
       "      <th>months since last claim</th>\n",
       "      <th>income</th>\n",
       "      <th>monthly premium auto</th>\n",
       "      <th>months since policy inception</th>\n",
       "      <th>number of policies</th>\n",
       "    </tr>\n",
       "  </thead>\n",
       "  <tbody>\n",
       "    <tr>\n",
       "      <th>0</th>\n",
       "      <td>-0.466105</td>\n",
       "      <td>-0.808451</td>\n",
       "      <td>0.345635</td>\n",
       "      <td>-0.934819</td>\n",
       "      <td>0.139877</td>\n",
       "      <td>2.509455</td>\n",
       "    </tr>\n",
       "    <tr>\n",
       "      <th>1</th>\n",
       "      <td>-0.840946</td>\n",
       "      <td>-1.205282</td>\n",
       "      <td>-1.236462</td>\n",
       "      <td>-0.847713</td>\n",
       "      <td>-0.790709</td>\n",
       "      <td>-0.824922</td>\n",
       "    </tr>\n",
       "    <tr>\n",
       "      <th>2</th>\n",
       "      <td>1.006523</td>\n",
       "      <td>1.870158</td>\n",
       "      <td>-0.507194</td>\n",
       "      <td>0.197554</td>\n",
       "      <td>-0.611750</td>\n",
       "      <td>-0.408125</td>\n",
       "    </tr>\n",
       "    <tr>\n",
       "      <th>3</th>\n",
       "      <td>2.079112</td>\n",
       "      <td>-0.510828</td>\n",
       "      <td>0.380189</td>\n",
       "      <td>0.110448</td>\n",
       "      <td>-1.613919</td>\n",
       "      <td>-0.408125</td>\n",
       "    </tr>\n",
       "    <tr>\n",
       "      <th>4</th>\n",
       "      <td>0.146240</td>\n",
       "      <td>NaN</td>\n",
       "      <td>-0.456597</td>\n",
       "      <td>0.691152</td>\n",
       "      <td>-0.611750</td>\n",
       "      <td>1.675860</td>\n",
       "    </tr>\n",
       "  </tbody>\n",
       "</table>\n",
       "</div>"
      ],
      "text/plain": [
       "   customer lifetime value  months since last claim    income  \\\n",
       "0                -0.466105                -0.808451  0.345635   \n",
       "1                -0.840946                -1.205282 -1.236462   \n",
       "2                 1.006523                 1.870158 -0.507194   \n",
       "3                 2.079112                -0.510828  0.380189   \n",
       "4                 0.146240                      NaN -0.456597   \n",
       "\n",
       "   monthly premium auto  months since policy inception  number of policies  \n",
       "0             -0.934819                       0.139877            2.509455  \n",
       "1             -0.847713                      -0.790709           -0.824922  \n",
       "2              0.197554                      -0.611750           -0.408125  \n",
       "3              0.110448                      -1.613919           -0.408125  \n",
       "4              0.691152                      -0.611750            1.675860  "
      ]
     },
     "execution_count": 155,
     "metadata": {},
     "output_type": "execute_result"
    }
   ],
   "source": [
    "Standardtransformer = StandardScaler()\n",
    "Standardtransformer.fit(X_1) # This will obtain the mean and the sd of each column\n",
    "x_standardized = Standardtransformer.transform(X_1) # Applies the transformation\n",
    "print(\"The numpy array looks like this: \",x_standardized)\n",
    "print(\"The type of x_normalized is {} and the shape of the array is {}\".format(type(x_standardized),x_standardized.shape))\n",
    "x_standardized = pd.DataFrame(x_standardized,columns=X_1.columns)\n",
    "x_standardized.head()"
   ]
  },
  {
   "cell_type": "markdown",
   "id": "f3186929",
   "metadata": {},
   "source": [
    "# Lab8Round6"
   ]
  },
  {
   "cell_type": "markdown",
   "id": "697ee266",
   "metadata": {},
   "source": [
    "Processing Data\n",
    "(Further processing...)\n",
    "\n",
    "One Hot/Label Encoding (categorical).\n",
    "Concat DataFrames"
   ]
  },
  {
   "cell_type": "code",
   "execution_count": 156,
   "id": "cf40ef5f",
   "metadata": {},
   "outputs": [
    {
     "data": {
      "text/plain": [
       "Index(['customer lifetime value', 'income', 'monthly premium auto',\n",
       "       'months since last claim', 'months since policy inception',\n",
       "       'number of open complaints', 'number of policies', 'total claim amount',\n",
       "       'quarter'],\n",
       "      dtype='object')"
      ]
     },
     "execution_count": 156,
     "metadata": {},
     "output_type": "execute_result"
    }
   ],
   "source": [
    "num = data1.select_dtypes(np.number)\n",
    "num\n",
    "num.columns"
   ]
  },
  {
   "cell_type": "code",
   "execution_count": 157,
   "id": "235a4c9a",
   "metadata": {},
   "outputs": [],
   "source": [
    "X_num = data1.select_dtypes(include = np.number)\n",
    "X_cat = data1[['gender']]"
   ]
  },
  {
   "cell_type": "code",
   "execution_count": 158,
   "id": "658ef032",
   "metadata": {},
   "outputs": [
    {
     "name": "stdout",
     "output_type": "stream",
     "text": [
      "[array(['F', 'M'], dtype=object)]\n",
      "[[0. 1.]\n",
      " [1. 0.]\n",
      " [0. 1.]\n",
      " ...\n",
      " [1. 0.]\n",
      " [1. 0.]\n",
      " [0. 1.]]\n"
     ]
    }
   ],
   "source": [
    "#one hot encoding is a way to turn categorical variables into multiple numerical columns\n",
    "from sklearn.preprocessing import OneHotEncoder\n",
    "encoder = OneHotEncoder()\n",
    "encoder.fit(X_cat) # This determines how many unique values has each categorical column\n",
    "print(encoder.categories_)\n",
    "encoded = encoder.transform(X_cat).toarray()\n",
    "print(encoded)"
   ]
  },
  {
   "cell_type": "code",
   "execution_count": 159,
   "id": "cfc6c744",
   "metadata": {},
   "outputs": [
    {
     "data": {
      "text/html": [
       "<div>\n",
       "<style scoped>\n",
       "    .dataframe tbody tr th:only-of-type {\n",
       "        vertical-align: middle;\n",
       "    }\n",
       "\n",
       "    .dataframe tbody tr th {\n",
       "        vertical-align: top;\n",
       "    }\n",
       "\n",
       "    .dataframe thead tr th {\n",
       "        text-align: left;\n",
       "    }\n",
       "</style>\n",
       "<table border=\"1\" class=\"dataframe\">\n",
       "  <thead>\n",
       "    <tr>\n",
       "      <th></th>\n",
       "      <th>F</th>\n",
       "      <th>M</th>\n",
       "    </tr>\n",
       "  </thead>\n",
       "  <tbody>\n",
       "    <tr>\n",
       "      <th>0</th>\n",
       "      <td>0.0</td>\n",
       "      <td>1.0</td>\n",
       "    </tr>\n",
       "    <tr>\n",
       "      <th>1</th>\n",
       "      <td>1.0</td>\n",
       "      <td>0.0</td>\n",
       "    </tr>\n",
       "    <tr>\n",
       "      <th>2</th>\n",
       "      <td>0.0</td>\n",
       "      <td>1.0</td>\n",
       "    </tr>\n",
       "    <tr>\n",
       "      <th>3</th>\n",
       "      <td>0.0</td>\n",
       "      <td>1.0</td>\n",
       "    </tr>\n",
       "    <tr>\n",
       "      <th>4</th>\n",
       "      <td>1.0</td>\n",
       "      <td>0.0</td>\n",
       "    </tr>\n",
       "    <tr>\n",
       "      <th>5</th>\n",
       "      <td>0.0</td>\n",
       "      <td>1.0</td>\n",
       "    </tr>\n",
       "    <tr>\n",
       "      <th>6</th>\n",
       "      <td>1.0</td>\n",
       "      <td>0.0</td>\n",
       "    </tr>\n",
       "    <tr>\n",
       "      <th>7</th>\n",
       "      <td>0.0</td>\n",
       "      <td>1.0</td>\n",
       "    </tr>\n",
       "    <tr>\n",
       "      <th>8</th>\n",
       "      <td>0.0</td>\n",
       "      <td>1.0</td>\n",
       "    </tr>\n",
       "    <tr>\n",
       "      <th>9</th>\n",
       "      <td>1.0</td>\n",
       "      <td>0.0</td>\n",
       "    </tr>\n",
       "    <tr>\n",
       "      <th>10</th>\n",
       "      <td>0.0</td>\n",
       "      <td>1.0</td>\n",
       "    </tr>\n",
       "    <tr>\n",
       "      <th>11</th>\n",
       "      <td>0.0</td>\n",
       "      <td>1.0</td>\n",
       "    </tr>\n",
       "    <tr>\n",
       "      <th>12</th>\n",
       "      <td>1.0</td>\n",
       "      <td>0.0</td>\n",
       "    </tr>\n",
       "    <tr>\n",
       "      <th>13</th>\n",
       "      <td>0.0</td>\n",
       "      <td>1.0</td>\n",
       "    </tr>\n",
       "    <tr>\n",
       "      <th>14</th>\n",
       "      <td>0.0</td>\n",
       "      <td>1.0</td>\n",
       "    </tr>\n",
       "    <tr>\n",
       "      <th>15</th>\n",
       "      <td>1.0</td>\n",
       "      <td>0.0</td>\n",
       "    </tr>\n",
       "    <tr>\n",
       "      <th>16</th>\n",
       "      <td>1.0</td>\n",
       "      <td>0.0</td>\n",
       "    </tr>\n",
       "    <tr>\n",
       "      <th>17</th>\n",
       "      <td>0.0</td>\n",
       "      <td>1.0</td>\n",
       "    </tr>\n",
       "    <tr>\n",
       "      <th>18</th>\n",
       "      <td>0.0</td>\n",
       "      <td>1.0</td>\n",
       "    </tr>\n",
       "    <tr>\n",
       "      <th>19</th>\n",
       "      <td>1.0</td>\n",
       "      <td>0.0</td>\n",
       "    </tr>\n",
       "  </tbody>\n",
       "</table>\n",
       "</div>"
      ],
      "text/plain": [
       "      F    M\n",
       "0   0.0  1.0\n",
       "1   1.0  0.0\n",
       "2   0.0  1.0\n",
       "3   0.0  1.0\n",
       "4   1.0  0.0\n",
       "5   0.0  1.0\n",
       "6   1.0  0.0\n",
       "7   0.0  1.0\n",
       "8   0.0  1.0\n",
       "9   1.0  0.0\n",
       "10  0.0  1.0\n",
       "11  0.0  1.0\n",
       "12  1.0  0.0\n",
       "13  0.0  1.0\n",
       "14  0.0  1.0\n",
       "15  1.0  0.0\n",
       "16  1.0  0.0\n",
       "17  0.0  1.0\n",
       "18  0.0  1.0\n",
       "19  1.0  0.0"
      ]
     },
     "execution_count": 159,
     "metadata": {},
     "output_type": "execute_result"
    }
   ],
   "source": [
    "onehot_encoded = pd.DataFrame(encoded,columns=encoder.categories_)\n",
    "onehot_encoded.head(20)"
   ]
  },
  {
   "cell_type": "code",
   "execution_count": 131,
   "id": "b9425a2d",
   "metadata": {},
   "outputs": [
    {
     "data": {
      "text/html": [
       "<div>\n",
       "<style scoped>\n",
       "    .dataframe tbody tr th:only-of-type {\n",
       "        vertical-align: middle;\n",
       "    }\n",
       "\n",
       "    .dataframe tbody tr th {\n",
       "        vertical-align: top;\n",
       "    }\n",
       "\n",
       "    .dataframe thead tr th {\n",
       "        text-align: left;\n",
       "    }\n",
       "</style>\n",
       "<table border=\"1\" class=\"dataframe\">\n",
       "  <thead>\n",
       "    <tr>\n",
       "      <th></th>\n",
       "      <th>F</th>\n",
       "    </tr>\n",
       "  </thead>\n",
       "  <tbody>\n",
       "    <tr>\n",
       "      <th>0</th>\n",
       "      <td>0.0</td>\n",
       "    </tr>\n",
       "    <tr>\n",
       "      <th>1</th>\n",
       "      <td>1.0</td>\n",
       "    </tr>\n",
       "    <tr>\n",
       "      <th>2</th>\n",
       "      <td>0.0</td>\n",
       "    </tr>\n",
       "    <tr>\n",
       "      <th>3</th>\n",
       "      <td>0.0</td>\n",
       "    </tr>\n",
       "    <tr>\n",
       "      <th>4</th>\n",
       "      <td>1.0</td>\n",
       "    </tr>\n",
       "  </tbody>\n",
       "</table>\n",
       "</div>"
      ],
      "text/plain": [
       "     F\n",
       "0  0.0\n",
       "1  1.0\n",
       "2  0.0\n",
       "3  0.0\n",
       "4  1.0"
      ]
     },
     "execution_count": 131,
     "metadata": {},
     "output_type": "execute_result"
    }
   ],
   "source": [
    "onehot_encoded = onehot_encoded.drop(['M'],axis=1)\n",
    "onehot_encoded.head()"
   ]
  },
  {
   "cell_type": "code",
   "execution_count": 132,
   "id": "1f5b8d77",
   "metadata": {},
   "outputs": [
    {
     "data": {
      "text/html": [
       "<div>\n",
       "<style scoped>\n",
       "    .dataframe tbody tr th:only-of-type {\n",
       "        vertical-align: middle;\n",
       "    }\n",
       "\n",
       "    .dataframe tbody tr th {\n",
       "        vertical-align: top;\n",
       "    }\n",
       "\n",
       "    .dataframe thead th {\n",
       "        text-align: right;\n",
       "    }\n",
       "</style>\n",
       "<table border=\"1\" class=\"dataframe\">\n",
       "  <thead>\n",
       "    <tr style=\"text-align: right;\">\n",
       "      <th></th>\n",
       "      <th>customer lifetime value</th>\n",
       "      <th>months since last claim</th>\n",
       "      <th>income</th>\n",
       "      <th>monthly premium auto</th>\n",
       "      <th>months since policy inception</th>\n",
       "      <th>number of policies</th>\n",
       "      <th>(F,)</th>\n",
       "    </tr>\n",
       "  </thead>\n",
       "  <tbody>\n",
       "    <tr>\n",
       "      <th>0</th>\n",
       "      <td>0.035752</td>\n",
       "      <td>0.200000</td>\n",
       "      <td>0.480381</td>\n",
       "      <td>0.000000</td>\n",
       "      <td>0.525253</td>\n",
       "      <td>1.000</td>\n",
       "      <td>0.0</td>\n",
       "    </tr>\n",
       "    <tr>\n",
       "      <th>1</th>\n",
       "      <td>0.004059</td>\n",
       "      <td>0.085714</td>\n",
       "      <td>0.000000</td>\n",
       "      <td>0.012658</td>\n",
       "      <td>0.262626</td>\n",
       "      <td>0.000</td>\n",
       "      <td>1.0</td>\n",
       "    </tr>\n",
       "    <tr>\n",
       "      <th>2</th>\n",
       "      <td>0.160264</td>\n",
       "      <td>0.971429</td>\n",
       "      <td>0.221432</td>\n",
       "      <td>0.164557</td>\n",
       "      <td>0.313131</td>\n",
       "      <td>0.125</td>\n",
       "      <td>0.0</td>\n",
       "    </tr>\n",
       "    <tr>\n",
       "      <th>3</th>\n",
       "      <td>0.250953</td>\n",
       "      <td>0.285714</td>\n",
       "      <td>0.490873</td>\n",
       "      <td>0.151899</td>\n",
       "      <td>0.030303</td>\n",
       "      <td>0.125</td>\n",
       "      <td>0.0</td>\n",
       "    </tr>\n",
       "    <tr>\n",
       "      <th>4</th>\n",
       "      <td>0.087527</td>\n",
       "      <td>NaN</td>\n",
       "      <td>0.236795</td>\n",
       "      <td>0.236287</td>\n",
       "      <td>0.313131</td>\n",
       "      <td>0.750</td>\n",
       "      <td>1.0</td>\n",
       "    </tr>\n",
       "    <tr>\n",
       "      <th>...</th>\n",
       "      <td>...</td>\n",
       "      <td>...</td>\n",
       "      <td>...</td>\n",
       "      <td>...</td>\n",
       "      <td>...</td>\n",
       "      <td>...</td>\n",
       "      <td>...</td>\n",
       "    </tr>\n",
       "    <tr>\n",
       "      <th>10905</th>\n",
       "      <td>0.167823</td>\n",
       "      <td>NaN</td>\n",
       "      <td>0.000000</td>\n",
       "      <td>0.810127</td>\n",
       "      <td>0.404040</td>\n",
       "      <td>0.750</td>\n",
       "      <td>1.0</td>\n",
       "    </tr>\n",
       "    <tr>\n",
       "      <th>10906</th>\n",
       "      <td>0.041281</td>\n",
       "      <td>0.200000</td>\n",
       "      <td>0.611576</td>\n",
       "      <td>0.016878</td>\n",
       "      <td>0.686869</td>\n",
       "      <td>0.625</td>\n",
       "      <td>1.0</td>\n",
       "    </tr>\n",
       "    <tr>\n",
       "      <th>10907</th>\n",
       "      <td>0.270122</td>\n",
       "      <td>0.314286</td>\n",
       "      <td>0.398446</td>\n",
       "      <td>0.590717</td>\n",
       "      <td>0.636364</td>\n",
       "      <td>0.125</td>\n",
       "      <td>1.0</td>\n",
       "    </tr>\n",
       "    <tr>\n",
       "      <th>10908</th>\n",
       "      <td>0.123717</td>\n",
       "      <td>0.000000</td>\n",
       "      <td>0.642072</td>\n",
       "      <td>0.409283</td>\n",
       "      <td>0.272727</td>\n",
       "      <td>0.625</td>\n",
       "      <td>1.0</td>\n",
       "    </tr>\n",
       "    <tr>\n",
       "      <th>10909</th>\n",
       "      <td>0.060907</td>\n",
       "      <td>0.885714</td>\n",
       "      <td>0.000000</td>\n",
       "      <td>0.168776</td>\n",
       "      <td>0.010101</td>\n",
       "      <td>0.250</td>\n",
       "      <td>0.0</td>\n",
       "    </tr>\n",
       "  </tbody>\n",
       "</table>\n",
       "<p>10910 rows × 7 columns</p>\n",
       "</div>"
      ],
      "text/plain": [
       "       customer lifetime value  months since last claim    income  \\\n",
       "0                     0.035752                 0.200000  0.480381   \n",
       "1                     0.004059                 0.085714  0.000000   \n",
       "2                     0.160264                 0.971429  0.221432   \n",
       "3                     0.250953                 0.285714  0.490873   \n",
       "4                     0.087527                      NaN  0.236795   \n",
       "...                        ...                      ...       ...   \n",
       "10905                 0.167823                      NaN  0.000000   \n",
       "10906                 0.041281                 0.200000  0.611576   \n",
       "10907                 0.270122                 0.314286  0.398446   \n",
       "10908                 0.123717                 0.000000  0.642072   \n",
       "10909                 0.060907                 0.885714  0.000000   \n",
       "\n",
       "       monthly premium auto  months since policy inception  \\\n",
       "0                  0.000000                       0.525253   \n",
       "1                  0.012658                       0.262626   \n",
       "2                  0.164557                       0.313131   \n",
       "3                  0.151899                       0.030303   \n",
       "4                  0.236287                       0.313131   \n",
       "...                     ...                            ...   \n",
       "10905              0.810127                       0.404040   \n",
       "10906              0.016878                       0.686869   \n",
       "10907              0.590717                       0.636364   \n",
       "10908              0.409283                       0.272727   \n",
       "10909              0.168776                       0.010101   \n",
       "\n",
       "       number of policies  (F,)  \n",
       "0                   1.000   0.0  \n",
       "1                   0.000   1.0  \n",
       "2                   0.125   0.0  \n",
       "3                   0.125   0.0  \n",
       "4                   0.750   1.0  \n",
       "...                   ...   ...  \n",
       "10905               0.750   1.0  \n",
       "10906               0.625   1.0  \n",
       "10907               0.125   1.0  \n",
       "10908               0.625   1.0  \n",
       "10909               0.250   0.0  \n",
       "\n",
       "[10910 rows x 7 columns]"
      ]
     },
     "execution_count": 132,
     "metadata": {},
     "output_type": "execute_result"
    }
   ],
   "source": [
    "X=pd.concat([x_normalized, onehot_encoded], axis=1)\n",
    "X"
   ]
  },
  {
   "cell_type": "code",
   "execution_count": 133,
   "id": "af336b7f",
   "metadata": {},
   "outputs": [
    {
     "data": {
      "text/html": [
       "<div>\n",
       "<style scoped>\n",
       "    .dataframe tbody tr th:only-of-type {\n",
       "        vertical-align: middle;\n",
       "    }\n",
       "\n",
       "    .dataframe tbody tr th {\n",
       "        vertical-align: top;\n",
       "    }\n",
       "\n",
       "    .dataframe thead th {\n",
       "        text-align: right;\n",
       "    }\n",
       "</style>\n",
       "<table border=\"1\" class=\"dataframe\">\n",
       "  <thead>\n",
       "    <tr style=\"text-align: right;\">\n",
       "      <th></th>\n",
       "      <th>customer lifetime value</th>\n",
       "      <th>months since last claim</th>\n",
       "      <th>income</th>\n",
       "      <th>monthly premium auto</th>\n",
       "      <th>months since policy inception</th>\n",
       "      <th>number of policies</th>\n",
       "      <th>customer lifetime value</th>\n",
       "      <th>months since last claim</th>\n",
       "      <th>income</th>\n",
       "      <th>monthly premium auto</th>\n",
       "      <th>months since policy inception</th>\n",
       "      <th>number of policies</th>\n",
       "      <th>customer lifetime value</th>\n",
       "      <th>months since last claim</th>\n",
       "      <th>income</th>\n",
       "      <th>monthly premium auto</th>\n",
       "      <th>months since policy inception</th>\n",
       "      <th>number of policies</th>\n",
       "    </tr>\n",
       "  </thead>\n",
       "  <tbody>\n",
       "    <tr>\n",
       "      <th>0</th>\n",
       "      <td>4809.216960</td>\n",
       "      <td>7.0</td>\n",
       "      <td>48029</td>\n",
       "      <td>61</td>\n",
       "      <td>52</td>\n",
       "      <td>9</td>\n",
       "      <td>0.035752</td>\n",
       "      <td>0.200000</td>\n",
       "      <td>0.480381</td>\n",
       "      <td>0.000000</td>\n",
       "      <td>0.525253</td>\n",
       "      <td>1.000</td>\n",
       "      <td>-0.466105</td>\n",
       "      <td>-0.808451</td>\n",
       "      <td>0.345635</td>\n",
       "      <td>-0.934819</td>\n",
       "      <td>0.139877</td>\n",
       "      <td>2.509455</td>\n",
       "    </tr>\n",
       "    <tr>\n",
       "      <th>1</th>\n",
       "      <td>2228.525238</td>\n",
       "      <td>3.0</td>\n",
       "      <td>0</td>\n",
       "      <td>64</td>\n",
       "      <td>26</td>\n",
       "      <td>1</td>\n",
       "      <td>0.004059</td>\n",
       "      <td>0.085714</td>\n",
       "      <td>0.000000</td>\n",
       "      <td>0.012658</td>\n",
       "      <td>0.262626</td>\n",
       "      <td>0.000</td>\n",
       "      <td>-0.840946</td>\n",
       "      <td>-1.205282</td>\n",
       "      <td>-1.236462</td>\n",
       "      <td>-0.847713</td>\n",
       "      <td>-0.790709</td>\n",
       "      <td>-0.824922</td>\n",
       "    </tr>\n",
       "    <tr>\n",
       "      <th>2</th>\n",
       "      <td>14947.917300</td>\n",
       "      <td>34.0</td>\n",
       "      <td>22139</td>\n",
       "      <td>100</td>\n",
       "      <td>31</td>\n",
       "      <td>2</td>\n",
       "      <td>0.160264</td>\n",
       "      <td>0.971429</td>\n",
       "      <td>0.221432</td>\n",
       "      <td>0.164557</td>\n",
       "      <td>0.313131</td>\n",
       "      <td>0.125</td>\n",
       "      <td>1.006523</td>\n",
       "      <td>1.870158</td>\n",
       "      <td>-0.507194</td>\n",
       "      <td>0.197554</td>\n",
       "      <td>-0.611750</td>\n",
       "      <td>-0.408125</td>\n",
       "    </tr>\n",
       "    <tr>\n",
       "      <th>3</th>\n",
       "      <td>22332.439460</td>\n",
       "      <td>10.0</td>\n",
       "      <td>49078</td>\n",
       "      <td>97</td>\n",
       "      <td>3</td>\n",
       "      <td>2</td>\n",
       "      <td>0.250953</td>\n",
       "      <td>0.285714</td>\n",
       "      <td>0.490873</td>\n",
       "      <td>0.151899</td>\n",
       "      <td>0.030303</td>\n",
       "      <td>0.125</td>\n",
       "      <td>2.079112</td>\n",
       "      <td>-0.510828</td>\n",
       "      <td>0.380189</td>\n",
       "      <td>0.110448</td>\n",
       "      <td>-1.613919</td>\n",
       "      <td>-0.408125</td>\n",
       "    </tr>\n",
       "    <tr>\n",
       "      <th>4</th>\n",
       "      <td>9025.067525</td>\n",
       "      <td>NaN</td>\n",
       "      <td>23675</td>\n",
       "      <td>117</td>\n",
       "      <td>31</td>\n",
       "      <td>7</td>\n",
       "      <td>0.087527</td>\n",
       "      <td>NaN</td>\n",
       "      <td>0.236795</td>\n",
       "      <td>0.236287</td>\n",
       "      <td>0.313131</td>\n",
       "      <td>0.750</td>\n",
       "      <td>0.146240</td>\n",
       "      <td>NaN</td>\n",
       "      <td>-0.456597</td>\n",
       "      <td>0.691152</td>\n",
       "      <td>-0.611750</td>\n",
       "      <td>1.675860</td>\n",
       "    </tr>\n",
       "    <tr>\n",
       "      <th>...</th>\n",
       "      <td>...</td>\n",
       "      <td>...</td>\n",
       "      <td>...</td>\n",
       "      <td>...</td>\n",
       "      <td>...</td>\n",
       "      <td>...</td>\n",
       "      <td>...</td>\n",
       "      <td>...</td>\n",
       "      <td>...</td>\n",
       "      <td>...</td>\n",
       "      <td>...</td>\n",
       "      <td>...</td>\n",
       "      <td>...</td>\n",
       "      <td>...</td>\n",
       "      <td>...</td>\n",
       "      <td>...</td>\n",
       "      <td>...</td>\n",
       "      <td>...</td>\n",
       "    </tr>\n",
       "    <tr>\n",
       "      <th>10905</th>\n",
       "      <td>15563.369440</td>\n",
       "      <td>NaN</td>\n",
       "      <td>0</td>\n",
       "      <td>253</td>\n",
       "      <td>40</td>\n",
       "      <td>7</td>\n",
       "      <td>0.167823</td>\n",
       "      <td>NaN</td>\n",
       "      <td>0.000000</td>\n",
       "      <td>0.810127</td>\n",
       "      <td>0.404040</td>\n",
       "      <td>0.750</td>\n",
       "      <td>1.095916</td>\n",
       "      <td>NaN</td>\n",
       "      <td>-1.236462</td>\n",
       "      <td>4.639940</td>\n",
       "      <td>-0.289625</td>\n",
       "      <td>1.675860</td>\n",
       "    </tr>\n",
       "    <tr>\n",
       "      <th>10906</th>\n",
       "      <td>5259.444853</td>\n",
       "      <td>7.0</td>\n",
       "      <td>61146</td>\n",
       "      <td>65</td>\n",
       "      <td>68</td>\n",
       "      <td>6</td>\n",
       "      <td>0.041281</td>\n",
       "      <td>0.200000</td>\n",
       "      <td>0.611576</td>\n",
       "      <td>0.016878</td>\n",
       "      <td>0.686869</td>\n",
       "      <td>0.625</td>\n",
       "      <td>-0.400710</td>\n",
       "      <td>-0.808451</td>\n",
       "      <td>0.777715</td>\n",
       "      <td>-0.818678</td>\n",
       "      <td>0.712545</td>\n",
       "      <td>1.259063</td>\n",
       "    </tr>\n",
       "    <tr>\n",
       "      <th>10907</th>\n",
       "      <td>23893.304100</td>\n",
       "      <td>11.0</td>\n",
       "      <td>39837</td>\n",
       "      <td>201</td>\n",
       "      <td>63</td>\n",
       "      <td>2</td>\n",
       "      <td>0.270122</td>\n",
       "      <td>0.314286</td>\n",
       "      <td>0.398446</td>\n",
       "      <td>0.590717</td>\n",
       "      <td>0.636364</td>\n",
       "      <td>0.125</td>\n",
       "      <td>2.305825</td>\n",
       "      <td>-0.411620</td>\n",
       "      <td>0.075787</td>\n",
       "      <td>3.130109</td>\n",
       "      <td>0.533586</td>\n",
       "      <td>-0.408125</td>\n",
       "    </tr>\n",
       "    <tr>\n",
       "      <th>10908</th>\n",
       "      <td>11971.977650</td>\n",
       "      <td>0.0</td>\n",
       "      <td>64195</td>\n",
       "      <td>158</td>\n",
       "      <td>27</td>\n",
       "      <td>6</td>\n",
       "      <td>0.123717</td>\n",
       "      <td>0.000000</td>\n",
       "      <td>0.642072</td>\n",
       "      <td>0.409283</td>\n",
       "      <td>0.272727</td>\n",
       "      <td>0.625</td>\n",
       "      <td>0.574273</td>\n",
       "      <td>-1.502905</td>\n",
       "      <td>0.878150</td>\n",
       "      <td>1.881595</td>\n",
       "      <td>-0.754917</td>\n",
       "      <td>1.259063</td>\n",
       "    </tr>\n",
       "    <tr>\n",
       "      <th>10909</th>\n",
       "      <td>6857.519928</td>\n",
       "      <td>31.0</td>\n",
       "      <td>0</td>\n",
       "      <td>101</td>\n",
       "      <td>1</td>\n",
       "      <td>3</td>\n",
       "      <td>0.060907</td>\n",
       "      <td>0.885714</td>\n",
       "      <td>0.000000</td>\n",
       "      <td>0.168776</td>\n",
       "      <td>0.010101</td>\n",
       "      <td>0.250</td>\n",
       "      <td>-0.168593</td>\n",
       "      <td>1.572535</td>\n",
       "      <td>-1.236462</td>\n",
       "      <td>0.226589</td>\n",
       "      <td>-1.685503</td>\n",
       "      <td>0.008672</td>\n",
       "    </tr>\n",
       "  </tbody>\n",
       "</table>\n",
       "<p>10910 rows × 18 columns</p>\n",
       "</div>"
      ],
      "text/plain": [
       "       customer lifetime value  months since last claim  income  \\\n",
       "0                  4809.216960                      7.0   48029   \n",
       "1                  2228.525238                      3.0       0   \n",
       "2                 14947.917300                     34.0   22139   \n",
       "3                 22332.439460                     10.0   49078   \n",
       "4                  9025.067525                      NaN   23675   \n",
       "...                        ...                      ...     ...   \n",
       "10905             15563.369440                      NaN       0   \n",
       "10906              5259.444853                      7.0   61146   \n",
       "10907             23893.304100                     11.0   39837   \n",
       "10908             11971.977650                      0.0   64195   \n",
       "10909              6857.519928                     31.0       0   \n",
       "\n",
       "       monthly premium auto  months since policy inception  \\\n",
       "0                        61                             52   \n",
       "1                        64                             26   \n",
       "2                       100                             31   \n",
       "3                        97                              3   \n",
       "4                       117                             31   \n",
       "...                     ...                            ...   \n",
       "10905                   253                             40   \n",
       "10906                    65                             68   \n",
       "10907                   201                             63   \n",
       "10908                   158                             27   \n",
       "10909                   101                              1   \n",
       "\n",
       "       number of policies  customer lifetime value  months since last claim  \\\n",
       "0                       9                 0.035752                 0.200000   \n",
       "1                       1                 0.004059                 0.085714   \n",
       "2                       2                 0.160264                 0.971429   \n",
       "3                       2                 0.250953                 0.285714   \n",
       "4                       7                 0.087527                      NaN   \n",
       "...                   ...                      ...                      ...   \n",
       "10905                   7                 0.167823                      NaN   \n",
       "10906                   6                 0.041281                 0.200000   \n",
       "10907                   2                 0.270122                 0.314286   \n",
       "10908                   6                 0.123717                 0.000000   \n",
       "10909                   3                 0.060907                 0.885714   \n",
       "\n",
       "         income  monthly premium auto  months since policy inception  \\\n",
       "0      0.480381              0.000000                       0.525253   \n",
       "1      0.000000              0.012658                       0.262626   \n",
       "2      0.221432              0.164557                       0.313131   \n",
       "3      0.490873              0.151899                       0.030303   \n",
       "4      0.236795              0.236287                       0.313131   \n",
       "...         ...                   ...                            ...   \n",
       "10905  0.000000              0.810127                       0.404040   \n",
       "10906  0.611576              0.016878                       0.686869   \n",
       "10907  0.398446              0.590717                       0.636364   \n",
       "10908  0.642072              0.409283                       0.272727   \n",
       "10909  0.000000              0.168776                       0.010101   \n",
       "\n",
       "       number of policies  customer lifetime value  months since last claim  \\\n",
       "0                   1.000                -0.466105                -0.808451   \n",
       "1                   0.000                -0.840946                -1.205282   \n",
       "2                   0.125                 1.006523                 1.870158   \n",
       "3                   0.125                 2.079112                -0.510828   \n",
       "4                   0.750                 0.146240                      NaN   \n",
       "...                   ...                      ...                      ...   \n",
       "10905               0.750                 1.095916                      NaN   \n",
       "10906               0.625                -0.400710                -0.808451   \n",
       "10907               0.125                 2.305825                -0.411620   \n",
       "10908               0.625                 0.574273                -1.502905   \n",
       "10909               0.250                -0.168593                 1.572535   \n",
       "\n",
       "         income  monthly premium auto  months since policy inception  \\\n",
       "0      0.345635             -0.934819                       0.139877   \n",
       "1     -1.236462             -0.847713                      -0.790709   \n",
       "2     -0.507194              0.197554                      -0.611750   \n",
       "3      0.380189              0.110448                      -1.613919   \n",
       "4     -0.456597              0.691152                      -0.611750   \n",
       "...         ...                   ...                            ...   \n",
       "10905 -1.236462              4.639940                      -0.289625   \n",
       "10906  0.777715             -0.818678                       0.712545   \n",
       "10907  0.075787              3.130109                       0.533586   \n",
       "10908  0.878150              1.881595                      -0.754917   \n",
       "10909 -1.236462              0.226589                      -1.685503   \n",
       "\n",
       "       number of policies  \n",
       "0                2.509455  \n",
       "1               -0.824922  \n",
       "2               -0.408125  \n",
       "3               -0.408125  \n",
       "4                1.675860  \n",
       "...                   ...  \n",
       "10905            1.675860  \n",
       "10906            1.259063  \n",
       "10907           -0.408125  \n",
       "10908            1.259063  \n",
       "10909            0.008672  \n",
       "\n",
       "[10910 rows x 18 columns]"
      ]
     },
     "execution_count": 133,
     "metadata": {},
     "output_type": "execute_result"
    }
   ],
   "source": [
    "pd.concat([X_1,x_normalized,x_standardized],axis=1)"
   ]
  },
  {
   "cell_type": "markdown",
   "id": "42e44fd8",
   "metadata": {},
   "source": [
    "#Linear Regression:\n",
    "Train-test split.\n",
    "Apply linear regression."
   ]
  },
  {
   "cell_type": "code",
   "execution_count": 134,
   "id": "f694a5a8",
   "metadata": {},
   "outputs": [
    {
     "data": {
      "text/plain": [
       "0    292.800000\n",
       "1    744.924331\n",
       "2    480.000000\n",
       "3    484.013411\n",
       "4    707.925645\n",
       "Name: total claim amount, dtype: float64"
      ]
     },
     "execution_count": 134,
     "metadata": {},
     "output_type": "execute_result"
    }
   ],
   "source": [
    "y = data1['total claim amount']\n",
    "y.head()"
   ]
  },
  {
   "cell_type": "code",
   "execution_count": 135,
   "id": "deb27ed1",
   "metadata": {},
   "outputs": [
    {
     "data": {
      "text/html": [
       "<div>\n",
       "<style scoped>\n",
       "    .dataframe tbody tr th:only-of-type {\n",
       "        vertical-align: middle;\n",
       "    }\n",
       "\n",
       "    .dataframe tbody tr th {\n",
       "        vertical-align: top;\n",
       "    }\n",
       "\n",
       "    .dataframe thead th {\n",
       "        text-align: right;\n",
       "    }\n",
       "</style>\n",
       "<table border=\"1\" class=\"dataframe\">\n",
       "  <thead>\n",
       "    <tr style=\"text-align: right;\">\n",
       "      <th></th>\n",
       "      <th>customer lifetime value</th>\n",
       "      <th>months since last claim</th>\n",
       "      <th>income</th>\n",
       "      <th>monthly premium auto</th>\n",
       "      <th>months since policy inception</th>\n",
       "      <th>number of policies</th>\n",
       "      <th>(F,)</th>\n",
       "    </tr>\n",
       "  </thead>\n",
       "  <tbody>\n",
       "    <tr>\n",
       "      <th>0</th>\n",
       "      <td>0.035752</td>\n",
       "      <td>0.200000</td>\n",
       "      <td>0.480381</td>\n",
       "      <td>0.000000</td>\n",
       "      <td>0.525253</td>\n",
       "      <td>1.000</td>\n",
       "      <td>0.0</td>\n",
       "    </tr>\n",
       "    <tr>\n",
       "      <th>1</th>\n",
       "      <td>0.004059</td>\n",
       "      <td>0.085714</td>\n",
       "      <td>0.000000</td>\n",
       "      <td>0.012658</td>\n",
       "      <td>0.262626</td>\n",
       "      <td>0.000</td>\n",
       "      <td>1.0</td>\n",
       "    </tr>\n",
       "    <tr>\n",
       "      <th>2</th>\n",
       "      <td>0.160264</td>\n",
       "      <td>0.971429</td>\n",
       "      <td>0.221432</td>\n",
       "      <td>0.164557</td>\n",
       "      <td>0.313131</td>\n",
       "      <td>0.125</td>\n",
       "      <td>0.0</td>\n",
       "    </tr>\n",
       "    <tr>\n",
       "      <th>3</th>\n",
       "      <td>0.250953</td>\n",
       "      <td>0.285714</td>\n",
       "      <td>0.490873</td>\n",
       "      <td>0.151899</td>\n",
       "      <td>0.030303</td>\n",
       "      <td>0.125</td>\n",
       "      <td>0.0</td>\n",
       "    </tr>\n",
       "    <tr>\n",
       "      <th>4</th>\n",
       "      <td>0.087527</td>\n",
       "      <td>NaN</td>\n",
       "      <td>0.236795</td>\n",
       "      <td>0.236287</td>\n",
       "      <td>0.313131</td>\n",
       "      <td>0.750</td>\n",
       "      <td>1.0</td>\n",
       "    </tr>\n",
       "  </tbody>\n",
       "</table>\n",
       "</div>"
      ],
      "text/plain": [
       "   customer lifetime value  months since last claim    income  \\\n",
       "0                 0.035752                 0.200000  0.480381   \n",
       "1                 0.004059                 0.085714  0.000000   \n",
       "2                 0.160264                 0.971429  0.221432   \n",
       "3                 0.250953                 0.285714  0.490873   \n",
       "4                 0.087527                      NaN  0.236795   \n",
       "\n",
       "   monthly premium auto  months since policy inception  number of policies  \\\n",
       "0              0.000000                       0.525253               1.000   \n",
       "1              0.012658                       0.262626               0.000   \n",
       "2              0.164557                       0.313131               0.125   \n",
       "3              0.151899                       0.030303               0.125   \n",
       "4              0.236287                       0.313131               0.750   \n",
       "\n",
       "   (F,)  \n",
       "0   0.0  \n",
       "1   1.0  \n",
       "2   0.0  \n",
       "3   0.0  \n",
       "4   1.0  "
      ]
     },
     "execution_count": 135,
     "metadata": {},
     "output_type": "execute_result"
    }
   ],
   "source": [
    "X.head()"
   ]
  },
  {
   "cell_type": "code",
   "execution_count": 136,
   "id": "b3828671",
   "metadata": {},
   "outputs": [],
   "source": [
    "X_1=num[['income', 'monthly premium auto', 'months since policy inception', 'number of policies']].copy()"
   ]
  },
  {
   "cell_type": "code",
   "execution_count": 137,
   "id": "a8dadc26",
   "metadata": {},
   "outputs": [],
   "source": [
    "X_train, X_test, y_train, y_test = train_test_split(X_1, y, test_size=0.2, random_state=22)"
   ]
  },
  {
   "cell_type": "code",
   "execution_count": 138,
   "id": "5cd6350d",
   "metadata": {},
   "outputs": [
    {
     "name": "stdout",
     "output_type": "stream",
     "text": [
      "(8728, 4)\n",
      "(2182, 4)\n",
      "(8728,)\n",
      "(2182,)\n"
     ]
    }
   ],
   "source": [
    "print(X_train.shape)\n",
    "print(X_test.shape)\n",
    "print(y_train.shape)\n",
    "print(y_test.shape)"
   ]
  },
  {
   "cell_type": "code",
   "execution_count": 139,
   "id": "25233670",
   "metadata": {},
   "outputs": [
    {
     "data": {
      "text/html": [
       "<div>\n",
       "<style scoped>\n",
       "    .dataframe tbody tr th:only-of-type {\n",
       "        vertical-align: middle;\n",
       "    }\n",
       "\n",
       "    .dataframe tbody tr th {\n",
       "        vertical-align: top;\n",
       "    }\n",
       "\n",
       "    .dataframe thead th {\n",
       "        text-align: right;\n",
       "    }\n",
       "</style>\n",
       "<table border=\"1\" class=\"dataframe\">\n",
       "  <thead>\n",
       "    <tr style=\"text-align: right;\">\n",
       "      <th></th>\n",
       "      <th>income</th>\n",
       "      <th>monthly premium auto</th>\n",
       "      <th>months since policy inception</th>\n",
       "      <th>number of policies</th>\n",
       "    </tr>\n",
       "  </thead>\n",
       "  <tbody>\n",
       "    <tr>\n",
       "      <th>2483</th>\n",
       "      <td>86347</td>\n",
       "      <td>130</td>\n",
       "      <td>93</td>\n",
       "      <td>2</td>\n",
       "    </tr>\n",
       "    <tr>\n",
       "      <th>3940</th>\n",
       "      <td>0</td>\n",
       "      <td>66</td>\n",
       "      <td>35</td>\n",
       "      <td>1</td>\n",
       "    </tr>\n",
       "    <tr>\n",
       "      <th>7049</th>\n",
       "      <td>0</td>\n",
       "      <td>66</td>\n",
       "      <td>89</td>\n",
       "      <td>3</td>\n",
       "    </tr>\n",
       "    <tr>\n",
       "      <th>2322</th>\n",
       "      <td>26032</td>\n",
       "      <td>109</td>\n",
       "      <td>25</td>\n",
       "      <td>3</td>\n",
       "    </tr>\n",
       "    <tr>\n",
       "      <th>6148</th>\n",
       "      <td>26514</td>\n",
       "      <td>91</td>\n",
       "      <td>58</td>\n",
       "      <td>3</td>\n",
       "    </tr>\n",
       "  </tbody>\n",
       "</table>\n",
       "</div>"
      ],
      "text/plain": [
       "      income  monthly premium auto  months since policy inception  \\\n",
       "2483   86347                   130                             93   \n",
       "3940       0                    66                             35   \n",
       "7049       0                    66                             89   \n",
       "2322   26032                   109                             25   \n",
       "6148   26514                    91                             58   \n",
       "\n",
       "      number of policies  \n",
       "2483                   2  \n",
       "3940                   1  \n",
       "7049                   3  \n",
       "2322                   3  \n",
       "6148                   3  "
      ]
     },
     "execution_count": 139,
     "metadata": {},
     "output_type": "execute_result"
    }
   ],
   "source": [
    "X_train.head()"
   ]
  },
  {
   "cell_type": "code",
   "execution_count": 140,
   "id": "89214645",
   "metadata": {},
   "outputs": [
    {
     "data": {
      "text/plain": [
       "2483    593.779554\n",
       "3940    316.800000\n",
       "7049    712.309237\n",
       "2322    638.098653\n",
       "6148    655.200000\n",
       "Name: total claim amount, dtype: float64"
      ]
     },
     "execution_count": 140,
     "metadata": {},
     "output_type": "execute_result"
    }
   ],
   "source": [
    "y_train.head()"
   ]
  },
  {
   "cell_type": "code",
   "execution_count": 141,
   "id": "b17e52f3",
   "metadata": {},
   "outputs": [
    {
     "data": {
      "text/plain": [
       "LinearRegression()"
      ]
     },
     "execution_count": 141,
     "metadata": {},
     "output_type": "execute_result"
    }
   ],
   "source": [
    "from sklearn.linear_model import LinearRegression\n",
    "lm = linear_model.LinearRegression()\n",
    "lm.fit(X_train,y_train)"
   ]
  },
  {
   "cell_type": "code",
   "execution_count": 142,
   "id": "5b2d7d53",
   "metadata": {},
   "outputs": [
    {
     "name": "stdout",
     "output_type": "stream",
     "text": [
      "(10910, 4)\n"
     ]
    },
    {
     "data": {
      "text/html": [
       "<div>\n",
       "<style scoped>\n",
       "    .dataframe tbody tr th:only-of-type {\n",
       "        vertical-align: middle;\n",
       "    }\n",
       "\n",
       "    .dataframe tbody tr th {\n",
       "        vertical-align: top;\n",
       "    }\n",
       "\n",
       "    .dataframe thead th {\n",
       "        text-align: right;\n",
       "    }\n",
       "</style>\n",
       "<table border=\"1\" class=\"dataframe\">\n",
       "  <thead>\n",
       "    <tr style=\"text-align: right;\">\n",
       "      <th></th>\n",
       "      <th>income</th>\n",
       "      <th>monthly premium auto</th>\n",
       "      <th>months since policy inception</th>\n",
       "      <th>number of policies</th>\n",
       "    </tr>\n",
       "  </thead>\n",
       "  <tbody>\n",
       "    <tr>\n",
       "      <th>0</th>\n",
       "      <td>0.480381</td>\n",
       "      <td>0.000000</td>\n",
       "      <td>0.525253</td>\n",
       "      <td>1.000</td>\n",
       "    </tr>\n",
       "    <tr>\n",
       "      <th>1</th>\n",
       "      <td>0.000000</td>\n",
       "      <td>0.012658</td>\n",
       "      <td>0.262626</td>\n",
       "      <td>0.000</td>\n",
       "    </tr>\n",
       "    <tr>\n",
       "      <th>2</th>\n",
       "      <td>0.221432</td>\n",
       "      <td>0.164557</td>\n",
       "      <td>0.313131</td>\n",
       "      <td>0.125</td>\n",
       "    </tr>\n",
       "    <tr>\n",
       "      <th>3</th>\n",
       "      <td>0.490873</td>\n",
       "      <td>0.151899</td>\n",
       "      <td>0.030303</td>\n",
       "      <td>0.125</td>\n",
       "    </tr>\n",
       "    <tr>\n",
       "      <th>4</th>\n",
       "      <td>0.236795</td>\n",
       "      <td>0.236287</td>\n",
       "      <td>0.313131</td>\n",
       "      <td>0.750</td>\n",
       "    </tr>\n",
       "  </tbody>\n",
       "</table>\n",
       "</div>"
      ],
      "text/plain": [
       "     income  monthly premium auto  months since policy inception  \\\n",
       "0  0.480381              0.000000                       0.525253   \n",
       "1  0.000000              0.012658                       0.262626   \n",
       "2  0.221432              0.164557                       0.313131   \n",
       "3  0.490873              0.151899                       0.030303   \n",
       "4  0.236795              0.236287                       0.313131   \n",
       "\n",
       "   number of policies  \n",
       "0               1.000  \n",
       "1               0.000  \n",
       "2               0.125  \n",
       "3               0.125  \n",
       "4               0.750  "
      ]
     },
     "execution_count": 142,
     "metadata": {},
     "output_type": "execute_result"
    }
   ],
   "source": [
    "transformer = MinMaxScaler().fit(X_1)\n",
    "x_normalized = transformer.transform(X_1)\n",
    "print(x_normalized.shape)\n",
    "x_normalized=pd.DataFrame(x_normalized, columns=X_1.columns)\n",
    "x_normalized.head()"
   ]
  },
  {
   "cell_type": "code",
   "execution_count": 143,
   "id": "3e040c87",
   "metadata": {},
   "outputs": [
    {
     "data": {
      "text/plain": [
       "0.5133753864890265"
      ]
     },
     "execution_count": 143,
     "metadata": {},
     "output_type": "execute_result"
    }
   ],
   "source": [
    "from sklearn.metrics import r2_score\n",
    "y_pred_train = lm.predict(X_train)\n",
    "r2_score(y_train, y_pred_train)"
   ]
  },
  {
   "cell_type": "markdown",
   "id": "3066bf00",
   "metadata": {},
   "source": [
    "#Model Validation:\n",
    "Description:\n",
    "R2.\n",
    "MSE.\n",
    "RMSE.\n",
    "MAE."
   ]
  },
  {
   "cell_type": "code",
   "execution_count": 144,
   "id": "4c5dfe45",
   "metadata": {},
   "outputs": [
    {
     "name": "stdout",
     "output_type": "stream",
     "text": [
      "R2 score for training is: 0.5133753864890265\n",
      "MSE for training is: 41297.00197348907\n",
      "RMSE for training is: 203.2166380331322\n",
      "MAE for training is: 145.41350068784618\n",
      "MAPE for training is: 2.2871790267545724\n",
      "------------------------\n",
      "R2 score por testing is: 0.5467357287060138\n",
      "MSE for testing is: 39575.31877614678\n",
      "RMSE for testing is: 198.93546384731602\n",
      "MAE for testing is: 142.33050868404945\n",
      "MAPE for testing is: 2.1015809618279673\n"
     ]
    }
   ],
   "source": [
    "y_pred_train = lm.predict(X_train)\n",
    "y_pred_test = lm.predict(X_test)\n",
    "\n",
    "R2_train = r2_score(y_train, y_pred_train)\n",
    "R2_test = r2_score(y_test, y_pred_test)\n",
    "\n",
    "\n",
    "print(\"R2 score for training is:\", r2_score(y_train, y_pred_train))\n",
    "print(\"MSE for training is:\", mean_squared_error(y_train, y_pred_train))\n",
    "print(\"RMSE for training is:\", np.sqrt(mean_squared_error(y_train, y_pred_train)))\n",
    "print(\"MAE for training is:\", mean_absolute_error(y_train, y_pred_train))\n",
    "print(\"MAPE for training is:\", mean_absolute_percentage_error(y_train, y_pred_train))\n",
    "\n",
    "print(\"------------------------\")\n",
    "\n",
    "print(\"R2 score por testing is:\", r2_score(y_test, y_pred_test))\n",
    "print(\"MSE for testing is:\", mean_squared_error(y_test, y_pred_test))\n",
    "print(\"RMSE for testing is:\", np.sqrt(mean_squared_error(y_test, y_pred_test)))\n",
    "print(\"MAE for testing is:\", mean_absolute_error(y_test, y_pred_test))\n",
    "print(\"MAPE for testing is:\", mean_absolute_percentage_error(y_test, y_pred_test))"
   ]
  },
  {
   "cell_type": "markdown",
   "id": "c0bcc483",
   "metadata": {},
   "source": [
    "This means that the model is not fitted properly and error is very high."
   ]
  },
  {
   "cell_type": "markdown",
   "id": "4cc69dad",
   "metadata": {},
   "source": [
    "# Lab9Round7"
   ]
  },
  {
   "cell_type": "markdown",
   "id": "8370330d",
   "metadata": {},
   "source": [
    "Remember the previous rounds. Follow the steps as shown in previous lectures and try to improve the accuracy of the model. Include both categorical columns in the exercise. Some approaches you can try in this exercise:\n",
    "\n",
    "use the concept of multicollinearity and remove insignificant variables\n",
    "use a different method of scaling the numerical variables\n",
    "use a different ratio of train test split\n",
    "use the transformation on numerical columns which align it more towards a normal distribution"
   ]
  },
  {
   "cell_type": "code",
   "execution_count": 145,
   "id": "0cbee03b",
   "metadata": {},
   "outputs": [
    {
     "data": {
      "text/plain": [
       "<AxesSubplot:>"
      ]
     },
     "execution_count": 145,
     "metadata": {},
     "output_type": "execute_result"
    },
    {
     "data": {
      "image/png": "[encoded data removed]",
      "text/plain": [
       "<Figure size 432x288 with 2 Axes>"
      ]
     },
     "metadata": {
      "needs_background": "light"
     },
     "output_type": "display_data"
    }
   ],
   "source": [
    "sns.heatmap(num.corr(), annot=True)"
   ]
  },
  {
   "cell_type": "code",
   "execution_count": 190,
   "id": "db9e4d48",
   "metadata": {},
   "outputs": [],
   "source": [
    "y = data1['total claim amount']\n",
    "X_2=num[['monthly premium auto', 'months since policy inception', 'number of policies']].copy()"
   ]
  },
  {
   "cell_type": "code",
   "execution_count": 191,
   "id": "8295f563",
   "metadata": {},
   "outputs": [
    {
     "data": {
      "image/png": "[encoded data removed]",
      "text/plain": [
       "<Figure size 1440x720 with 3 Axes>"
      ]
     },
     "metadata": {
      "needs_background": "light"
     },
     "output_type": "display_data"
    }
   ],
   "source": [
    "hist_maker(X_2)"
   ]
  },
  {
   "cell_type": "code",
   "execution_count": 192,
   "id": "59d84f15",
   "metadata": {},
   "outputs": [
    {
     "name": "stdout",
     "output_type": "stream",
     "text": [
      "(10910, 3)\n"
     ]
    },
    {
     "data": {
      "text/html": [
       "<div>\n",
       "<style scoped>\n",
       "    .dataframe tbody tr th:only-of-type {\n",
       "        vertical-align: middle;\n",
       "    }\n",
       "\n",
       "    .dataframe tbody tr th {\n",
       "        vertical-align: top;\n",
       "    }\n",
       "\n",
       "    .dataframe thead th {\n",
       "        text-align: right;\n",
       "    }\n",
       "</style>\n",
       "<table border=\"1\" class=\"dataframe\">\n",
       "  <thead>\n",
       "    <tr style=\"text-align: right;\">\n",
       "      <th></th>\n",
       "      <th>monthly premium auto</th>\n",
       "      <th>months since policy inception</th>\n",
       "      <th>number of policies</th>\n",
       "    </tr>\n",
       "  </thead>\n",
       "  <tbody>\n",
       "    <tr>\n",
       "      <th>0</th>\n",
       "      <td>0.000000</td>\n",
       "      <td>0.525253</td>\n",
       "      <td>1.000</td>\n",
       "    </tr>\n",
       "    <tr>\n",
       "      <th>1</th>\n",
       "      <td>0.012658</td>\n",
       "      <td>0.262626</td>\n",
       "      <td>0.000</td>\n",
       "    </tr>\n",
       "    <tr>\n",
       "      <th>2</th>\n",
       "      <td>0.164557</td>\n",
       "      <td>0.313131</td>\n",
       "      <td>0.125</td>\n",
       "    </tr>\n",
       "    <tr>\n",
       "      <th>3</th>\n",
       "      <td>0.151899</td>\n",
       "      <td>0.030303</td>\n",
       "      <td>0.125</td>\n",
       "    </tr>\n",
       "    <tr>\n",
       "      <th>4</th>\n",
       "      <td>0.236287</td>\n",
       "      <td>0.313131</td>\n",
       "      <td>0.750</td>\n",
       "    </tr>\n",
       "  </tbody>\n",
       "</table>\n",
       "</div>"
      ],
      "text/plain": [
       "   monthly premium auto  months since policy inception  number of policies\n",
       "0              0.000000                       0.525253               1.000\n",
       "1              0.012658                       0.262626               0.000\n",
       "2              0.164557                       0.313131               0.125\n",
       "3              0.151899                       0.030303               0.125\n",
       "4              0.236287                       0.313131               0.750"
      ]
     },
     "execution_count": 192,
     "metadata": {},
     "output_type": "execute_result"
    }
   ],
   "source": [
    "transformer = MinMaxScaler().fit(X_2)\n",
    "x_normalized = transformer.transform(X_2)\n",
    "print(x_normalized.shape)\n",
    "x_normalized=pd.DataFrame(x_normalized, columns=X_2.columns)\n",
    "x_normalized.head()"
   ]
  },
  {
   "cell_type": "code",
   "execution_count": 193,
   "id": "49774328",
   "metadata": {},
   "outputs": [
    {
     "name": "stdout",
     "output_type": "stream",
     "text": [
      "The numpy array looks like this:  [[-0.93481904  0.13987654  2.50945468]\n",
      " [-0.84771343 -0.79070911 -0.82492205]\n",
      " [ 0.19755381 -0.61175033 -0.40812496]\n",
      " ...\n",
      " [ 3.13010912  0.53358586 -0.40812496]\n",
      " [ 1.88159547 -0.75491735  1.25906341]\n",
      " [ 0.22658901 -1.685503    0.00867213]]\n",
      "The type of x_normalized is <class 'numpy.ndarray'> and the shape of the array is (10910, 3)\n"
     ]
    },
    {
     "data": {
      "text/html": [
       "<div>\n",
       "<style scoped>\n",
       "    .dataframe tbody tr th:only-of-type {\n",
       "        vertical-align: middle;\n",
       "    }\n",
       "\n",
       "    .dataframe tbody tr th {\n",
       "        vertical-align: top;\n",
       "    }\n",
       "\n",
       "    .dataframe thead th {\n",
       "        text-align: right;\n",
       "    }\n",
       "</style>\n",
       "<table border=\"1\" class=\"dataframe\">\n",
       "  <thead>\n",
       "    <tr style=\"text-align: right;\">\n",
       "      <th></th>\n",
       "      <th>monthly premium auto</th>\n",
       "      <th>months since policy inception</th>\n",
       "      <th>number of policies</th>\n",
       "    </tr>\n",
       "  </thead>\n",
       "  <tbody>\n",
       "    <tr>\n",
       "      <th>0</th>\n",
       "      <td>-0.934819</td>\n",
       "      <td>0.139877</td>\n",
       "      <td>2.509455</td>\n",
       "    </tr>\n",
       "    <tr>\n",
       "      <th>1</th>\n",
       "      <td>-0.847713</td>\n",
       "      <td>-0.790709</td>\n",
       "      <td>-0.824922</td>\n",
       "    </tr>\n",
       "    <tr>\n",
       "      <th>2</th>\n",
       "      <td>0.197554</td>\n",
       "      <td>-0.611750</td>\n",
       "      <td>-0.408125</td>\n",
       "    </tr>\n",
       "    <tr>\n",
       "      <th>3</th>\n",
       "      <td>0.110448</td>\n",
       "      <td>-1.613919</td>\n",
       "      <td>-0.408125</td>\n",
       "    </tr>\n",
       "    <tr>\n",
       "      <th>4</th>\n",
       "      <td>0.691152</td>\n",
       "      <td>-0.611750</td>\n",
       "      <td>1.675860</td>\n",
       "    </tr>\n",
       "  </tbody>\n",
       "</table>\n",
       "</div>"
      ],
      "text/plain": [
       "   monthly premium auto  months since policy inception  number of policies\n",
       "0             -0.934819                       0.139877            2.509455\n",
       "1             -0.847713                      -0.790709           -0.824922\n",
       "2              0.197554                      -0.611750           -0.408125\n",
       "3              0.110448                      -1.613919           -0.408125\n",
       "4              0.691152                      -0.611750            1.675860"
      ]
     },
     "execution_count": 193,
     "metadata": {},
     "output_type": "execute_result"
    }
   ],
   "source": [
    "Standardtransformer = StandardScaler()\n",
    "Standardtransformer.fit(X_2)\n",
    "x_standardized = Standardtransformer.transform(X_2)\n",
    "print(\"The numpy array looks like this: \",x_standardized)\n",
    "print(\"The type of x_normalized is {} and the shape of the array is {}\".format(type(x_standardized),x_standardized.shape))\n",
    "x_standardized = pd.DataFrame(x_standardized,columns=X_2.columns)\n",
    "x_standardized.head()"
   ]
  },
  {
   "cell_type": "code",
   "execution_count": 194,
   "id": "3809ea87",
   "metadata": {},
   "outputs": [],
   "source": [
    "X_train, X_test, y_train, y_test = train_test_split(X_2, y, test_size=0.2, random_state=42)"
   ]
  },
  {
   "cell_type": "code",
   "execution_count": 195,
   "id": "1e1176d5",
   "metadata": {},
   "outputs": [
    {
     "name": "stdout",
     "output_type": "stream",
     "text": [
      "(8728, 3)\n",
      "(2182, 3)\n",
      "(8728,)\n",
      "(2182,)\n"
     ]
    }
   ],
   "source": [
    "print(X_train.shape)\n",
    "print(X_test.shape)\n",
    "print(y_train.shape)\n",
    "print(y_test.shape)"
   ]
  },
  {
   "cell_type": "code",
   "execution_count": 196,
   "id": "ec72ddba",
   "metadata": {},
   "outputs": [
    {
     "data": {
      "text/plain": [
       "LinearRegression()"
      ]
     },
     "execution_count": 196,
     "metadata": {},
     "output_type": "execute_result"
    }
   ],
   "source": [
    "lm = linear_model.LinearRegression()\n",
    "lm.fit(X_train,y_train)"
   ]
  },
  {
   "cell_type": "code",
   "execution_count": 197,
   "id": "2b301277",
   "metadata": {},
   "outputs": [
    {
     "data": {
      "text/plain": [
       "0.405221086692653"
      ]
     },
     "execution_count": 197,
     "metadata": {},
     "output_type": "execute_result"
    }
   ],
   "source": [
    "y_pred_train = lm.predict(X_train)\n",
    "r2_score(y_train, y_pred_train)"
   ]
  },
  {
   "cell_type": "code",
   "execution_count": 199,
   "id": "7dd7ba2c",
   "metadata": {},
   "outputs": [
    {
     "name": "stdout",
     "output_type": "stream",
     "text": [
      "R2 score for training is: 0.405221086692653\n",
      "MSE for training is: 51457.97182594199\n",
      "RMSE for training is: 226.84349632718587\n",
      "MAE for training is: 151.88528047604737\n",
      "MAPE for training is: 2.890618328514372\n",
      "------------------------\n",
      "R2 score por testing is: 0.3735688430315812\n",
      "MSE for testing is: 50579.915187946186\n",
      "RMSE for testing is: 224.89978921276514\n",
      "MAE for testing is: 152.20060865037004\n",
      "MAPE for testing is: 2.5414881453188967\n"
     ]
    }
   ],
   "source": [
    "y_pred_train = lm.predict(X_train)\n",
    "y_pred_test = lm.predict(X_test)\n",
    "\n",
    "R2_train = r2_score(y_train, y_pred_train)\n",
    "R2_test = r2_score(y_test, y_pred_test)\n",
    "\n",
    "\n",
    "print(\"R2 score for training is:\", r2_score(y_train, y_pred_train))\n",
    "print(\"MSE for training is:\", mean_squared_error(y_train, y_pred_train))\n",
    "print(\"RMSE for training is:\", np.sqrt(mean_squared_error(y_train, y_pred_train)))\n",
    "print(\"MAE for training is:\", mean_absolute_error(y_train, y_pred_train))\n",
    "print(\"MAPE for training is:\", mean_absolute_percentage_error(y_train, y_pred_train))\n",
    "\n",
    "print(\"------------------------\")\n",
    "\n",
    "print(\"R2 score por testing is:\", r2_score(y_test, y_pred_test))\n",
    "print(\"MSE for testing is:\", mean_squared_error(y_test, y_pred_test))\n",
    "print(\"RMSE for testing is:\", np.sqrt(mean_squared_error(y_test, y_pred_test)))\n",
    "print(\"MAE for testing is:\", mean_absolute_error(y_test, y_pred_test))\n",
    "print(\"MAPE for testing is:\", mean_absolute_percentage_error(y_test, y_pred_test))"
   ]
  },
  {
   "cell_type": "code",
   "execution_count": null,
   "id": "d67ff409",
   "metadata": {},
   "outputs": [],
   "source": [
    "The outcome of the second model is not better. We need more significant correlations to have a better result."
   ]
  }
 ],
 "metadata": {
  "kernelspec": {
   "display_name": "Python 3 (ipykernel)",
   "language": "python",
   "name": "python3"
  },
  "language_info": {
   "codemirror_mode": {
    "name": "ipython",
    "version": 3
   },
   "file_extension": ".py",
   "mimetype": "text/x-python",
   "name": "python",
   "nbconvert_exporter": "python",
   "pygments_lexer": "ipython3",
   "version": "3.9.12"
  }
 },
 "nbformat": 4,
 "nbformat_minor": 5
}
